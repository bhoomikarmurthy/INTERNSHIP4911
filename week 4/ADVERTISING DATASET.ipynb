{
 "cells": [
  {
   "cell_type": "markdown",
   "id": "864a3fd8",
   "metadata": {},
   "source": [
    "# AVERTISING DATASET"
   ]
  },
  {
   "cell_type": "markdown",
   "id": "5b4fa404",
   "metadata": {},
   "source": [
    "The dataset contains statistics about the sales of a product in 200 different markets, together with advertising budgets in each of these markets for different media channels: TV, radio and newspaper.\n",
    "The sales are in thousands of units and the budget is in thousands of dollars.\n",
    "To predict the sales of the product in a particular market based on the advertising budgets for different media channels (TV, radio and newspaper) in that market using K-Nearest Neighbors (KNN) regression."
   ]
  },
  {
   "cell_type": "markdown",
   "id": "da198982",
   "metadata": {},
   "source": [
    "# LOADING THE DATASET :"
   ]
  },
  {
   "cell_type": "code",
   "execution_count": 1,
   "id": "1de47d41",
   "metadata": {},
   "outputs": [
    {
     "name": "stdout",
     "output_type": "stream",
     "text": [
      "        TV    Radio    Newspaper    Sales\n",
      "---  -----  -------  -----------  -------\n",
      "  1  230.1     37.8         69.2     22.1\n",
      "  2   44.5     39.3         45.1     10.4\n",
      "  3   17.2     45.9         69.3      9.3\n",
      "  4  151.5     41.3         58.5     18.5\n",
      "  5  180.8     10.8         58.4     12.9\n",
      "  6    8.7     48.9         75        7.2\n",
      "  7   57.5     32.8         23.5     11.8\n",
      "  8  120.2     19.6         11.6     13.2\n",
      "  9    8.6      2.1          1        4.8\n",
      " 10  199.8      2.6         21.2     10.6\n",
      " 11   66.1      5.8         24.2      8.6\n",
      " 12  214.7     24            4       17.4\n",
      " 13   23.8     35.1         65.9      9.2\n",
      " 14   97.5      7.6          7.2      9.7\n",
      " 15  204.1     32.9         46       19\n",
      " 16  195.4     47.7         52.9     22.4\n",
      " 17   67.8     36.6        114       12.5\n",
      " 18  281.4     39.6         55.8     24.4\n",
      " 19   69.2     20.5         18.3     11.3\n",
      " 20  147.3     23.9         19.1     14.6\n",
      " 21  218.4     27.7         53.4     18\n",
      " 22  237.4      5.1         23.5     12.5\n",
      " 23   13.2     15.9         49.6      5.6\n",
      " 24  228.3     16.9         26.2     15.5\n",
      " 25   62.3     12.6         18.3      9.7\n",
      " 26  262.9      3.5         19.5     12\n",
      " 27  142.9     29.3         12.6     15\n",
      " 28  240.1     16.7         22.9     15.9\n",
      " 29  248.8     27.1         22.9     18.9\n",
      " 30   70.6     16           40.8     10.5\n",
      " 31  292.9     28.3         43.2     21.4\n",
      " 32  112.9     17.4         38.6     11.9\n",
      " 33   97.2      1.5         30        9.6\n",
      " 34  265.6     20            0.3     17.4\n",
      " 35   95.7      1.4          7.4      9.5\n",
      " 36  290.7      4.1          8.5     12.8\n",
      " 37  266.9     43.8          5       25.4\n",
      " 38   74.7     49.4         45.7     14.7\n",
      " 39   43.1     26.7         35.1     10.1\n",
      " 40  228       37.7         32       21.5\n",
      " 41  202.5     22.3         31.6     16.6\n",
      " 42  177       33.4         38.7     17.1\n",
      " 43  293.6     27.7          1.8     20.7\n",
      " 44  206.9      8.4         26.4     12.9\n",
      " 45   25.1     25.7         43.3      8.5\n",
      " 46  175.1     22.5         31.5     14.9\n",
      " 47   89.7      9.9         35.7     10.6\n",
      " 48  239.9     41.5         18.5     23.2\n",
      " 49  227.2     15.8         49.9     14.8\n",
      " 50   66.9     11.7         36.8      9.7\n",
      " 51  199.8      3.1         34.6     11.4\n",
      " 52  100.4      9.6          3.6     10.7\n",
      " 53  216.4     41.7         39.6     22.6\n",
      " 54  182.6     46.2         58.7     21.2\n",
      " 55  262.7     28.8         15.9     20.2\n",
      " 56  198.9     49.4         60       23.7\n",
      " 57    7.3     28.1         41.4      5.5\n",
      " 58  136.2     19.2         16.6     13.2\n",
      " 59  210.8     49.6         37.7     23.8\n",
      " 60  210.7     29.5          9.3     18.4\n",
      " 61   53.5      2           21.4      8.1\n",
      " 62  261.3     42.7         54.7     24.2\n",
      " 63  239.3     15.5         27.3     15.7\n",
      " 64  102.7     29.6          8.4     14\n",
      " 65  131.1     42.8         28.9     18\n",
      " 66   69        9.3          0.9      9.3\n",
      " 67   31.5     24.6          2.2      9.5\n",
      " 68  139.3     14.5         10.2     13.4\n",
      " 69  237.4     27.5         11       18.9\n",
      " 70  216.8     43.9         27.2     22.3\n",
      " 71  199.1     30.6         38.7     18.3\n",
      " 72  109.8     14.3         31.7     12.4\n",
      " 73   26.8     33           19.3      8.8\n",
      " 74  129.4      5.7         31.3     11\n",
      " 75  213.4     24.6         13.1     17\n",
      " 76   16.9     43.7         89.4      8.7\n",
      " 77   27.5      1.6         20.7      6.9\n",
      " 78  120.5     28.5         14.2     14.2\n",
      " 79    5.4     29.9          9.4      5.3\n",
      " 80  116        7.7         23.1     11\n",
      " 81   76.4     26.7         22.3     11.8\n",
      " 82  239.8      4.1         36.9     12.3\n",
      " 83   75.3     20.3         32.5     11.3\n",
      " 84   68.4     44.5         35.6     13.6\n",
      " 85  213.5     43           33.8     21.7\n",
      " 86  193.2     18.4         65.7     15.2\n",
      " 87   76.3     27.5         16       12\n",
      " 88  110.7     40.6         63.2     16\n",
      " 89   88.3     25.5         73.4     12.9\n",
      " 90  109.8     47.8         51.4     16.7\n",
      " 91  134.3      4.9          9.3     11.2\n",
      " 92   28.6      1.5         33        7.3\n",
      " 93  217.7     33.5         59       19.4\n",
      " 94  250.9     36.5         72.3     22.2\n",
      " 95  107.4     14           10.9     11.5\n",
      " 96  163.3     31.6         52.9     16.9\n",
      " 97  197.6      3.5          5.9     11.7\n",
      " 98  184.9     21           22       15.5\n",
      " 99  289.7     42.3         51.2     25.4\n",
      "100  135.2     41.7         45.9     17.2\n",
      "101  222.4      4.3         49.8     11.7\n",
      "102  296.4     36.3        100.9     23.8\n",
      "103  280.2     10.1         21.4     14.8\n",
      "104  187.9     17.2         17.9     14.7\n",
      "105  238.2     34.3          5.3     20.7\n",
      "106  137.9     46.4         59       19.2\n",
      "107   25       11           29.7      7.2\n",
      "108   90.4      0.3         23.2      8.7\n",
      "109   13.1      0.4         25.6      5.3\n",
      "110  255.4     26.9          5.5     19.8\n",
      "111  225.8      8.2         56.5     13.4\n",
      "112  241.7     38           23.2     21.8\n",
      "113  175.7     15.4          2.4     14.1\n",
      "114  209.6     20.6         10.7     15.9\n",
      "115   78.2     46.8         34.5     14.6\n",
      "116   75.1     35           52.7     12.6\n",
      "117  139.2     14.3         25.6     12.2\n",
      "118   76.4      0.8         14.8      9.4\n",
      "119  125.7     36.9         79.2     15.9\n",
      "120   19.4     16           22.3      6.6\n",
      "121  141.3     26.8         46.2     15.5\n",
      "122   18.8     21.7         50.4      7\n",
      "123  224        2.4         15.6     11.6\n",
      "124  123.1     34.6         12.4     15.2\n",
      "125  229.5     32.3         74.2     19.7\n",
      "126   87.2     11.8         25.9     10.6\n",
      "127    7.8     38.9         50.6      6.6\n",
      "128   80.2      0            9.2      8.8\n",
      "129  220.3     49            3.2     24.7\n",
      "130   59.6     12           43.1      9.7\n",
      "131    0.7     39.6          8.7      1.6\n",
      "132  265.2      2.9         43       12.7\n",
      "133    8.4     27.2          2.1      5.7\n",
      "134  219.8     33.5         45.1     19.6\n",
      "135   36.9     38.6         65.6     10.8\n",
      "136   48.3     47            8.5     11.6\n",
      "137   25.6     39            9.3      9.5\n",
      "138  273.7     28.9         59.7     20.8\n",
      "139   43       25.9         20.5      9.6\n",
      "140  184.9     43.9          1.7     20.7\n",
      "141   73.4     17           12.9     10.9\n",
      "142  193.7     35.4         75.6     19.2\n",
      "143  220.5     33.2         37.9     20.1\n",
      "144  104.6      5.7         34.4     10.4\n",
      "145   96.2     14.8         38.9     11.4\n",
      "146  140.3      1.9          9       10.3\n",
      "147  240.1      7.3          8.7     13.2\n",
      "148  243.2     49           44.3     25.4\n",
      "149   38       40.3         11.9     10.9\n",
      "150   44.7     25.8         20.6     10.1\n",
      "151  280.7     13.9         37       16.1\n",
      "152  121        8.4         48.7     11.6\n",
      "153  197.6     23.3         14.2     16.6\n",
      "154  171.3     39.7         37.7     19\n",
      "155  187.8     21.1          9.5     15.6\n",
      "156    4.1     11.6          5.7      3.2\n",
      "157   93.9     43.5         50.5     15.3\n",
      "158  149.8      1.3         24.3     10.1\n",
      "159   11.7     36.9         45.2      7.3\n",
      "160  131.7     18.4         34.6     12.9\n",
      "161  172.5     18.1         30.7     14.4\n",
      "162   85.7     35.8         49.3     13.3\n",
      "163  188.4     18.1         25.6     14.9\n",
      "164  163.5     36.8          7.4     18\n",
      "165  117.2     14.7          5.4     11.9\n",
      "166  234.5      3.4         84.8     11.9\n",
      "167   17.9     37.6         21.6      8\n",
      "168  206.8      5.2         19.4     12.2\n",
      "169  215.4     23.6         57.6     17.1\n",
      "170  284.3     10.6          6.4     15\n",
      "171   50       11.6         18.4      8.4\n",
      "172  164.5     20.9         47.4     14.5\n",
      "173   19.6     20.1         17        7.6\n",
      "174  168.4      7.1         12.8     11.7\n",
      "175  222.4      3.4         13.1     11.5\n",
      "176  276.9     48.9         41.8     27\n",
      "177  248.4     30.2         20.3     20.2\n",
      "178  170.2      7.8         35.2     11.7\n",
      "179  276.7      2.3         23.7     11.8\n",
      "180  165.6     10           17.6     12.6\n",
      "181  156.6      2.6          8.3     10.5\n",
      "182  218.5      5.4         27.4     12.2\n",
      "183   56.2      5.7         29.7      8.7\n",
      "184  287.6     43           71.8     26.2\n",
      "185  253.8     21.3         30       17.6\n",
      "186  205       45.1         19.6     22.6\n",
      "187  139.5      2.1         26.6     10.3\n",
      "188  191.1     28.7         18.2     17.3\n",
      "189  286       13.9          3.7     15.9\n",
      "190   18.7     12.1         23.4      6.7\n",
      "191   39.5     41.1          5.8     10.8\n",
      "192   75.5     10.8          6        9.9\n",
      "193   17.2      4.1         31.6      5.9\n",
      "194  166.8     42            3.6     19.6\n",
      "195  149.7     35.6          6       17.3\n",
      "196   38.2      3.7         13.8      7.6\n",
      "197   94.2      4.9          8.1      9.7\n",
      "198  177        9.3          6.4     12.8\n",
      "199  283.6     42           66.2     25.5\n",
      "200  232.1      8.6          8.7     13.4\n"
     ]
    }
   ],
   "source": [
    "#load the dataset\n",
    "import csv\n",
    "from tabulate import tabulate\n",
    "\n",
    "# Open the CSV file\n",
    "with open('Advertising.csv', 'r') as file:\n",
    "\n",
    "    # Create a CSV reader object\n",
    "    my_reader = csv.reader(file)\n",
    "\n",
    "    # Convert the CSV data to a list of lists\n",
    "    data = list(my_reader)\n",
    "\n",
    "    # Print the data in a tabular format\n",
    "    print(tabulate(data, headers='firstrow'))"
   ]
  },
  {
   "cell_type": "markdown",
   "id": "7804329f",
   "metadata": {},
   "source": [
    "# DROPPING THE ZEROTH COLUMN :"
   ]
  },
  {
   "cell_type": "code",
   "execution_count": 2,
   "id": "3e748e50",
   "metadata": {},
   "outputs": [
    {
     "name": "stdout",
     "output_type": "stream",
     "text": [
      "['TV', 'Radio', 'Newspaper', 'Sales']\n",
      "['230.1', '37.8', '69.2', '22.1']\n",
      "['44.5', '39.3', '45.1', '10.4']\n",
      "['17.2', '45.9', '69.3', '9.3']\n",
      "['151.5', '41.3', '58.5', '18.5']\n",
      "['180.8', '10.8', '58.4', '12.9']\n",
      "['8.7', '48.9', '75', '7.2']\n",
      "['57.5', '32.8', '23.5', '11.8']\n",
      "['120.2', '19.6', '11.6', '13.2']\n",
      "['8.6', '2.1', '1', '4.8']\n",
      "['199.8', '2.6', '21.2', '10.6']\n",
      "['66.1', '5.8', '24.2', '8.6']\n",
      "['214.7', '24', '4', '17.4']\n",
      "['23.8', '35.1', '65.9', '9.2']\n",
      "['97.5', '7.6', '7.2', '9.7']\n",
      "['204.1', '32.9', '46', '19']\n",
      "['195.4', '47.7', '52.9', '22.4']\n",
      "['67.8', '36.6', '114', '12.5']\n",
      "['281.4', '39.6', '55.8', '24.4']\n",
      "['69.2', '20.5', '18.3', '11.3']\n",
      "['147.3', '23.9', '19.1', '14.6']\n",
      "['218.4', '27.7', '53.4', '18']\n",
      "['237.4', '5.1', '23.5', '12.5']\n",
      "['13.2', '15.9', '49.6', '5.6']\n",
      "['228.3', '16.9', '26.2', '15.5']\n",
      "['62.3', '12.6', '18.3', '9.7']\n",
      "['262.9', '3.5', '19.5', '12']\n",
      "['142.9', '29.3', '12.6', '15']\n",
      "['240.1', '16.7', '22.9', '15.9']\n",
      "['248.8', '27.1', '22.9', '18.9']\n",
      "['70.6', '16', '40.8', '10.5']\n",
      "['292.9', '28.3', '43.2', '21.4']\n",
      "['112.9', '17.4', '38.6', '11.9']\n",
      "['97.2', '1.5', '30', '9.6']\n",
      "['265.6', '20', '0.3', '17.4']\n",
      "['95.7', '1.4', '7.4', '9.5']\n",
      "['290.7', '4.1', '8.5', '12.8']\n",
      "['266.9', '43.8', '5', '25.4']\n",
      "['74.7', '49.4', '45.7', '14.7']\n",
      "['43.1', '26.7', '35.1', '10.1']\n",
      "['228', '37.7', '32', '21.5']\n",
      "['202.5', '22.3', '31.6', '16.6']\n",
      "['177', '33.4', '38.7', '17.1']\n",
      "['293.6', '27.7', '1.8', '20.7']\n",
      "['206.9', '8.4', '26.4', '12.9']\n",
      "['25.1', '25.7', '43.3', '8.5']\n",
      "['175.1', '22.5', '31.5', '14.9']\n",
      "['89.7', '9.9', '35.7', '10.6']\n",
      "['239.9', '41.5', '18.5', '23.2']\n",
      "['227.2', '15.8', '49.9', '14.8']\n",
      "['66.9', '11.7', '36.8', '9.7']\n",
      "['199.8', '3.1', '34.6', '11.4']\n",
      "['100.4', '9.6', '3.6', '10.7']\n",
      "['216.4', '41.7', '39.6', '22.6']\n",
      "['182.6', '46.2', '58.7', '21.2']\n",
      "['262.7', '28.8', '15.9', '20.2']\n",
      "['198.9', '49.4', '60', '23.7']\n",
      "['7.3', '28.1', '41.4', '5.5']\n",
      "['136.2', '19.2', '16.6', '13.2']\n",
      "['210.8', '49.6', '37.7', '23.8']\n",
      "['210.7', '29.5', '9.3', '18.4']\n",
      "['53.5', '2', '21.4', '8.1']\n",
      "['261.3', '42.7', '54.7', '24.2']\n",
      "['239.3', '15.5', '27.3', '15.7']\n",
      "['102.7', '29.6', '8.4', '14']\n",
      "['131.1', '42.8', '28.9', '18']\n",
      "['69', '9.3', '0.9', '9.3']\n",
      "['31.5', '24.6', '2.2', '9.5']\n",
      "['139.3', '14.5', '10.2', '13.4']\n",
      "['237.4', '27.5', '11', '18.9']\n",
      "['216.8', '43.9', '27.2', '22.3']\n",
      "['199.1', '30.6', '38.7', '18.3']\n",
      "['109.8', '14.3', '31.7', '12.4']\n",
      "['26.8', '33', '19.3', '8.8']\n",
      "['129.4', '5.7', '31.3', '11']\n",
      "['213.4', '24.6', '13.1', '17']\n",
      "['16.9', '43.7', '89.4', '8.7']\n",
      "['27.5', '1.6', '20.7', '6.9']\n",
      "['120.5', '28.5', '14.2', '14.2']\n",
      "['5.4', '29.9', '9.4', '5.3']\n",
      "['116', '7.7', '23.1', '11']\n",
      "['76.4', '26.7', '22.3', '11.8']\n",
      "['239.8', '4.1', '36.9', '12.3']\n",
      "['75.3', '20.3', '32.5', '11.3']\n",
      "['68.4', '44.5', '35.6', '13.6']\n",
      "['213.5', '43', '33.8', '21.7']\n",
      "['193.2', '18.4', '65.7', '15.2']\n",
      "['76.3', '27.5', '16', '12']\n",
      "['110.7', '40.6', '63.2', '16']\n",
      "['88.3', '25.5', '73.4', '12.9']\n",
      "['109.8', '47.8', '51.4', '16.7']\n",
      "['134.3', '4.9', '9.3', '11.2']\n",
      "['28.6', '1.5', '33', '7.3']\n",
      "['217.7', '33.5', '59', '19.4']\n",
      "['250.9', '36.5', '72.3', '22.2']\n",
      "['107.4', '14', '10.9', '11.5']\n",
      "['163.3', '31.6', '52.9', '16.9']\n",
      "['197.6', '3.5', '5.9', '11.7']\n",
      "['184.9', '21', '22', '15.5']\n",
      "['289.7', '42.3', '51.2', '25.4']\n",
      "['135.2', '41.7', '45.9', '17.2']\n",
      "['222.4', '4.3', '49.8', '11.7']\n",
      "['296.4', '36.3', '100.9', '23.8']\n",
      "['280.2', '10.1', '21.4', '14.8']\n",
      "['187.9', '17.2', '17.9', '14.7']\n",
      "['238.2', '34.3', '5.3', '20.7']\n",
      "['137.9', '46.4', '59', '19.2']\n",
      "['25', '11', '29.7', '7.2']\n",
      "['90.4', '0.3', '23.2', '8.7']\n",
      "['13.1', '0.4', '25.6', '5.3']\n",
      "['255.4', '26.9', '5.5', '19.8']\n",
      "['225.8', '8.2', '56.5', '13.4']\n",
      "['241.7', '38', '23.2', '21.8']\n",
      "['175.7', '15.4', '2.4', '14.1']\n",
      "['209.6', '20.6', '10.7', '15.9']\n",
      "['78.2', '46.8', '34.5', '14.6']\n",
      "['75.1', '35', '52.7', '12.6']\n",
      "['139.2', '14.3', '25.6', '12.2']\n",
      "['76.4', '0.8', '14.8', '9.4']\n",
      "['125.7', '36.9', '79.2', '15.9']\n",
      "['19.4', '16', '22.3', '6.6']\n",
      "['141.3', '26.8', '46.2', '15.5']\n",
      "['18.8', '21.7', '50.4', '7']\n",
      "['224', '2.4', '15.6', '11.6']\n",
      "['123.1', '34.6', '12.4', '15.2']\n",
      "['229.5', '32.3', '74.2', '19.7']\n",
      "['87.2', '11.8', '25.9', '10.6']\n",
      "['7.8', '38.9', '50.6', '6.6']\n",
      "['80.2', '0', '9.2', '8.8']\n",
      "['220.3', '49', '3.2', '24.7']\n",
      "['59.6', '12', '43.1', '9.7']\n",
      "['0.7', '39.6', '8.7', '1.6']\n",
      "['265.2', '2.9', '43', '12.7']\n",
      "['8.4', '27.2', '2.1', '5.7']\n",
      "['219.8', '33.5', '45.1', '19.6']\n",
      "['36.9', '38.6', '65.6', '10.8']\n",
      "['48.3', '47', '8.5', '11.6']\n",
      "['25.6', '39', '9.3', '9.5']\n",
      "['273.7', '28.9', '59.7', '20.8']\n",
      "['43', '25.9', '20.5', '9.6']\n",
      "['184.9', '43.9', '1.7', '20.7']\n",
      "['73.4', '17', '12.9', '10.9']\n",
      "['193.7', '35.4', '75.6', '19.2']\n",
      "['220.5', '33.2', '37.9', '20.1']\n",
      "['104.6', '5.7', '34.4', '10.4']\n",
      "['96.2', '14.8', '38.9', '11.4']\n",
      "['140.3', '1.9', '9', '10.3']\n",
      "['240.1', '7.3', '8.7', '13.2']\n",
      "['243.2', '49', '44.3', '25.4']\n",
      "['38', '40.3', '11.9', '10.9']\n",
      "['44.7', '25.8', '20.6', '10.1']\n",
      "['280.7', '13.9', '37', '16.1']\n",
      "['121', '8.4', '48.7', '11.6']\n",
      "['197.6', '23.3', '14.2', '16.6']\n",
      "['171.3', '39.7', '37.7', '19']\n",
      "['187.8', '21.1', '9.5', '15.6']\n",
      "['4.1', '11.6', '5.7', '3.2']\n",
      "['93.9', '43.5', '50.5', '15.3']\n",
      "['149.8', '1.3', '24.3', '10.1']\n",
      "['11.7', '36.9', '45.2', '7.3']\n",
      "['131.7', '18.4', '34.6', '12.9']\n",
      "['172.5', '18.1', '30.7', '14.4']\n",
      "['85.7', '35.8', '49.3', '13.3']\n",
      "['188.4', '18.1', '25.6', '14.9']\n",
      "['163.5', '36.8', '7.4', '18']\n",
      "['117.2', '14.7', '5.4', '11.9']\n",
      "['234.5', '3.4', '84.8', '11.9']\n",
      "['17.9', '37.6', '21.6', '8']\n",
      "['206.8', '5.2', '19.4', '12.2']\n",
      "['215.4', '23.6', '57.6', '17.1']\n",
      "['284.3', '10.6', '6.4', '15']\n",
      "['50', '11.6', '18.4', '8.4']\n",
      "['164.5', '20.9', '47.4', '14.5']\n",
      "['19.6', '20.1', '17', '7.6']\n",
      "['168.4', '7.1', '12.8', '11.7']\n",
      "['222.4', '3.4', '13.1', '11.5']\n",
      "['276.9', '48.9', '41.8', '27']\n",
      "['248.4', '30.2', '20.3', '20.2']\n",
      "['170.2', '7.8', '35.2', '11.7']\n",
      "['276.7', '2.3', '23.7', '11.8']\n",
      "['165.6', '10', '17.6', '12.6']\n",
      "['156.6', '2.6', '8.3', '10.5']\n",
      "['218.5', '5.4', '27.4', '12.2']\n",
      "['56.2', '5.7', '29.7', '8.7']\n",
      "['287.6', '43', '71.8', '26.2']\n",
      "['253.8', '21.3', '30', '17.6']\n",
      "['205', '45.1', '19.6', '22.6']\n",
      "['139.5', '2.1', '26.6', '10.3']\n",
      "['191.1', '28.7', '18.2', '17.3']\n",
      "['286', '13.9', '3.7', '15.9']\n",
      "['18.7', '12.1', '23.4', '6.7']\n",
      "['39.5', '41.1', '5.8', '10.8']\n",
      "['75.5', '10.8', '6', '9.9']\n",
      "['17.2', '4.1', '31.6', '5.9']\n",
      "['166.8', '42', '3.6', '19.6']\n",
      "['149.7', '35.6', '6', '17.3']\n",
      "['38.2', '3.7', '13.8', '7.6']\n",
      "['94.2', '4.9', '8.1', '9.7']\n",
      "['177', '9.3', '6.4', '12.8']\n",
      "['283.6', '42', '66.2', '25.5']\n",
      "['232.1', '8.6', '8.7', '13.4']\n"
     ]
    }
   ],
   "source": [
    "#to drop zeroth index column as it is of no use in our prediction and also does not effect our dataset.\n",
    "# and print the new dataset with new file name.\n",
    "\n",
    "# Open the CSV file for reading and create a new CSV file for writing\n",
    "with open('Advertising.csv', 'r') as input_file, open('Advertising_new.csv', 'w', newline='') as output_file:\n",
    "    # Create a CSV reader and writer objects\n",
    "    reader = csv.reader(input_file)\n",
    "    writer = csv.writer(output_file)\n",
    "    \n",
    "    # Iterate over each row in the input file\n",
    "    for row in reader:\n",
    "        # Write all columns except for the first one to the output file\n",
    "        writer.writerow(row[1:])\n",
    "        \n",
    "# Open the new CSV file for reading and print the contents\n",
    "with open('Advertising_new.csv', 'r') as new_file:\n",
    "    reader = csv.reader(new_file)\n",
    "    for row in reader:\n",
    "        print(row)"
   ]
  },
  {
   "cell_type": "markdown",
   "id": "f27571c8",
   "metadata": {},
   "source": [
    "# READING FIRST FIVE ROWS :"
   ]
  },
  {
   "cell_type": "code",
   "execution_count": 3,
   "id": "4f301790",
   "metadata": {},
   "outputs": [
    {
     "name": "stdout",
     "output_type": "stream",
     "text": [
      "TV,Radio,Newspaper,Sales\n",
      "230.1,37.8,69.2,22.1\n",
      "44.5,39.3,45.1,10.4\n",
      "17.2,45.9,69.3,9.3\n",
      "151.5,41.3,58.5,18.5\n"
     ]
    }
   ],
   "source": [
    "# to read the first five lines of a file\n",
    "with open('Advertising_new.csv', 'r') as file:\n",
    "    # Read all the lines in the file and store them in a list\n",
    "    lines = file.readlines()\n",
    "    \n",
    "    # Iterate over the last five lines in the list and print them\n",
    "    for line in lines[:5]:\n",
    "        print(line.strip())"
   ]
  },
  {
   "cell_type": "markdown",
   "id": "3763ce2a",
   "metadata": {},
   "source": [
    "# READING LAST FIVE ROWS : "
   ]
  },
  {
   "cell_type": "code",
   "execution_count": 4,
   "id": "aa156916",
   "metadata": {},
   "outputs": [
    {
     "name": "stdout",
     "output_type": "stream",
     "text": [
      "38.2,3.7,13.8,7.6\n",
      "94.2,4.9,8.1,9.7\n",
      "177,9.3,6.4,12.8\n",
      "283.6,42,66.2,25.5\n",
      "232.1,8.6,8.7,13.4\n"
     ]
    }
   ],
   "source": [
    "# to read the last five lines of a file\n",
    "with open('Advertising_new.csv', 'r') as file:\n",
    "    # Read all the lines in the file and store them in a list\n",
    "    lines = file.readlines()\n",
    "    \n",
    "    # Iterate over the last five lines in the list and print them\n",
    "    for line in lines[-5:]:\n",
    "        print(line.strip())"
   ]
  },
  {
   "cell_type": "markdown",
   "id": "4bbed6c8",
   "metadata": {},
   "source": [
    "# PRINTING SHAPE OF DATASET :"
   ]
  },
  {
   "cell_type": "code",
   "execution_count": 5,
   "id": "8babb2fa",
   "metadata": {},
   "outputs": [
    {
     "name": "stdout",
     "output_type": "stream",
     "text": [
      "Dataset shape: 200 rows, 4 columns\n"
     ]
    }
   ],
   "source": [
    "# to print the shape of the dataset\n",
    "with open('Advertising_new.csv', 'r') as file:\n",
    "    # Count the number of lines in the file\n",
    "    num_rows = sum(1 for line in file)\n",
    "    \n",
    "    # Move the file pointer back to the beginning of the file\n",
    "    file.seek(0)\n",
    "    \n",
    "    # Read the first line in the file, which contains the data types\n",
    "    data_types = file.readline().strip().split(',')\n",
    "    \n",
    "    # Count the number of data types to get the number of columns\n",
    "    num_cols = len(data_types)\n",
    "    \n",
    "    # Print the shape of the dataset\n",
    "    print(\"Dataset shape:\", num_rows - 1, \"rows,\", num_cols, \"columns\")"
   ]
  },
  {
   "cell_type": "markdown",
   "id": "5c1d9c37",
   "metadata": {},
   "source": [
    "# READING COLUMN NAMES OF DATASET :"
   ]
  },
  {
   "cell_type": "code",
   "execution_count": 6,
   "id": "5662b598",
   "metadata": {},
   "outputs": [
    {
     "name": "stdout",
     "output_type": "stream",
     "text": [
      "['TV', 'Radio', 'Newspaper', 'Sales']\n"
     ]
    }
   ],
   "source": [
    "# to read the column names of a file \n",
    "with open('Advertising_new.csv', 'r') as file:\n",
    "    # Read the first line in the file, which contains the data types\n",
    "    data_types = file.readline().strip().split(',')\n",
    "    print(data_types)"
   ]
  },
  {
   "cell_type": "markdown",
   "id": "21a22124",
   "metadata": {},
   "source": [
    "# GET THE COUNT OF DATASET :"
   ]
  },
  {
   "cell_type": "code",
   "execution_count": 7,
   "id": "05d894e1",
   "metadata": {},
   "outputs": [
    {
     "name": "stdout",
     "output_type": "stream",
     "text": [
      "TV: 200\n",
      "Radio: 200\n",
      "Newspaper: 200\n",
      "Sales: 200\n"
     ]
    }
   ],
   "source": [
    "# to print the count of dataset\n",
    "with open('Advertising_new.csv', 'r') as file:\n",
    "    # Read the first line in the file, which contains the column names\n",
    "    col_names = file.readline().strip().split(',')\n",
    "\n",
    "    # Initialize a dictionary to store the count of non-empty strings for each column\n",
    "    col_counts = {}\n",
    "    for col_name in col_names:\n",
    "        col_counts[col_name] = 0\n",
    "    \n",
    "    # Loop over the remaining lines in the file and count the non-empty strings for each column\n",
    "    for line in file:\n",
    "        values = line.strip().split(',')\n",
    "        for i, value in enumerate(values):\n",
    "            if value.strip() != '':\n",
    "                col_counts[col_names[i]] += 1\n",
    "    \n",
    "    # Print the count of non-empty strings for each column\n",
    "    for col_name in col_names:\n",
    "        print(f\"{col_name}: {col_counts[col_name]}\")"
   ]
  },
  {
   "cell_type": "markdown",
   "id": "138f0468",
   "metadata": {},
   "source": [
    "# GET THE INFORMATION ABOUT DATASET :"
   ]
  },
  {
   "cell_type": "code",
   "execution_count": 8,
   "id": "d20b15b1",
   "metadata": {},
   "outputs": [
    {
     "name": "stdout",
     "output_type": "stream",
     "text": [
      "Total number of rows: 224\n",
      "Total number of columns: 4\n",
      "Column names: ['TV', 'Radio', 'Newspaper', 'Sales']\n",
      "Column data types: {0: 'string'}\n",
      "Memory usage: 360 bytes\n"
     ]
    }
   ],
   "source": [
    "# to print the information of dataset\n",
    "# Initialize variables\n",
    "num_rows = 0\n",
    "num_cols = 0\n",
    "col_names = []\n",
    "col_types = {}\n",
    "memory_usage = 0\n",
    "\n",
    "# Open the CSV file and read the first line (which contains column names)\n",
    "with open('Advertising_new.csv', 'r') as file:\n",
    "    header = file.readline().rstrip('\\n')\n",
    "    col_names = header.split(',')\n",
    "    num_cols = len(col_names)\n",
    "\n",
    "    # Loop through each line in the file\n",
    "    for line in file:\n",
    "        # Increment the row count\n",
    "        num_rows += 1\n",
    "        \n",
    "    # Iterate over the rows of data to infer the data types\n",
    "    for row in header:\n",
    "        num_rows += 1\n",
    "        for i, value in enumerate(row):\n",
    "            # Try to convert the value to int\n",
    "            try:\n",
    "                int(value)\n",
    "                if col_types[i] != 'float':\n",
    "                    col_types[i] = 'int'\n",
    "            # If it's not an int, try to convert it to float\n",
    "            except ValueError:\n",
    "                try:\n",
    "                    float(value)\n",
    "                    col_types[i] = 'float'\n",
    "                # If it's not a float, assume it's a string\n",
    "                except ValueError:\n",
    "                    col_types[i] = 'string'\n",
    "\n",
    "\n",
    "        # Split the line into fields\n",
    "        fields = line.rstrip('\\n').split(',')\n",
    "\n",
    "        # Update memory usage based on number of fields and their sizes\n",
    "        memory_usage += sum([len(str(field)) for field in fields])\n",
    "\n",
    "        \n",
    "\n",
    "# Print the information about the dataset\n",
    "print(\"Total number of rows:\", num_rows)\n",
    "print(\"Total number of columns:\", num_cols)\n",
    "print(\"Column names:\", col_names)\n",
    "print(\"Column data types:\", col_types)\n",
    "print(\"Memory usage:\", memory_usage, \"bytes\")"
   ]
  },
  {
   "cell_type": "markdown",
   "id": "f86122f1",
   "metadata": {},
   "source": [
    "# DESCRIBING THE DATASET :"
   ]
  },
  {
   "cell_type": "code",
   "execution_count": 9,
   "id": "7f671175",
   "metadata": {},
   "outputs": [
    {
     "name": "stdout",
     "output_type": "stream",
     "text": [
      "TV: count=200, min=0.7, max=296.4, mean=147.0425, std=85.63933175679271\n",
      "Radio: count=200, min=0.0, max=49.6, mean=23.264000000000024, std=14.809645640595184\n",
      "Newspaper: count=200, min=0.3, max=114.0, mean=30.553999999999995, std=21.724106057557357\n",
      "Sales: count=200, min=1.6, max=27.0, mean=14.022500000000003, std=5.204396578855227\n"
     ]
    }
   ],
   "source": [
    "# to print the description of data set\n",
    "# Read the CSV file and calculate the summary statistics for each column\n",
    "with open('Advertising_new.csv', 'r') as file:\n",
    "    reader = csv.reader(file)\n",
    "    header = next(reader)  # Get the header row\n",
    "    data = [[] for _ in range(len(header))]\n",
    "    for row in reader:\n",
    "        for i in range(len(row)):#index i used to access the corresponding list in data.\n",
    "            try:\n",
    "                data[i].append(float(row[i]))\n",
    "            except ValueError:\n",
    "                pass  # placeholder to indicate that no action should be taken\n",
    "\n",
    "# Print the summary statistics for each column\n",
    "for i in range(len(header)):\n",
    "    column_data = data[i]\n",
    "    count = len(column_data)\n",
    "    if count == 0:\n",
    "        continue\n",
    "    minimum = min(column_data)\n",
    "    maximum = max(column_data)\n",
    "    mean = sum(column_data) / count\n",
    "    variance = sum((x - mean) ** 2 for x in column_data) / count\n",
    "    std_dev = variance ** 0.5\n",
    "    print(f\"{header[i]}: count={count}, min={minimum}, max={maximum}, mean={mean}, std={std_dev}\")"
   ]
  },
  {
   "cell_type": "markdown",
   "id": "b46f7a75",
   "metadata": {},
   "source": [
    "# GET THE UNIQUE VALUES IN DATASET :"
   ]
  },
  {
   "cell_type": "code",
   "execution_count": 10,
   "id": "f3ce3d5a",
   "metadata": {},
   "outputs": [
    {
     "name": "stdout",
     "output_type": "stream",
     "text": [
      "TV: 190 unique values\n",
      "Radio: 167 unique values\n",
      "Newspaper: 172 unique values\n",
      "Sales: 121 unique values\n"
     ]
    }
   ],
   "source": [
    "# to print unique values of dataset\n",
    "\n",
    "# Read the CSV file and count the number of unique values in each column\n",
    "with open('Advertising_new.csv', 'r') as file:\n",
    "    reader = csv.reader(file)\n",
    "    header = next(reader)  # Get the header row\n",
    "    unique_counts = [set() for _ in range(len(header))]\n",
    "    for row in reader:\n",
    "        for i in range(len(row)):\n",
    "            unique_counts[i].add(row[i])\n",
    "\n",
    "# Print the number of unique values in each column\n",
    "for i in range(len(header)):\n",
    "    column_name = header[i]\n",
    "    num_unique = len(unique_counts[i])\n",
    "    print(f\"{column_name}: {num_unique} unique values\")"
   ]
  },
  {
   "cell_type": "markdown",
   "id": "eaad0ef0",
   "metadata": {},
   "source": [
    "# GET THE DUPLICATED VALUES IN DATASET :"
   ]
  },
  {
   "cell_type": "code",
   "execution_count": 11,
   "id": "0066e11c",
   "metadata": {},
   "outputs": [
    {
     "name": "stdout",
     "output_type": "stream",
     "text": [
      "Total number of duplicated values: 0\n"
     ]
    }
   ],
   "source": [
    "# to check total number of duplicated values in dataset\n",
    "# Load data from file\n",
    "with open('Advertising_new.csv', 'r') as file:\n",
    "    data = file.readlines()\n",
    "\n",
    "# Count the total number of duplicated values\n",
    "seen = set()\n",
    "duplicates = 0\n",
    "for row in data:\n",
    "    if row in seen:\n",
    "        duplicates += 1\n",
    "    else:\n",
    "        seen.add(row)\n",
    "\n",
    "# Print the total number of duplicated values\n",
    "print(\"Total number of duplicated values: {}\".format(duplicates))\n"
   ]
  },
  {
   "cell_type": "markdown",
   "id": "8d52aac1",
   "metadata": {},
   "source": [
    "# VISUALIZING THE OUTPUT COLUMN :"
   ]
  },
  {
   "cell_type": "code",
   "execution_count": 12,
   "id": "675f7fb9",
   "metadata": {},
   "outputs": [
    {
     "data": {
      "image/png": "[encoded data removed]",
      "text/plain": [
       "<Figure size 640x480 with 1 Axes>"
      ]
     },
     "metadata": {},
     "output_type": "display_data"
    }
   ],
   "source": [
    "# to plot the output column distribution in dataset\n",
    "import matplotlib.pyplot as plt\n",
    "\n",
    "# Load data from file\n",
    "with open('Advertising_new.csv', 'r') as file:\n",
    "    reader = csv.reader(file)\n",
    "    next(reader)  \n",
    "    column_data = [float(row[3]) for row in reader]  # Assumes data is in the 3 column\n",
    "\n",
    "# Plot the histogram of the column data\n",
    "plt.hist(column_data, bins=8)\n",
    "plt.xlabel('Bin Ranges')\n",
    "plt.ylabel('Sales')\n",
    "plt.title('Distribution of Column Data')\n",
    "plt.show()\n"
   ]
  },
  {
   "cell_type": "markdown",
   "id": "6034d32d",
   "metadata": {},
   "source": [
    "By observing the above graph we can say that our graph is left skeewed because most of the data lies in the right side of the graph and the left tail of the graph is skeewed. Hence we can say it as left-skeewed graph."
   ]
  },
  {
   "cell_type": "markdown",
   "id": "fc72613b",
   "metadata": {},
   "source": [
    "# PRINTING THE CORRELATION MATRIX OF DATASET :"
   ]
  },
  {
   "cell_type": "code",
   "execution_count": 13,
   "id": "f61798c3",
   "metadata": {},
   "outputs": [
    {
     "name": "stdout",
     "output_type": "stream",
     "text": [
      "          Radio Newspaper Sales    TV\n",
      "Radio      1.00      0.35  0.58  0.05\n",
      "Newspaper  0.35      1.00  0.23  0.06\n",
      "Sales      0.58      0.23  1.00  0.78\n",
      "TV         0.05      0.06  0.78  1.00\n"
     ]
    }
   ],
   "source": [
    "# to print the correlation of matrix in dataset\n",
    "\n",
    "import pandas as pd\n",
    "\n",
    "# Step 1: Load the dataset into a pandas DataFrame\n",
    "df = pd.read_csv(\"Advertising_new.csv\")\n",
    "\n",
    "# Step 2: Compute the mean and standard deviation of each column\n",
    "means = df.mean()\n",
    "stds = df.std()\n",
    "\n",
    "# Step 3: Compute the covariance between each pair of columns\n",
    "#covariances define how much each variables change together\n",
    "covariances = df.cov()\n",
    "\n",
    "# Step 4: Compute the correlation between each pair of columns\n",
    "correlations = pd.DataFrame(index=df.columns[1:], columns=df.columns[1:])\n",
    "\n",
    "for i in df.columns:\n",
    "    for j in df.columns:\n",
    "        correlation = covariances.loc[i,j] / (stds[i] * stds[j])\n",
    "        correlations.loc[i,j] = f\"{correlation:.2f}\"\n",
    "\n",
    "# Print the resulting correlation matrix\n",
    "print(correlations)\n",
    "\n"
   ]
  },
  {
   "cell_type": "markdown",
   "id": "b5def65e",
   "metadata": {},
   "source": [
    "# VISUALIZING THE CORRELATION MATRIX :"
   ]
  },
  {
   "cell_type": "code",
   "execution_count": 14,
   "id": "fcfa4f75",
   "metadata": {},
   "outputs": [
    {
     "data": {
      "image/png": "[encoded data removed]",
      "text/plain": [
       "<Figure size 640x480 with 2 Axes>"
      ]
     },
     "metadata": {},
     "output_type": "display_data"
    }
   ],
   "source": [
    "import pandas as pd\n",
    "import seaborn as sns\n",
    "import matplotlib.pyplot as plt\n",
    "\n",
    "# Step 1: Load the dataset into a pandas DataFrame\n",
    "df = pd.read_csv(\"Advertising_new.csv\")\n",
    "\n",
    "# Step 2: Compute the mean and standard deviation of each column\n",
    "means = df.mean()\n",
    "stds = df.std()\n",
    "\n",
    "# Step 3: Compute the covariance between each pair of columns\n",
    "covariances = df.cov()\n",
    "\n",
    "# Step 4: Compute the correlation between each pair of columns\n",
    "correlations = pd.DataFrame(index=df.columns[1:], columns=df.columns[1:])\n",
    "\n",
    "for i in df.columns:\n",
    "    for j in df.columns:\n",
    "        correlation = covariances.loc[i,j] / (stds[i] * stds[j])\n",
    "        correlations.loc[i,j] = correlation\n",
    "\n",
    "# Step 5: Plot the heatmap of the correlation matrix\n",
    "sns.heatmap(correlations.astype(float), annot=True)\n",
    "plt.title(\"Correlation Matrix\")\n",
    "plt.show()\n"
   ]
  },
  {
   "cell_type": "markdown",
   "id": "b0bc5fd7",
   "metadata": {},
   "source": [
    "By observing the above graph we can say that the 'TV' and 'Sales' variables are highly correlated to each other which means that the 'TV' and the 'Sales' variables explain how much the one variable is dependant on the other variable in a dataset."
   ]
  },
  {
   "cell_type": "markdown",
   "id": "3aabaeb4",
   "metadata": {},
   "source": [
    "# VISUALIZING THE HIGHLY CORRELATED VARIABLES :"
   ]
  },
  {
   "cell_type": "code",
   "execution_count": 15,
   "id": "242cfe73",
   "metadata": {},
   "outputs": [
    {
     "data": {
      "image/png": "[encoded data removed]",
      "text/plain": [
       "<Figure size 640x480 with 1 Axes>"
      ]
     },
     "metadata": {},
     "output_type": "display_data"
    }
   ],
   "source": [
    "# Plot the scatter plot of TV vs Sales\n",
    "plt.scatter(df[\"TV\"], df[\"Sales\"])\n",
    "plt.xlabel(\"TV\")\n",
    "plt.ylabel(\"Sales\")\n",
    "plt.title(\"TV vs Sales\")\n",
    "plt.show()\n"
   ]
  },
  {
   "cell_type": "markdown",
   "id": "d16b596e",
   "metadata": {},
   "source": [
    "In this plot we have taken two variables which are highly correlated to each other and plotted a scatter plot which describes that as the TV budget increases the sales also increases."
   ]
  },
  {
   "cell_type": "markdown",
   "id": "ea61012c",
   "metadata": {},
   "source": [
    "# CHECKING THE OUTLIERS IN DATASET :"
   ]
  },
  {
   "cell_type": "code",
   "execution_count": 16,
   "id": "d18a8699",
   "metadata": {},
   "outputs": [
    {
     "data": {
      "image/png": "[encoded data removed]",
      "text/plain": [
       "<Figure size 640x480 with 1 Axes>"
      ]
     },
     "metadata": {},
     "output_type": "display_data"
    },
    {
     "data": {
      "image/png": "[encoded data removed]",
      "text/plain": [
       "<Figure size 640x480 with 1 Axes>"
      ]
     },
     "metadata": {},
     "output_type": "display_data"
    },
    {
     "data": {
      "image/png": "[encoded data removed]",
      "text/plain": [
       "<Figure size 640x480 with 1 Axes>"
      ]
     },
     "metadata": {},
     "output_type": "display_data"
    },
    {
     "data": {
      "image/png": "[encoded data removed]",
      "text/plain": [
       "<Figure size 640x480 with 1 Axes>"
      ]
     },
     "metadata": {},
     "output_type": "display_data"
    }
   ],
   "source": [
    "# to check the outliers in dataset\n",
    "# Plot the boxplot for each variable\n",
    "for column in df.columns[0:]:\n",
    "    plt.figure()\n",
    "    plt.boxplot(df[column])\n",
    "    plt.xlabel(column)\n",
    "    plt.title(\"Boxplot of \" + column)\n",
    "\n",
    "plt.show()\n"
   ]
  },
  {
   "cell_type": "markdown",
   "id": "2fc242c8",
   "metadata": {},
   "source": [
    "By the above observation we can say that \"Newspaper\" variable has the outliers present with-in it."
   ]
  },
  {
   "cell_type": "markdown",
   "id": "9bf6329b",
   "metadata": {},
   "source": [
    "# IMPUTING THE OUTLIERS :"
   ]
  },
  {
   "cell_type": "code",
   "execution_count": 17,
   "id": "112a6d0c",
   "metadata": {},
   "outputs": [
    {
     "name": "stdout",
     "output_type": "stream",
     "text": [
      "2 outliers were imputed.\n"
     ]
    }
   ],
   "source": [
    "# to impute outliers present in 'Newspaper' column\n",
    "\n",
    "import numpy as np\n",
    "\n",
    "# Open the CSV file for reading\n",
    "with open('Advertising_new.csv', newline='') as csvfile:\n",
    "    reader = csv.reader(csvfile)\n",
    "\n",
    "    # Extract the first row, which contains the column names\n",
    "    header = next(reader)\n",
    "\n",
    "    # Find the index of the \"Newspaper\" column\n",
    "    newspaper_col_index = header.index('Newspaper')\n",
    "\n",
    "    # Extract the \"Newspaper\" column as input data\n",
    "    X = []\n",
    "    for row in reader:\n",
    "        newspaper = float(row[newspaper_col_index])\n",
    "        X.append(newspaper)\n",
    "\n",
    "# Identify any potential outliers in the \"Newspaper\" column\n",
    "q1, q3 = np.percentile(X, [25, 75])\n",
    "iqr = q3 - q1\n",
    "lower_bound = q1 - (1.5 * iqr)\n",
    "upper_bound = q3 + (1.5 * iqr)\n",
    "\n",
    "outliers = [val for val in X if val < lower_bound or val > upper_bound]\n",
    "\n",
    "# Impute the outliers by replacing them with the maximum value within the range\n",
    "max_val = max([val for val in X if val >= lower_bound and val <= upper_bound])\n",
    "for i, val in enumerate(X):\n",
    "    if val < lower_bound or val > upper_bound:\n",
    "        X[i] = max_val\n",
    "\n",
    "# Print the number of outliers that were imputed\n",
    "print(f'{len(outliers)} outliers were imputed.')"
   ]
  },
  {
   "cell_type": "markdown",
   "id": "71ca471a",
   "metadata": {},
   "source": [
    "# GETTING THE MISSING VALUES SUM :"
   ]
  },
  {
   "cell_type": "code",
   "execution_count": 18,
   "id": "879d646b",
   "metadata": {},
   "outputs": [
    {
     "name": "stdout",
     "output_type": "stream",
     "text": [
      "Sum of missing values: 0\n"
     ]
    }
   ],
   "source": [
    "# checking the sum of missing value in dataset\n",
    "\n",
    "with open('Advertising_new.csv', 'r') as file:\n",
    "    # Skip the header row\n",
    "    next(file)\n",
    "    \n",
    "    # Initialize counters\n",
    "    missing_sum = 0\n",
    "    missing_count = 0\n",
    "    \n",
    "    # Loop over rows\n",
    "    for row in file:\n",
    "        values = row.strip().split(',')\n",
    "        # Loop over values in row\n",
    "        for value in values:\n",
    "            # Check if value is missing\n",
    "            if value == '' or value == 'NA':\n",
    "                missing_sum += 1\n",
    "                missing_count += 1\n",
    "    \n",
    "   \n",
    "    # Print results\n",
    "    print(\"Sum of missing values:\", missing_sum)\n",
    "    "
   ]
  },
  {
   "cell_type": "markdown",
   "id": "a8c62b8d",
   "metadata": {},
   "source": [
    "# SEPARATING INPUT AND OUTPUT COLUMNS :"
   ]
  },
  {
   "cell_type": "code",
   "execution_count": 19,
   "id": "93ddb0bc",
   "metadata": {},
   "outputs": [
    {
     "name": "stdout",
     "output_type": "stream",
     "text": [
      "Input data (X):\n",
      "[230.1, 37.8, 69.2]\n",
      "[44.5, 39.3, 45.1]\n",
      "[17.2, 45.9, 69.3]\n",
      "[151.5, 41.3, 58.5]\n",
      "[180.8, 10.8, 58.4]\n",
      "[8.7, 48.9, 75.0]\n",
      "[57.5, 32.8, 23.5]\n",
      "[120.2, 19.6, 11.6]\n",
      "[8.6, 2.1, 1.0]\n",
      "[199.8, 2.6, 21.2]\n",
      "[66.1, 5.8, 24.2]\n",
      "[214.7, 24.0, 4.0]\n",
      "[23.8, 35.1, 65.9]\n",
      "[97.5, 7.6, 7.2]\n",
      "[204.1, 32.9, 46.0]\n",
      "[195.4, 47.7, 52.9]\n",
      "[67.8, 36.6, 114.0]\n",
      "[281.4, 39.6, 55.8]\n",
      "[69.2, 20.5, 18.3]\n",
      "[147.3, 23.9, 19.1]\n",
      "[218.4, 27.7, 53.4]\n",
      "[237.4, 5.1, 23.5]\n",
      "[13.2, 15.9, 49.6]\n",
      "[228.3, 16.9, 26.2]\n",
      "[62.3, 12.6, 18.3]\n",
      "[262.9, 3.5, 19.5]\n",
      "[142.9, 29.3, 12.6]\n",
      "[240.1, 16.7, 22.9]\n",
      "[248.8, 27.1, 22.9]\n",
      "[70.6, 16.0, 40.8]\n",
      "[292.9, 28.3, 43.2]\n",
      "[112.9, 17.4, 38.6]\n",
      "[97.2, 1.5, 30.0]\n",
      "[265.6, 20.0, 0.3]\n",
      "[95.7, 1.4, 7.4]\n",
      "[290.7, 4.1, 8.5]\n",
      "[266.9, 43.8, 5.0]\n",
      "[74.7, 49.4, 45.7]\n",
      "[43.1, 26.7, 35.1]\n",
      "[228.0, 37.7, 32.0]\n",
      "[202.5, 22.3, 31.6]\n",
      "[177.0, 33.4, 38.7]\n",
      "[293.6, 27.7, 1.8]\n",
      "[206.9, 8.4, 26.4]\n",
      "[25.1, 25.7, 43.3]\n",
      "[175.1, 22.5, 31.5]\n",
      "[89.7, 9.9, 35.7]\n",
      "[239.9, 41.5, 18.5]\n",
      "[227.2, 15.8, 49.9]\n",
      "[66.9, 11.7, 36.8]\n",
      "[199.8, 3.1, 34.6]\n",
      "[100.4, 9.6, 3.6]\n",
      "[216.4, 41.7, 39.6]\n",
      "[182.6, 46.2, 58.7]\n",
      "[262.7, 28.8, 15.9]\n",
      "[198.9, 49.4, 60.0]\n",
      "[7.3, 28.1, 41.4]\n",
      "[136.2, 19.2, 16.6]\n",
      "[210.8, 49.6, 37.7]\n",
      "[210.7, 29.5, 9.3]\n",
      "[53.5, 2.0, 21.4]\n",
      "[261.3, 42.7, 54.7]\n",
      "[239.3, 15.5, 27.3]\n",
      "[102.7, 29.6, 8.4]\n",
      "[131.1, 42.8, 28.9]\n",
      "[69.0, 9.3, 0.9]\n",
      "[31.5, 24.6, 2.2]\n",
      "[139.3, 14.5, 10.2]\n",
      "[237.4, 27.5, 11.0]\n",
      "[216.8, 43.9, 27.2]\n",
      "[199.1, 30.6, 38.7]\n",
      "[109.8, 14.3, 31.7]\n",
      "[26.8, 33.0, 19.3]\n",
      "[129.4, 5.7, 31.3]\n",
      "[213.4, 24.6, 13.1]\n",
      "[16.9, 43.7, 89.4]\n",
      "[27.5, 1.6, 20.7]\n",
      "[120.5, 28.5, 14.2]\n",
      "[5.4, 29.9, 9.4]\n",
      "[116.0, 7.7, 23.1]\n",
      "[76.4, 26.7, 22.3]\n",
      "[239.8, 4.1, 36.9]\n",
      "[75.3, 20.3, 32.5]\n",
      "[68.4, 44.5, 35.6]\n",
      "[213.5, 43.0, 33.8]\n",
      "[193.2, 18.4, 65.7]\n",
      "[76.3, 27.5, 16.0]\n",
      "[110.7, 40.6, 63.2]\n",
      "[88.3, 25.5, 73.4]\n",
      "[109.8, 47.8, 51.4]\n",
      "[134.3, 4.9, 9.3]\n",
      "[28.6, 1.5, 33.0]\n",
      "[217.7, 33.5, 59.0]\n",
      "[250.9, 36.5, 72.3]\n",
      "[107.4, 14.0, 10.9]\n",
      "[163.3, 31.6, 52.9]\n",
      "[197.6, 3.5, 5.9]\n",
      "[184.9, 21.0, 22.0]\n",
      "[289.7, 42.3, 51.2]\n",
      "[135.2, 41.7, 45.9]\n",
      "[222.4, 4.3, 49.8]\n",
      "[296.4, 36.3, 100.9]\n",
      "[280.2, 10.1, 21.4]\n",
      "[187.9, 17.2, 17.9]\n",
      "[238.2, 34.3, 5.3]\n",
      "[137.9, 46.4, 59.0]\n",
      "[25.0, 11.0, 29.7]\n",
      "[90.4, 0.3, 23.2]\n",
      "[13.1, 0.4, 25.6]\n",
      "[255.4, 26.9, 5.5]\n",
      "[225.8, 8.2, 56.5]\n",
      "[241.7, 38.0, 23.2]\n",
      "[175.7, 15.4, 2.4]\n",
      "[209.6, 20.6, 10.7]\n",
      "[78.2, 46.8, 34.5]\n",
      "[75.1, 35.0, 52.7]\n",
      "[139.2, 14.3, 25.6]\n",
      "[76.4, 0.8, 14.8]\n",
      "[125.7, 36.9, 79.2]\n",
      "[19.4, 16.0, 22.3]\n",
      "[141.3, 26.8, 46.2]\n",
      "[18.8, 21.7, 50.4]\n",
      "[224.0, 2.4, 15.6]\n",
      "[123.1, 34.6, 12.4]\n",
      "[229.5, 32.3, 74.2]\n",
      "[87.2, 11.8, 25.9]\n",
      "[7.8, 38.9, 50.6]\n",
      "[80.2, 0.0, 9.2]\n",
      "[220.3, 49.0, 3.2]\n",
      "[59.6, 12.0, 43.1]\n",
      "[0.7, 39.6, 8.7]\n",
      "[265.2, 2.9, 43.0]\n",
      "[8.4, 27.2, 2.1]\n",
      "[219.8, 33.5, 45.1]\n",
      "[36.9, 38.6, 65.6]\n",
      "[48.3, 47.0, 8.5]\n",
      "[25.6, 39.0, 9.3]\n",
      "[273.7, 28.9, 59.7]\n",
      "[43.0, 25.9, 20.5]\n",
      "[184.9, 43.9, 1.7]\n",
      "[73.4, 17.0, 12.9]\n",
      "[193.7, 35.4, 75.6]\n",
      "[220.5, 33.2, 37.9]\n",
      "[104.6, 5.7, 34.4]\n",
      "[96.2, 14.8, 38.9]\n",
      "[140.3, 1.9, 9.0]\n",
      "[240.1, 7.3, 8.7]\n",
      "[243.2, 49.0, 44.3]\n",
      "[38.0, 40.3, 11.9]\n",
      "[44.7, 25.8, 20.6]\n",
      "[280.7, 13.9, 37.0]\n",
      "[121.0, 8.4, 48.7]\n",
      "[197.6, 23.3, 14.2]\n",
      "[171.3, 39.7, 37.7]\n",
      "[187.8, 21.1, 9.5]\n",
      "[4.1, 11.6, 5.7]\n",
      "[93.9, 43.5, 50.5]\n",
      "[149.8, 1.3, 24.3]\n",
      "[11.7, 36.9, 45.2]\n",
      "[131.7, 18.4, 34.6]\n",
      "[172.5, 18.1, 30.7]\n",
      "[85.7, 35.8, 49.3]\n",
      "[188.4, 18.1, 25.6]\n",
      "[163.5, 36.8, 7.4]\n",
      "[117.2, 14.7, 5.4]\n",
      "[234.5, 3.4, 84.8]\n",
      "[17.9, 37.6, 21.6]\n",
      "[206.8, 5.2, 19.4]\n",
      "[215.4, 23.6, 57.6]\n",
      "[284.3, 10.6, 6.4]\n",
      "[50.0, 11.6, 18.4]\n",
      "[164.5, 20.9, 47.4]\n",
      "[19.6, 20.1, 17.0]\n",
      "[168.4, 7.1, 12.8]\n",
      "[222.4, 3.4, 13.1]\n",
      "[276.9, 48.9, 41.8]\n",
      "[248.4, 30.2, 20.3]\n",
      "[170.2, 7.8, 35.2]\n",
      "[276.7, 2.3, 23.7]\n",
      "[165.6, 10.0, 17.6]\n",
      "[156.6, 2.6, 8.3]\n",
      "[218.5, 5.4, 27.4]\n",
      "[56.2, 5.7, 29.7]\n",
      "[287.6, 43.0, 71.8]\n",
      "[253.8, 21.3, 30.0]\n",
      "[205.0, 45.1, 19.6]\n",
      "[139.5, 2.1, 26.6]\n",
      "[191.1, 28.7, 18.2]\n",
      "[286.0, 13.9, 3.7]\n",
      "[18.7, 12.1, 23.4]\n",
      "[39.5, 41.1, 5.8]\n",
      "[75.5, 10.8, 6.0]\n",
      "[17.2, 4.1, 31.6]\n",
      "[166.8, 42.0, 3.6]\n",
      "[149.7, 35.6, 6.0]\n",
      "[38.2, 3.7, 13.8]\n",
      "[94.2, 4.9, 8.1]\n",
      "[177.0, 9.3, 6.4]\n",
      "[283.6, 42.0, 66.2]\n",
      "[232.1, 8.6, 8.7]\n"
     ]
    }
   ],
   "source": [
    "#separatin input and output columns\n",
    "\n",
    "# Load the data from \"Advertising_new_imputed.csv\"\n",
    "with open(\"Advertising_new.csv\", \"r\") as file:\n",
    "    reader = csv.reader(file)\n",
    "    # next() - advanced iterator or generator of next elements in sequence \n",
    "    header = next(reader) # get the header row\n",
    "    data = [row for row in reader]\n",
    "\n",
    "# Separate the input columns as \"X\" and the output column as \"y\"\n",
    "X = []\n",
    "y = []\n",
    "for row in data:\n",
    "    x_row = [float(value) for value in row[:-1]] # convert input values to floats\n",
    "    X.append(x_row)\n",
    "    y.append(float(row[-1])) # convert output value to float\n",
    "\n",
    "# Print the input data and output data\n",
    "print(\"Input data (X):\")\n",
    "for row in X:\n",
    "    print(row)\n"
   ]
  },
  {
   "cell_type": "code",
   "execution_count": 20,
   "id": "442f6d2a",
   "metadata": {},
   "outputs": [
    {
     "name": "stdout",
     "output_type": "stream",
     "text": [
      "Output data (y):\n",
      "[22.1, 10.4, 9.3, 18.5, 12.9, 7.2, 11.8, 13.2, 4.8, 10.6, 8.6, 17.4, 9.2, 9.7, 19.0, 22.4, 12.5, 24.4, 11.3, 14.6, 18.0, 12.5, 5.6, 15.5, 9.7, 12.0, 15.0, 15.9, 18.9, 10.5, 21.4, 11.9, 9.6, 17.4, 9.5, 12.8, 25.4, 14.7, 10.1, 21.5, 16.6, 17.1, 20.7, 12.9, 8.5, 14.9, 10.6, 23.2, 14.8, 9.7, 11.4, 10.7, 22.6, 21.2, 20.2, 23.7, 5.5, 13.2, 23.8, 18.4, 8.1, 24.2, 15.7, 14.0, 18.0, 9.3, 9.5, 13.4, 18.9, 22.3, 18.3, 12.4, 8.8, 11.0, 17.0, 8.7, 6.9, 14.2, 5.3, 11.0, 11.8, 12.3, 11.3, 13.6, 21.7, 15.2, 12.0, 16.0, 12.9, 16.7, 11.2, 7.3, 19.4, 22.2, 11.5, 16.9, 11.7, 15.5, 25.4, 17.2, 11.7, 23.8, 14.8, 14.7, 20.7, 19.2, 7.2, 8.7, 5.3, 19.8, 13.4, 21.8, 14.1, 15.9, 14.6, 12.6, 12.2, 9.4, 15.9, 6.6, 15.5, 7.0, 11.6, 15.2, 19.7, 10.6, 6.6, 8.8, 24.7, 9.7, 1.6, 12.7, 5.7, 19.6, 10.8, 11.6, 9.5, 20.8, 9.6, 20.7, 10.9, 19.2, 20.1, 10.4, 11.4, 10.3, 13.2, 25.4, 10.9, 10.1, 16.1, 11.6, 16.6, 19.0, 15.6, 3.2, 15.3, 10.1, 7.3, 12.9, 14.4, 13.3, 14.9, 18.0, 11.9, 11.9, 8.0, 12.2, 17.1, 15.0, 8.4, 14.5, 7.6, 11.7, 11.5, 27.0, 20.2, 11.7, 11.8, 12.6, 10.5, 12.2, 8.7, 26.2, 17.6, 22.6, 10.3, 17.3, 15.9, 6.7, 10.8, 9.9, 5.9, 19.6, 17.3, 7.6, 9.7, 12.8, 25.5, 13.4]\n"
     ]
    }
   ],
   "source": [
    "print(\"Output data (y):\")\n",
    "print(y)"
   ]
  }
 ],
 "metadata": {
  "kernelspec": {
   "display_name": "Python 3 (ipykernel)",
   "language": "python",
   "name": "python3"
  },
  "language_info": {
   "codemirror_mode": {
    "name": "ipython",
    "version": 3
   },
   "file_extension": ".py",
   "mimetype": "text/x-python",
   "name": "python",
   "nbconvert_exporter": "python",
   "pygments_lexer": "ipython3",
   "version": "3.9.13"
  }
 },
 "nbformat": 4,
 "nbformat_minor": 5
}
