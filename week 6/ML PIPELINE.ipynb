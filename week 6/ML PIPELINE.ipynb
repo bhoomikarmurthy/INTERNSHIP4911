{
 "cells": [
  {
   "cell_type": "markdown",
   "id": "1d72b64f",
   "metadata": {},
   "source": [
    "# ADVERTISING DATA"
   ]
  },
  {
   "cell_type": "markdown",
   "id": "4df97576",
   "metadata": {},
   "source": [
    "The dataset contains statistics about the sales of a product in 200 different markets, together with advertising budgets in each of these markets for different media channels: TV, radio and newspaper.\n",
    "The sales are in thousands of units and the budget is in thousands of dollars.\n",
    "To predict the sales of the product in a particular market based on the advertising budgets for different media channels (TV, radio and newspaper) in that market using K-Nearest Neighbors (KNN) regression."
   ]
  },
  {
   "cell_type": "code",
   "execution_count": 13,
   "id": "451e2815",
   "metadata": {},
   "outputs": [
    {
     "name": "stdout",
     "output_type": "stream",
     "text": [
      "Best parameters: {'knn__n_neighbors': 4}\n"
     ]
    }
   ],
   "source": [
    "#importing the necessary libraries\n",
    "import numpy as np\n",
    "import pandas as pd\n",
    "from sklearn.preprocessing import StandardScaler\n",
    "from sklearn.neighbors import KNeighborsRegressor\n",
    "from sklearn.pipeline import Pipeline\n",
    "from sklearn.model_selection import cross_val_score, train_test_split\n",
    "from sklearn.impute import SimpleImputer\n",
    "from sklearn import set_config\n",
    "\n",
    "\n",
    "#reading the dataset\n",
    "df = pd.read_csv(\"Advertising.csv\")\n",
    "\n",
    "#dropping the zeroth index as it is of no use in the dataset\n",
    "df.drop(df.columns[[0]], axis=1, inplace=True)\n",
    "\n",
    "#splitting data into independent and dependant or target variables\n",
    "X = df.drop(['Sales'], axis=1)\n",
    "y = df['Sales']\n",
    "\n",
    "\n",
    "#splitting the data into train and test split\n",
    "X_train, X_test, y_train, y_test = train_test_split(X, y, test_size=0.3, random_state=42)\n",
    "\n",
    "\n",
    "#preprocessing pipeline\n",
    "preprocessor = Pipeline(steps=[\n",
    "    ('imputation_median', SimpleImputer(missing_values='NaN', strategy='median')),\n",
    "    ('scaler', StandardScaler())\n",
    "])\n",
    "\n",
    "\n",
    "#define the machine learning model pipeline\n",
    "knn = KNeighborsRegressor()\n",
    "knn_pipeline = Pipeline([\n",
    "    ('imputation_median', SimpleImputer(missing_values=np.nan, strategy='median')),\n",
    "    ('scaler', StandardScaler()),\n",
    "    ('knn', KNeighborsRegressor())\n",
    "])\n",
    "\n",
    "\n",
    "\n",
    "#defining the parameter grid \n",
    "from sklearn.model_selection import GridSearchCV\n",
    "param_grid = {\n",
    "    'knn__n_neighbors': [1,2,3,4,5,6,7,8,9,10,11,12,13,14,15,16,17,18,19,20,21]\n",
    "}\n",
    "# Define the grid search object\n",
    "grid_search = GridSearchCV(knn_pipeline, param_grid, cv=5, scoring='neg_mean_squared_error')\n",
    "\n",
    "\n",
    "#fit the model\n",
    "grid_search.fit(X_train, y_train)\n",
    "\n",
    "\n",
    "#finding best parameter\n",
    "print('Best parameters: %s' % grid_search.best_params_)"
   ]
  },
  {
   "cell_type": "code",
   "execution_count": 14,
   "id": "c6984dc5",
   "metadata": {},
   "outputs": [
    {
     "data": {
      "text/html": [
       "<style>#sk-4f6a07e5-11c7-4d23-bf8c-cb736a07f993 {color: black;background-color: white;}#sk-4f6a07e5-11c7-4d23-bf8c-cb736a07f993 pre{padding: 0;}#sk-4f6a07e5-11c7-4d23-bf8c-cb736a07f993 div.sk-toggleable {background-color: white;}#sk-4f6a07e5-11c7-4d23-bf8c-cb736a07f993 label.sk-toggleable__label {cursor: pointer;display: block;width: 100%;margin-bottom: 0;padding: 0.3em;box-sizing: border-box;text-align: center;}#sk-4f6a07e5-11c7-4d23-bf8c-cb736a07f993 label.sk-toggleable__label-arrow:before {content: \"▸\";float: left;margin-right: 0.25em;color: #696969;}#sk-4f6a07e5-11c7-4d23-bf8c-cb736a07f993 label.sk-toggleable__label-arrow:hover:before {color: black;}#sk-4f6a07e5-11c7-4d23-bf8c-cb736a07f993 div.sk-estimator:hover label.sk-toggleable__label-arrow:before {color: black;}#sk-4f6a07e5-11c7-4d23-bf8c-cb736a07f993 div.sk-toggleable__content {max-height: 0;max-width: 0;overflow: hidden;text-align: left;background-color: #f0f8ff;}#sk-4f6a07e5-11c7-4d23-bf8c-cb736a07f993 div.sk-toggleable__content pre {margin: 0.2em;color: black;border-radius: 0.25em;background-color: #f0f8ff;}#sk-4f6a07e5-11c7-4d23-bf8c-cb736a07f993 input.sk-toggleable__control:checked~div.sk-toggleable__content {max-height: 200px;max-width: 100%;overflow: auto;}#sk-4f6a07e5-11c7-4d23-bf8c-cb736a07f993 input.sk-toggleable__control:checked~label.sk-toggleable__label-arrow:before {content: \"▾\";}#sk-4f6a07e5-11c7-4d23-bf8c-cb736a07f993 div.sk-estimator input.sk-toggleable__control:checked~label.sk-toggleable__label {background-color: #d4ebff;}#sk-4f6a07e5-11c7-4d23-bf8c-cb736a07f993 div.sk-label input.sk-toggleable__control:checked~label.sk-toggleable__label {background-color: #d4ebff;}#sk-4f6a07e5-11c7-4d23-bf8c-cb736a07f993 input.sk-hidden--visually {border: 0;clip: rect(1px 1px 1px 1px);clip: rect(1px, 1px, 1px, 1px);height: 1px;margin: -1px;overflow: hidden;padding: 0;position: absolute;width: 1px;}#sk-4f6a07e5-11c7-4d23-bf8c-cb736a07f993 div.sk-estimator {font-family: monospace;background-color: #f0f8ff;border: 1px dotted black;border-radius: 0.25em;box-sizing: border-box;margin-bottom: 0.5em;}#sk-4f6a07e5-11c7-4d23-bf8c-cb736a07f993 div.sk-estimator:hover {background-color: #d4ebff;}#sk-4f6a07e5-11c7-4d23-bf8c-cb736a07f993 div.sk-parallel-item::after {content: \"\";width: 100%;border-bottom: 1px solid gray;flex-grow: 1;}#sk-4f6a07e5-11c7-4d23-bf8c-cb736a07f993 div.sk-label:hover label.sk-toggleable__label {background-color: #d4ebff;}#sk-4f6a07e5-11c7-4d23-bf8c-cb736a07f993 div.sk-serial::before {content: \"\";position: absolute;border-left: 1px solid gray;box-sizing: border-box;top: 2em;bottom: 0;left: 50%;}#sk-4f6a07e5-11c7-4d23-bf8c-cb736a07f993 div.sk-serial {display: flex;flex-direction: column;align-items: center;background-color: white;padding-right: 0.2em;padding-left: 0.2em;}#sk-4f6a07e5-11c7-4d23-bf8c-cb736a07f993 div.sk-item {z-index: 1;}#sk-4f6a07e5-11c7-4d23-bf8c-cb736a07f993 div.sk-parallel {display: flex;align-items: stretch;justify-content: center;background-color: white;}#sk-4f6a07e5-11c7-4d23-bf8c-cb736a07f993 div.sk-parallel::before {content: \"\";position: absolute;border-left: 1px solid gray;box-sizing: border-box;top: 2em;bottom: 0;left: 50%;}#sk-4f6a07e5-11c7-4d23-bf8c-cb736a07f993 div.sk-parallel-item {display: flex;flex-direction: column;position: relative;background-color: white;}#sk-4f6a07e5-11c7-4d23-bf8c-cb736a07f993 div.sk-parallel-item:first-child::after {align-self: flex-end;width: 50%;}#sk-4f6a07e5-11c7-4d23-bf8c-cb736a07f993 div.sk-parallel-item:last-child::after {align-self: flex-start;width: 50%;}#sk-4f6a07e5-11c7-4d23-bf8c-cb736a07f993 div.sk-parallel-item:only-child::after {width: 0;}#sk-4f6a07e5-11c7-4d23-bf8c-cb736a07f993 div.sk-dashed-wrapped {border: 1px dashed gray;margin: 0 0.4em 0.5em 0.4em;box-sizing: border-box;padding-bottom: 0.4em;background-color: white;position: relative;}#sk-4f6a07e5-11c7-4d23-bf8c-cb736a07f993 div.sk-label label {font-family: monospace;font-weight: bold;background-color: white;display: inline-block;line-height: 1.2em;}#sk-4f6a07e5-11c7-4d23-bf8c-cb736a07f993 div.sk-label-container {position: relative;z-index: 2;text-align: center;}#sk-4f6a07e5-11c7-4d23-bf8c-cb736a07f993 div.sk-container {/* jupyter's `normalize.less` sets `[hidden] { display: none; }` but bootstrap.min.css set `[hidden] { display: none !important; }` so we also need the `!important` here to be able to override the default hidden behavior on the sphinx rendered scikit-learn.org. See: https://github.com/scikit-learn/scikit-learn/issues/21755 */display: inline-block !important;position: relative;}#sk-4f6a07e5-11c7-4d23-bf8c-cb736a07f993 div.sk-text-repr-fallback {display: none;}</style><div id=\"sk-4f6a07e5-11c7-4d23-bf8c-cb736a07f993\" class=\"sk-top-container\"><div class=\"sk-text-repr-fallback\"><pre>Pipeline(steps=[(&#x27;imputation_median&#x27;, SimpleImputer(strategy=&#x27;median&#x27;)),\n",
       "                (&#x27;scaler&#x27;, StandardScaler()), (&#x27;knn&#x27;, KNeighborsRegressor())])</pre><b>Please rerun this cell to show the HTML repr or trust the notebook.</b></div><div class=\"sk-container\" hidden><div class=\"sk-item sk-dashed-wrapped\"><div class=\"sk-label-container\"><div class=\"sk-label sk-toggleable\"><input class=\"sk-toggleable__control sk-hidden--visually\" id=\"0318534d-cc6d-47f4-87ac-9c2f0c59f970\" type=\"checkbox\" ><label for=\"0318534d-cc6d-47f4-87ac-9c2f0c59f970\" class=\"sk-toggleable__label sk-toggleable__label-arrow\">Pipeline</label><div class=\"sk-toggleable__content\"><pre>Pipeline(steps=[(&#x27;imputation_median&#x27;, SimpleImputer(strategy=&#x27;median&#x27;)),\n",
       "                (&#x27;scaler&#x27;, StandardScaler()), (&#x27;knn&#x27;, KNeighborsRegressor())])</pre></div></div></div><div class=\"sk-serial\"><div class=\"sk-item\"><div class=\"sk-estimator sk-toggleable\"><input class=\"sk-toggleable__control sk-hidden--visually\" id=\"fb761025-fd4d-4bb8-883f-0c6da6b186b4\" type=\"checkbox\" ><label for=\"fb761025-fd4d-4bb8-883f-0c6da6b186b4\" class=\"sk-toggleable__label sk-toggleable__label-arrow\">SimpleImputer</label><div class=\"sk-toggleable__content\"><pre>SimpleImputer(strategy=&#x27;median&#x27;)</pre></div></div></div><div class=\"sk-item\"><div class=\"sk-estimator sk-toggleable\"><input class=\"sk-toggleable__control sk-hidden--visually\" id=\"d3215d6f-fb1b-4bff-ba1c-cc607bef2bb4\" type=\"checkbox\" ><label for=\"d3215d6f-fb1b-4bff-ba1c-cc607bef2bb4\" class=\"sk-toggleable__label sk-toggleable__label-arrow\">StandardScaler</label><div class=\"sk-toggleable__content\"><pre>StandardScaler()</pre></div></div></div><div class=\"sk-item\"><div class=\"sk-estimator sk-toggleable\"><input class=\"sk-toggleable__control sk-hidden--visually\" id=\"844927b7-2ec6-4763-b638-b03621881076\" type=\"checkbox\" ><label for=\"844927b7-2ec6-4763-b638-b03621881076\" class=\"sk-toggleable__label sk-toggleable__label-arrow\">KNeighborsRegressor</label><div class=\"sk-toggleable__content\"><pre>KNeighborsRegressor()</pre></div></div></div></div></div></div></div>"
      ],
      "text/plain": [
       "Pipeline(steps=[('imputation_median', SimpleImputer(strategy='median')),\n",
       "                ('scaler', StandardScaler()), ('knn', KNeighborsRegressor())])"
      ]
     },
     "execution_count": 14,
     "metadata": {},
     "output_type": "execute_result"
    }
   ],
   "source": [
    "#fitting the model\n",
    "knn_pipeline.fit(X_train,y_train)"
   ]
  },
  {
   "cell_type": "code",
   "execution_count": 15,
   "id": "8ac359fa",
   "metadata": {},
   "outputs": [
    {
     "data": {
      "text/plain": [
       "array([17.8 , 21.62, 19.94, 11.  , 22.3 , 13.16, 22.34,  7.8 , 12.66,\n",
       "       14.86,  9.14,  7.74, 13.6 ,  7.92, 10.48, 12.2 ,  8.66, 16.26,\n",
       "       11.44, 18.56, 20.66, 11.62,  7.74, 22.48,  9.9 ,  7.9 , 21.74,\n",
       "       12.92, 10.7 ,  7.92, 11.98, 10.26, 21.7 , 11.62, 14.62, 20.24,\n",
       "        7.74, 20.2 , 11.  ,  6.76,  9.84, 12.36, 10.36,  8.66, 12.66,\n",
       "        7.44, 10.66, 14.22, 10.74, 11.94, 14.4 , 11.36, 12.12, 10.44,\n",
       "        9.06, 10.98, 11.  , 25.3 ,  7.24, 11.92])"
      ]
     },
     "execution_count": 15,
     "metadata": {},
     "output_type": "execute_result"
    }
   ],
   "source": [
    "y_pred = knn_pipeline.predict(X_test)\n",
    "y_pred"
   ]
  },
  {
   "cell_type": "code",
   "execution_count": 10,
   "id": "642917c5",
   "metadata": {},
   "outputs": [
    {
     "name": "stdout",
     "output_type": "stream",
     "text": [
      "Model accuracy: 0.911 (0.038)\n"
     ]
    }
   ],
   "source": [
    "best_estimator = grid_search.best_estimator_\n",
    "scores = cross_val_score(best_estimator, X_train, y_train, cv=5)\n",
    "print('Model accuracy: %.3f (%.3f)' % (np.mean(scores), np.std(scores)))"
   ]
  }
 ],
 "metadata": {
  "kernelspec": {
   "display_name": "Python 3 (ipykernel)",
   "language": "python",
   "name": "python3"
  },
  "language_info": {
   "codemirror_mode": {
    "name": "ipython",
    "version": 3
   },
   "file_extension": ".py",
   "mimetype": "text/x-python",
   "name": "python",
   "nbconvert_exporter": "python",
   "pygments_lexer": "ipython3",
   "version": "3.9.13"
  }
 },
 "nbformat": 4,
 "nbformat_minor": 5
}
