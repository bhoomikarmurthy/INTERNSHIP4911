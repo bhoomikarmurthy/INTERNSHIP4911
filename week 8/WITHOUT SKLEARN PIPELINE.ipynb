{
 "cells": [
  {
   "cell_type": "markdown",
   "id": "280380e4",
   "metadata": {},
   "source": [
    "# Problem Statement:"
   ]
  },
  {
   "cell_type": "markdown",
   "id": "0889f361",
   "metadata": {},
   "source": [
    "Big Basket, a food delivery service operating in multiple countries, aims to improve the overall customer experience by analysing the ratings provided by its customers. The target variable in this problem is the rating given by the customers after they receive their food delivery. The company wants to understand the factors that influence the customers' ratings and identify the areas that need improvement.\n",
    "\n",
    "\n",
    "\n",
    "The challenge for Big Basket is to collect and analyse the ratings data from multiple countries, as customer preferences and expectations may vary across different regions. Additionally, the company needs to develop a system that can capture the feedback from customers in a timely and efficient manner to ensure that the issues are addressed promptly.\n",
    "\n",
    "\n",
    "\n",
    "Thus, the problem statement for Big Basket is to develop a data-driven approach to understand the factors influencing customer ratings across different countries, and to use this information to enhance the overall customer experience by addressing the areas that require improvement.\n"
   ]
  },
  {
   "cell_type": "markdown",
   "id": "f94e1d6b",
   "metadata": {},
   "source": [
    "# Description of Data:\n",
    "    \n",
    "    \n",
    "• Restaurant Id: Unique id of every restaurant across various cities of the world\n",
    "    \n",
    "    \n",
    "• Restaurant Name: Name of the restaurant\n",
    "    \n",
    "\n",
    "• Country Code: Country in which restaurant is located\n",
    "    \n",
    "\n",
    "• City: City in which restaurant is located\n",
    "    \n",
    "\n",
    "• Address: Address of the restaurant\n",
    "    \n",
    "\n",
    "• Locality: Location in the city\n",
    "    \n",
    "\n",
    "• Locality Verbose: Detailed description of the locality\n",
    "    \n",
    "\n",
    "• Longitude: Longitude coordinate of the restaurant's location\n",
    "    \n",
    "    \n",
    "• Latitude: Latitude coordinate of the restaurant's location\n",
    "    \n",
    "\n",
    "• Cuisines: Cuisines offered by the restaurant\n",
    "    \n",
    "\n",
    "• Average Cost for two: Cost for two people in different currencies \n",
    "    \n",
    "    \n",
    "• Currency: Currency of the country\n",
    "    \n",
    "\n",
    "• Has Table booking: yes/no\n",
    "    \n",
    "\n",
    "• Has Online delivery: yes/ no\n",
    "\n",
    "    \n",
    "• Is delivering: yes/ no\n",
    "\n",
    "    \n",
    "• Switch to order menu: yes/no\n",
    "\n",
    "    \n",
    "• Price range: range of price of food\n",
    "\n",
    "    \n",
    "• Aggregate Rating: Average rating out of 5\n",
    "    \n",
    "\n",
    "• Rating colour: depending upon the average rating colour\n",
    "    \n",
    "\n",
    "• Rating text: text on the basis of rating of rating\n",
    "    \n",
    "\n",
    "• Votes: Number of ratings casted by people\n"
   ]
  },
  {
   "cell_type": "code",
   "execution_count": 1,
   "id": "db349adc",
   "metadata": {},
   "outputs": [
    {
     "data": {
      "text/plain": [
       "Restaurant ID           0\n",
       "Country Code            0\n",
       "Address                 0\n",
       "Longitude               0\n",
       "Latitude                0\n",
       "Cuisines                9\n",
       "Average Cost for two    1\n",
       "Currency                0\n",
       "Has Table booking       0\n",
       "Has Online delivery     0\n",
       "Is delivering now       0\n",
       "Price range             2\n",
       "Aggregate rating        0\n",
       "Votes                   0\n",
       "Country                 0\n",
       "dtype: int64"
      ]
     },
     "execution_count": 1,
     "metadata": {},
     "output_type": "execute_result"
    }
   ],
   "source": [
    "import pandas as pd\n",
    "import numpy as np\n",
    "\n",
    "df1 = pd.read_csv('Big Basket Food Delivery.csv', encoding='ISO-8859-1')\n",
    "df2 = pd.read_excel('Country-Code.xlsx')\n",
    "\n",
    "df = pd.merge(df1, df2, on='Country Code')\n",
    "\n",
    "df.to_csv('merged_file.csv')\n",
    "\n",
    "df = df.drop([\"Restaurant Name\", \"City\", \"Locality\", \"Locality Verbose\", \"Switch to order menu\", \"Rating color\", \"Rating text\"], axis=1)\n",
    "\n",
    "df.isnull().sum()"
   ]
  },
  {
   "cell_type": "code",
   "execution_count": 2,
   "id": "70a3dd9a",
   "metadata": {},
   "outputs": [],
   "source": [
    "# Define a function to fill missing values with the mode\n",
    "def fill_mode(df, col_name):\n",
    "    mode_val = df[col_name].mode()[0]\n",
    "    df[col_name].fillna(mode_val, inplace=True)\n",
    "\n",
    "# Apply the function to fill missing values in 'Cuisines' column\n",
    "fill_mode(df, 'Cuisines')\n"
   ]
  },
  {
   "cell_type": "code",
   "execution_count": 3,
   "id": "622d94f0",
   "metadata": {},
   "outputs": [],
   "source": [
    "# Replace values with NaN and fill missing values with median for 'Average Cost for two'\n",
    "df['Average Cost for two'].replace(['?', '*', '&'], np.nan, inplace=True)\n",
    "median_val = df['Average Cost for two'].median()\n",
    "df['Average Cost for two'].fillna(median_val, inplace=True)\n",
    "\n",
    "# Replace values with NaN and fill missing values with median for 'Price range'\n",
    "df['Price range'].replace(['?', '*', '&'], np.nan, inplace=True)\n",
    "median_val = df['Price range'].median()\n",
    "df['Price range'].fillna(median_val, inplace=True)\n",
    "df['Price range'].replace(-1, median_val, inplace=True)  # replace fill_val=-1 with median_val\n"
   ]
  },
  {
   "cell_type": "code",
   "execution_count": 4,
   "id": "8372a0f3",
   "metadata": {},
   "outputs": [
    {
     "data": {
      "text/plain": [
       "Restaurant ID           0\n",
       "Country Code            0\n",
       "Address                 0\n",
       "Longitude               0\n",
       "Latitude                0\n",
       "Cuisines                0\n",
       "Average Cost for two    0\n",
       "Currency                0\n",
       "Has Table booking       0\n",
       "Has Online delivery     0\n",
       "Is delivering now       0\n",
       "Price range             0\n",
       "Aggregate rating        0\n",
       "Votes                   0\n",
       "Country                 0\n",
       "dtype: int64"
      ]
     },
     "execution_count": 4,
     "metadata": {},
     "output_type": "execute_result"
    }
   ],
   "source": [
    "df.isnull().sum()"
   ]
  },
  {
   "cell_type": "code",
   "execution_count": 5,
   "id": "4e518301",
   "metadata": {},
   "outputs": [],
   "source": [
    "# Define the mapping dictionary\n",
    "cat_mapping = {\n",
    "    \"Yes\": 1,\n",
    "    \"No\": 0\n",
    "}\n",
    "\n",
    "# Define the mapping function\n",
    "def map_cats(x):\n",
    "    return cat_mapping[x]\n",
    "\n",
    "# Apply the mapping function to the specified columns\n",
    "df[\"Has Table booking\"] = df[\"Has Table booking\"].apply(map_cats)\n",
    "df[\"Has Online delivery\"] = df[\"Has Online delivery\"].apply(map_cats)\n",
    "df[\"Is delivering now\"] = df[\"Is delivering now\"].apply(map_cats)\n"
   ]
  },
  {
   "cell_type": "code",
   "execution_count": 6,
   "id": "986f6e99",
   "metadata": {},
   "outputs": [
    {
     "data": {
      "text/plain": [
       "Index(['Restaurant ID', 'Country Code', 'Address', 'Longitude', 'Latitude',\n",
       "       'Cuisines', 'Average Cost for two', 'Currency', 'Has Table booking',\n",
       "       'Has Online delivery', 'Is delivering now', 'Price range',\n",
       "       'Aggregate rating', 'Votes', 'Country'],\n",
       "      dtype='object')"
      ]
     },
     "execution_count": 6,
     "metadata": {},
     "output_type": "execute_result"
    }
   ],
   "source": [
    "df.columns"
   ]
  },
  {
   "cell_type": "code",
   "execution_count": 7,
   "id": "8bdbc3d7",
   "metadata": {},
   "outputs": [],
   "source": [
    "# Define the function to factorize a single column\n",
    "def factorize_column(col):\n",
    "    factorized, _ = pd.factorize(col)\n",
    "    return factorized\n",
    "\n",
    "# Factorize the specified columns\n",
    "df[\"Address\"] = factorize_column(df[\"Address\"])\n",
    "df[\"Cuisines\"] = factorize_column(df[\"Cuisines\"])\n",
    "df[\"Currency\"] = factorize_column(df[\"Currency\"])\n",
    "df[\"Country\"] = factorize_column(df[\"Country\"])\n"
   ]
  },
  {
   "cell_type": "code",
   "execution_count": 8,
   "id": "5b628e5e",
   "metadata": {},
   "outputs": [
    {
     "name": "stdout",
     "output_type": "stream",
     "text": [
      "capping the Restaurant ID\n",
      "capping the Country Code\n",
      "capping the Address\n",
      "capping the Longitude\n",
      "capping the Latitude\n",
      "capping the Cuisines\n",
      "capping the Average Cost for two\n",
      "capping the Currency\n",
      "capping the Has Table booking\n",
      "capping the Has Online delivery\n",
      "capping the Is delivering now\n",
      "capping the Price range\n",
      "capping the Aggregate rating\n",
      "capping the Votes\n",
      "capping the Country\n"
     ]
    }
   ],
   "source": [
    "# Define the function to cap the values in each column\n",
    "def cap_data(df):\n",
    "    for col in df.columns:\n",
    "        print(\"capping the\", col)\n",
    "        if df[col].dtype == 'float64' or df[col].dtype == 'int64':\n",
    "            percentiles = df[col].quantile([0.20, 0.80]).values\n",
    "            df.loc[df[col] <= percentiles[0], col] = percentiles[0]\n",
    "            df.loc[df[col] >= percentiles[1], col] = percentiles[1]\n",
    "        else:\n",
    "            df[col] = df[col]\n",
    "    return df\n",
    "\n",
    "# Cap the values in the dataframe\n",
    "df1 = cap_data(df)\n"
   ]
  },
  {
   "cell_type": "code",
   "execution_count": 9,
   "id": "3e579f8f",
   "metadata": {},
   "outputs": [],
   "source": [
    "#splitting data into independent and dependant or target variables\n",
    "X = df1.drop(['Aggregate rating'], axis=1)\n",
    "y = df1['Aggregate rating']"
   ]
  },
  {
   "cell_type": "code",
   "execution_count": 10,
   "id": "90236eed",
   "metadata": {},
   "outputs": [],
   "source": [
    "# Split the input and output data into train and test sets\n",
    "train_size = int(0.8 * len(df1))   # 80% of the data for training\n",
    "X_train = X[:train_size]\n",
    "X_test = X[train_size:]\n",
    "y_train = y[:train_size]\n",
    "y_test = y[train_size:]"
   ]
  },
  {
   "cell_type": "code",
   "execution_count": 11,
   "id": "6e15bced",
   "metadata": {},
   "outputs": [
    {
     "name": "stdout",
     "output_type": "stream",
     "text": [
      "Shape of X_train: (7640, 14)\n",
      "Shape of X_test: (1911, 14)\n",
      "Shape of y_train: (7640,)\n",
      "Shape of y_test: (1911,)\n"
     ]
    }
   ],
   "source": [
    "# Print the shapes of the training and testing sets\n",
    "print(\"Shape of X_train:\", X_train.shape)\n",
    "print(\"Shape of X_test:\", X_test.shape)\n",
    "print(\"Shape of y_train:\", y_train.shape)\n",
    "print(\"Shape of y_test:\", y_test.shape)"
   ]
  },
  {
   "cell_type": "code",
   "execution_count": 12,
   "id": "1e5477e9",
   "metadata": {},
   "outputs": [],
   "source": [
    "def preprocessor(df1):\n",
    "    # Fill missing values with mode for 'Cuisines' column\n",
    "    df['Cuisines'].fillna(df['Cuisines'].mode()[0], inplace=True)\n",
    "    \n",
    "    # Replace values with NaN and fill missing values with median for 'Average Cost for two'\n",
    "    df['Average Cost for two'].replace(['?', '*', '&'], np.nan, inplace=True)\n",
    "    median_val = df['Average Cost for two'].median()\n",
    "    df['Average Cost for two'].fillna(median_val, inplace=True)\n",
    "\n",
    "    # Replace values with NaN and fill missing values with median for 'Price range'\n",
    "    df['Price range'].replace(['?', '*', '&'], np.nan, inplace=True)\n",
    "    median_val = df['Price range'].median()\n",
    "    df['Price range'].fillna(median_val, inplace=True)\n",
    "    df['Price range'].replace(-1, median_val, inplace=True)  # replace fill_val=-1 with median_val\n",
    "    \n",
    "    # Map categorical variables\n",
    "    cat_mapping = {\n",
    "        \"Yes\": 1,\n",
    "        \"No\": 0\n",
    "    }\n",
    "    df[\"Has Table booking\"] = df[\"Has Table booking\"].map(cat_mapping)\n",
    "    df[\"Has Online delivery\"] = df[\"Has Online delivery\"].map(cat_mapping)\n",
    "    df[\"Is delivering now\"] = df[\"Is delivering now\"].map(cat_mapping)\n",
    "    \n",
    "    # Factorize categorical variables\n",
    "    df[\"Address\"] = pd.factorize(df[\"Address\"])[0]\n",
    "    df[\"Cuisines\"] = pd.factorize(df[\"Cuisines\"])[0]\n",
    "    df[\"Currency\"] = pd.factorize(df[\"Currency\"])[0]\n",
    "    df[\"Country\"] = pd.factorize(df[\"Country\"])[0]\n",
    "\n",
    "    # Cap data\n",
    "    df1 = cap_data(df)\n",
    "    \n",
    "    return df1"
   ]
  },
  {
   "cell_type": "code",
   "execution_count": 13,
   "id": "9a66cda0",
   "metadata": {},
   "outputs": [],
   "source": [
    "import numpy as np\n",
    "\n",
    "class StandardScaler:\n",
    "    def __init__(self):\n",
    "        self.mean_ = None\n",
    "        self.std_ = None\n",
    "        \n",
    "    def fit(self, X):\n",
    "        self.mean_ = np.mean(X, axis=0)\n",
    "        self.std_ = np.std(X, axis=0)\n",
    "        \n",
    "    def transform(self, X):\n",
    "        X = (X - self.mean_) / self.std_\n",
    "        return X\n",
    "    \n",
    "    def fit_transform(self, X):\n",
    "        self.fit(X)\n",
    "        return self.transform(X)\n",
    "\n",
    "    \n",
    "class ColumnTransformer:\n",
    "    def __init__(self, transformers):\n",
    "        self.transformers = transformers\n",
    "        \n",
    "    def fit_transform(self, X):\n",
    "        transformed_features = []\n",
    "        for name, transformer, features in self.transformers:\n",
    "            X_temp = transformer.fit_transform(X[features])\n",
    "            transformed_features.append(X_temp)\n",
    "        \n",
    "        X_transformed = np.hstack(transformed_features)\n",
    "        return X_transformed\n",
    "    \n",
    "    def transform(self, X):\n",
    "        transformed_features = []\n",
    "        for name, transformer, features in self.transformers:\n",
    "            X_temp = transformer.transform(X[features])\n",
    "            transformed_features.append(X_temp)\n",
    "        \n",
    "        X_transformed = np.hstack(transformed_features)\n",
    "        return X_transformed\n",
    "\n",
    "    \n",
    "class Pipeline:\n",
    "    def __init__(self, steps):\n",
    "        self.steps = steps\n",
    "        \n",
    "    def fit(self, X, y):\n",
    "        X_temp = X.copy()\n",
    "        for name, step in self.steps[:-1]:\n",
    "            X_temp = step.fit_transform(X_temp)\n",
    "        \n",
    "        self.steps[-1][1].fit(X_temp, y)\n",
    "        \n",
    "    def predict(self, X):\n",
    "        X_temp = X.copy()\n",
    "        for name, step in self.steps[:-1]:\n",
    "            X_temp = step.transform(X_temp)\n",
    "        \n",
    "        y_pred = self.steps[-1][1].predict(X_temp)\n",
    "        return y_pred"
   ]
  },
  {
   "cell_type": "code",
   "execution_count": 14,
   "id": "d0be248d",
   "metadata": {},
   "outputs": [],
   "source": [
    "class IdentityTransformer:\n",
    "    def __init__(self):\n",
    "        pass\n",
    "\n",
    "    def fit(self, X):\n",
    "        pass\n",
    "\n",
    "    def transform(self, X):\n",
    "        return X\n",
    "\n",
    "    def fit_transform(self, X):\n",
    "        self.fit(X)\n",
    "        return self.transform(X)\n",
    "\n",
    "        \n",
    "class KNeighborsRegressor:\n",
    "    def __init__(self, n_neighbors=4):\n",
    "        self.n_neighbors = n_neighbors\n",
    "\n",
    "    def fit(self, X, y):\n",
    "        self.X_train = X\n",
    "        self.y_train = y\n",
    "\n",
    "    def predict(self, X):\n",
    "        y_pred = np.zeros(len(X))\n",
    "        for i in range(len(X)):\n",
    "            distances = np.sum((self.X_train - X[i])**2, axis=1)\n",
    "            indices = np.argsort(distances)[:self.n_neighbors]\n",
    "            y_pred[i] = np.mean(self.y_train[indices])\n",
    "        return y_pred\n",
    "    \n",
    "    \n",
    "    # Define the numerical and categorical features\n",
    "numerical_features = ['Average Cost for two', 'Price range']\n",
    "categorical_features = ['Has Table booking', 'Has Online delivery', 'Is delivering now', 'Address', 'Cuisines', 'Currency', 'Country']\n",
    "\n",
    "preprocessor_step = ColumnTransformer(\n",
    "    transformers=[\n",
    "        ('num', StandardScaler(), numerical_features),\n",
    "        ('cat', IdentityTransformer(), categorical_features)\n",
    "    ]\n",
    ")\n",
    "\n",
    "# Create the full pipeline\n",
    "pipeline = Pipeline(steps=[\n",
    "    ('preprocessor', preprocessor_step),\n",
    "    ('model', KNeighborsRegressor())\n",
    "])"
   ]
  },
  {
   "cell_type": "code",
   "execution_count": 15,
   "id": "0deb5bb9",
   "metadata": {},
   "outputs": [
    {
     "name": "stderr",
     "output_type": "stream",
     "text": [
      "D:\\anaconda\\lib\\site-packages\\numpy\\core\\fromnumeric.py:3438: FutureWarning: Dropping of nuisance columns in DataFrame reductions (with 'numeric_only=None') is deprecated; in a future version this will raise TypeError.  Select only valid columns before calling the reduction.\n",
      "  return mean(axis=axis, dtype=dtype, out=out, **kwargs)\n",
      "D:\\anaconda\\lib\\site-packages\\numpy\\core\\fromnumeric.py:3579: FutureWarning: Dropping of nuisance columns in DataFrame reductions (with 'numeric_only=None') is deprecated; in a future version this will raise TypeError.  Select only valid columns before calling the reduction.\n",
      "  return std(axis=axis, dtype=dtype, out=out, ddof=ddof, **kwargs)\n"
     ]
    },
    {
     "data": {
      "text/plain": [
       "array([3.325, 3.325, 3.325, ..., 3.325, 3.325, 3.325])"
      ]
     },
     "execution_count": 15,
     "metadata": {},
     "output_type": "execute_result"
    }
   ],
   "source": [
    "# Preprocess the data and train the model using the pipeline\n",
    "preprocessed_X_train = preprocessor_step.fit_transform(X_train)\n",
    "model = KNeighborsRegressor(n_neighbors=4)\n",
    "model.fit(preprocessed_X_train, y_train)\n",
    "\n",
    "# Preprocess the test data and make predictions\n",
    "preprocessed_X_test = preprocessor_step.transform(X_test)\n",
    "y_pred = model.predict(preprocessed_X_test)\n",
    "y_pred"
   ]
  },
  {
   "cell_type": "code",
   "execution_count": 16,
   "id": "f83ff75a",
   "metadata": {},
   "outputs": [
    {
     "name": "stdout",
     "output_type": "stream",
     "text": [
      "MSE: 3.1582048011512303\n",
      "RMSE: 1.77713387260252\n"
     ]
    }
   ],
   "source": [
    "# Calculate SSE, MSE and RMSE\n",
    "sse = np.sum((y_pred - y_test)**2)\n",
    "mse = sse / len(y_test)\n",
    "rmse = np.sqrt(mse)\n",
    "\n",
    "print(\"MSE:\", mse)\n",
    "print(\"RMSE:\", rmse)\n"
   ]
  }
 ],
 "metadata": {
  "kernelspec": {
   "display_name": "Python 3 (ipykernel)",
   "language": "python",
   "name": "python3"
  },
  "language_info": {
   "codemirror_mode": {
    "name": "ipython",
    "version": 3
   },
   "file_extension": ".py",
   "mimetype": "text/x-python",
   "name": "python",
   "nbconvert_exporter": "python",
   "pygments_lexer": "ipython3",
   "version": "3.9.13"
  }
 },
 "nbformat": 4,
 "nbformat_minor": 5
}
