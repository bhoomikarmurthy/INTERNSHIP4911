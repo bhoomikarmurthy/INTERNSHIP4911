{
 "cells": [
  {
   "cell_type": "markdown",
   "id": "b979f439",
   "metadata": {},
   "source": [
    "# ADVERTISING DATA"
   ]
  },
  {
   "cell_type": "markdown",
   "id": "4cb9ca43",
   "metadata": {},
   "source": [
    "The dataset contains statistics about the sales of a product in 200 different markets, together with advertising budgets in each of these markets for different media channels: TV, radio and newspaper.\n",
    "The sales are in thousands of units and the budget is in thousands of dollars.\n",
    "To predict the sales of the product in a particular market based on the advertising budgets for different media channels (TV, radio and newspaper) in that market using K-Nearest Neighbors (KNN) regression."
   ]
  },
  {
   "cell_type": "code",
   "execution_count": 1,
   "id": "cea0a858",
   "metadata": {},
   "outputs": [],
   "source": [
    "# Importing all necessary Libaries: Data Science Packages\n",
    "# numpy allows us to do different mathematical operations on the dataframe\n",
    "import numpy as np \n",
    "# pandas is open-source library in python for manupilating , pre-processing the data's\n",
    "import pandas as pd \n",
    "# seaborn is an advanced version of matplotlib which is used to plot the graphs for datasets\n",
    "import seaborn as sns\n",
    "# matplotlib is an basic library used for visualising the data \n",
    "import matplotlib.pyplot as plt"
   ]
  },
  {
   "cell_type": "code",
   "execution_count": 2,
   "id": "46c99bff",
   "metadata": {},
   "outputs": [
    {
     "data": {
      "text/html": [
       "<div>\n",
       "<style scoped>\n",
       "    .dataframe tbody tr th:only-of-type {\n",
       "        vertical-align: middle;\n",
       "    }\n",
       "\n",
       "    .dataframe tbody tr th {\n",
       "        vertical-align: top;\n",
       "    }\n",
       "\n",
       "    .dataframe thead th {\n",
       "        text-align: right;\n",
       "    }\n",
       "</style>\n",
       "<table border=\"1\" class=\"dataframe\">\n",
       "  <thead>\n",
       "    <tr style=\"text-align: right;\">\n",
       "      <th></th>\n",
       "      <th>Unnamed: 0</th>\n",
       "      <th>TV</th>\n",
       "      <th>Radio</th>\n",
       "      <th>Newspaper</th>\n",
       "      <th>Sales</th>\n",
       "    </tr>\n",
       "  </thead>\n",
       "  <tbody>\n",
       "    <tr>\n",
       "      <th>0</th>\n",
       "      <td>1</td>\n",
       "      <td>230.1</td>\n",
       "      <td>37.8</td>\n",
       "      <td>69.2</td>\n",
       "      <td>22.1</td>\n",
       "    </tr>\n",
       "    <tr>\n",
       "      <th>1</th>\n",
       "      <td>2</td>\n",
       "      <td>44.5</td>\n",
       "      <td>39.3</td>\n",
       "      <td>45.1</td>\n",
       "      <td>10.4</td>\n",
       "    </tr>\n",
       "    <tr>\n",
       "      <th>2</th>\n",
       "      <td>3</td>\n",
       "      <td>17.2</td>\n",
       "      <td>45.9</td>\n",
       "      <td>69.3</td>\n",
       "      <td>9.3</td>\n",
       "    </tr>\n",
       "    <tr>\n",
       "      <th>3</th>\n",
       "      <td>4</td>\n",
       "      <td>151.5</td>\n",
       "      <td>41.3</td>\n",
       "      <td>58.5</td>\n",
       "      <td>18.5</td>\n",
       "    </tr>\n",
       "    <tr>\n",
       "      <th>4</th>\n",
       "      <td>5</td>\n",
       "      <td>180.8</td>\n",
       "      <td>10.8</td>\n",
       "      <td>58.4</td>\n",
       "      <td>12.9</td>\n",
       "    </tr>\n",
       "    <tr>\n",
       "      <th>...</th>\n",
       "      <td>...</td>\n",
       "      <td>...</td>\n",
       "      <td>...</td>\n",
       "      <td>...</td>\n",
       "      <td>...</td>\n",
       "    </tr>\n",
       "    <tr>\n",
       "      <th>195</th>\n",
       "      <td>196</td>\n",
       "      <td>38.2</td>\n",
       "      <td>3.7</td>\n",
       "      <td>13.8</td>\n",
       "      <td>7.6</td>\n",
       "    </tr>\n",
       "    <tr>\n",
       "      <th>196</th>\n",
       "      <td>197</td>\n",
       "      <td>94.2</td>\n",
       "      <td>4.9</td>\n",
       "      <td>8.1</td>\n",
       "      <td>9.7</td>\n",
       "    </tr>\n",
       "    <tr>\n",
       "      <th>197</th>\n",
       "      <td>198</td>\n",
       "      <td>177.0</td>\n",
       "      <td>9.3</td>\n",
       "      <td>6.4</td>\n",
       "      <td>12.8</td>\n",
       "    </tr>\n",
       "    <tr>\n",
       "      <th>198</th>\n",
       "      <td>199</td>\n",
       "      <td>283.6</td>\n",
       "      <td>42.0</td>\n",
       "      <td>66.2</td>\n",
       "      <td>25.5</td>\n",
       "    </tr>\n",
       "    <tr>\n",
       "      <th>199</th>\n",
       "      <td>200</td>\n",
       "      <td>232.1</td>\n",
       "      <td>8.6</td>\n",
       "      <td>8.7</td>\n",
       "      <td>13.4</td>\n",
       "    </tr>\n",
       "  </tbody>\n",
       "</table>\n",
       "<p>200 rows × 5 columns</p>\n",
       "</div>"
      ],
      "text/plain": [
       "     Unnamed: 0     TV  Radio  Newspaper  Sales\n",
       "0             1  230.1   37.8       69.2   22.1\n",
       "1             2   44.5   39.3       45.1   10.4\n",
       "2             3   17.2   45.9       69.3    9.3\n",
       "3             4  151.5   41.3       58.5   18.5\n",
       "4             5  180.8   10.8       58.4   12.9\n",
       "..          ...    ...    ...        ...    ...\n",
       "195         196   38.2    3.7       13.8    7.6\n",
       "196         197   94.2    4.9        8.1    9.7\n",
       "197         198  177.0    9.3        6.4   12.8\n",
       "198         199  283.6   42.0       66.2   25.5\n",
       "199         200  232.1    8.6        8.7   13.4\n",
       "\n",
       "[200 rows x 5 columns]"
      ]
     },
     "execution_count": 2,
     "metadata": {},
     "output_type": "execute_result"
    }
   ],
   "source": [
    "#reading the data set and printing it\n",
    "\n",
    "df = pd.read_csv(\"Advertising.csv\")\n",
    "df"
   ]
  },
  {
   "cell_type": "code",
   "execution_count": 3,
   "id": "d20b592d",
   "metadata": {},
   "outputs": [
    {
     "data": {
      "text/html": [
       "<div>\n",
       "<style scoped>\n",
       "    .dataframe tbody tr th:only-of-type {\n",
       "        vertical-align: middle;\n",
       "    }\n",
       "\n",
       "    .dataframe tbody tr th {\n",
       "        vertical-align: top;\n",
       "    }\n",
       "\n",
       "    .dataframe thead th {\n",
       "        text-align: right;\n",
       "    }\n",
       "</style>\n",
       "<table border=\"1\" class=\"dataframe\">\n",
       "  <thead>\n",
       "    <tr style=\"text-align: right;\">\n",
       "      <th></th>\n",
       "      <th>TV</th>\n",
       "      <th>Radio</th>\n",
       "      <th>Newspaper</th>\n",
       "      <th>Sales</th>\n",
       "    </tr>\n",
       "  </thead>\n",
       "  <tbody>\n",
       "    <tr>\n",
       "      <th>0</th>\n",
       "      <td>230.1</td>\n",
       "      <td>37.8</td>\n",
       "      <td>69.2</td>\n",
       "      <td>22.1</td>\n",
       "    </tr>\n",
       "    <tr>\n",
       "      <th>1</th>\n",
       "      <td>44.5</td>\n",
       "      <td>39.3</td>\n",
       "      <td>45.1</td>\n",
       "      <td>10.4</td>\n",
       "    </tr>\n",
       "    <tr>\n",
       "      <th>2</th>\n",
       "      <td>17.2</td>\n",
       "      <td>45.9</td>\n",
       "      <td>69.3</td>\n",
       "      <td>9.3</td>\n",
       "    </tr>\n",
       "    <tr>\n",
       "      <th>3</th>\n",
       "      <td>151.5</td>\n",
       "      <td>41.3</td>\n",
       "      <td>58.5</td>\n",
       "      <td>18.5</td>\n",
       "    </tr>\n",
       "    <tr>\n",
       "      <th>4</th>\n",
       "      <td>180.8</td>\n",
       "      <td>10.8</td>\n",
       "      <td>58.4</td>\n",
       "      <td>12.9</td>\n",
       "    </tr>\n",
       "    <tr>\n",
       "      <th>...</th>\n",
       "      <td>...</td>\n",
       "      <td>...</td>\n",
       "      <td>...</td>\n",
       "      <td>...</td>\n",
       "    </tr>\n",
       "    <tr>\n",
       "      <th>195</th>\n",
       "      <td>38.2</td>\n",
       "      <td>3.7</td>\n",
       "      <td>13.8</td>\n",
       "      <td>7.6</td>\n",
       "    </tr>\n",
       "    <tr>\n",
       "      <th>196</th>\n",
       "      <td>94.2</td>\n",
       "      <td>4.9</td>\n",
       "      <td>8.1</td>\n",
       "      <td>9.7</td>\n",
       "    </tr>\n",
       "    <tr>\n",
       "      <th>197</th>\n",
       "      <td>177.0</td>\n",
       "      <td>9.3</td>\n",
       "      <td>6.4</td>\n",
       "      <td>12.8</td>\n",
       "    </tr>\n",
       "    <tr>\n",
       "      <th>198</th>\n",
       "      <td>283.6</td>\n",
       "      <td>42.0</td>\n",
       "      <td>66.2</td>\n",
       "      <td>25.5</td>\n",
       "    </tr>\n",
       "    <tr>\n",
       "      <th>199</th>\n",
       "      <td>232.1</td>\n",
       "      <td>8.6</td>\n",
       "      <td>8.7</td>\n",
       "      <td>13.4</td>\n",
       "    </tr>\n",
       "  </tbody>\n",
       "</table>\n",
       "<p>200 rows × 4 columns</p>\n",
       "</div>"
      ],
      "text/plain": [
       "        TV  Radio  Newspaper  Sales\n",
       "0    230.1   37.8       69.2   22.1\n",
       "1     44.5   39.3       45.1   10.4\n",
       "2     17.2   45.9       69.3    9.3\n",
       "3    151.5   41.3       58.5   18.5\n",
       "4    180.8   10.8       58.4   12.9\n",
       "..     ...    ...        ...    ...\n",
       "195   38.2    3.7       13.8    7.6\n",
       "196   94.2    4.9        8.1    9.7\n",
       "197  177.0    9.3        6.4   12.8\n",
       "198  283.6   42.0       66.2   25.5\n",
       "199  232.1    8.6        8.7   13.4\n",
       "\n",
       "[200 rows x 4 columns]"
      ]
     },
     "execution_count": 3,
     "metadata": {},
     "output_type": "execute_result"
    }
   ],
   "source": [
    "#dropping the 0th column and printing the dataset \n",
    "\n",
    "df.drop(df.columns[[0]], axis=1, inplace=True)\n",
    "df"
   ]
  },
  {
   "cell_type": "code",
   "execution_count": 4,
   "id": "fd99a1fd",
   "metadata": {},
   "outputs": [
    {
     "data": {
      "text/html": [
       "<div>\n",
       "<style scoped>\n",
       "    .dataframe tbody tr th:only-of-type {\n",
       "        vertical-align: middle;\n",
       "    }\n",
       "\n",
       "    .dataframe tbody tr th {\n",
       "        vertical-align: top;\n",
       "    }\n",
       "\n",
       "    .dataframe thead th {\n",
       "        text-align: right;\n",
       "    }\n",
       "</style>\n",
       "<table border=\"1\" class=\"dataframe\">\n",
       "  <thead>\n",
       "    <tr style=\"text-align: right;\">\n",
       "      <th></th>\n",
       "      <th>TV</th>\n",
       "      <th>Radio</th>\n",
       "      <th>Newspaper</th>\n",
       "      <th>Sales</th>\n",
       "    </tr>\n",
       "  </thead>\n",
       "  <tbody>\n",
       "    <tr>\n",
       "      <th>0</th>\n",
       "      <td>230.1</td>\n",
       "      <td>37.8</td>\n",
       "      <td>69.2</td>\n",
       "      <td>22.1</td>\n",
       "    </tr>\n",
       "    <tr>\n",
       "      <th>1</th>\n",
       "      <td>44.5</td>\n",
       "      <td>39.3</td>\n",
       "      <td>45.1</td>\n",
       "      <td>10.4</td>\n",
       "    </tr>\n",
       "    <tr>\n",
       "      <th>2</th>\n",
       "      <td>17.2</td>\n",
       "      <td>45.9</td>\n",
       "      <td>69.3</td>\n",
       "      <td>9.3</td>\n",
       "    </tr>\n",
       "    <tr>\n",
       "      <th>3</th>\n",
       "      <td>151.5</td>\n",
       "      <td>41.3</td>\n",
       "      <td>58.5</td>\n",
       "      <td>18.5</td>\n",
       "    </tr>\n",
       "    <tr>\n",
       "      <th>4</th>\n",
       "      <td>180.8</td>\n",
       "      <td>10.8</td>\n",
       "      <td>58.4</td>\n",
       "      <td>12.9</td>\n",
       "    </tr>\n",
       "  </tbody>\n",
       "</table>\n",
       "</div>"
      ],
      "text/plain": [
       "      TV  Radio  Newspaper  Sales\n",
       "0  230.1   37.8       69.2   22.1\n",
       "1   44.5   39.3       45.1   10.4\n",
       "2   17.2   45.9       69.3    9.3\n",
       "3  151.5   41.3       58.5   18.5\n",
       "4  180.8   10.8       58.4   12.9"
      ]
     },
     "execution_count": 4,
     "metadata": {},
     "output_type": "execute_result"
    }
   ],
   "source": [
    "# printing first five rows of the dataset\n",
    "\n",
    "df.head()"
   ]
  },
  {
   "cell_type": "code",
   "execution_count": 5,
   "id": "7974994a",
   "metadata": {},
   "outputs": [
    {
     "data": {
      "text/html": [
       "<div>\n",
       "<style scoped>\n",
       "    .dataframe tbody tr th:only-of-type {\n",
       "        vertical-align: middle;\n",
       "    }\n",
       "\n",
       "    .dataframe tbody tr th {\n",
       "        vertical-align: top;\n",
       "    }\n",
       "\n",
       "    .dataframe thead th {\n",
       "        text-align: right;\n",
       "    }\n",
       "</style>\n",
       "<table border=\"1\" class=\"dataframe\">\n",
       "  <thead>\n",
       "    <tr style=\"text-align: right;\">\n",
       "      <th></th>\n",
       "      <th>TV</th>\n",
       "      <th>Radio</th>\n",
       "      <th>Newspaper</th>\n",
       "      <th>Sales</th>\n",
       "    </tr>\n",
       "  </thead>\n",
       "  <tbody>\n",
       "    <tr>\n",
       "      <th>195</th>\n",
       "      <td>38.2</td>\n",
       "      <td>3.7</td>\n",
       "      <td>13.8</td>\n",
       "      <td>7.6</td>\n",
       "    </tr>\n",
       "    <tr>\n",
       "      <th>196</th>\n",
       "      <td>94.2</td>\n",
       "      <td>4.9</td>\n",
       "      <td>8.1</td>\n",
       "      <td>9.7</td>\n",
       "    </tr>\n",
       "    <tr>\n",
       "      <th>197</th>\n",
       "      <td>177.0</td>\n",
       "      <td>9.3</td>\n",
       "      <td>6.4</td>\n",
       "      <td>12.8</td>\n",
       "    </tr>\n",
       "    <tr>\n",
       "      <th>198</th>\n",
       "      <td>283.6</td>\n",
       "      <td>42.0</td>\n",
       "      <td>66.2</td>\n",
       "      <td>25.5</td>\n",
       "    </tr>\n",
       "    <tr>\n",
       "      <th>199</th>\n",
       "      <td>232.1</td>\n",
       "      <td>8.6</td>\n",
       "      <td>8.7</td>\n",
       "      <td>13.4</td>\n",
       "    </tr>\n",
       "  </tbody>\n",
       "</table>\n",
       "</div>"
      ],
      "text/plain": [
       "        TV  Radio  Newspaper  Sales\n",
       "195   38.2    3.7       13.8    7.6\n",
       "196   94.2    4.9        8.1    9.7\n",
       "197  177.0    9.3        6.4   12.8\n",
       "198  283.6   42.0       66.2   25.5\n",
       "199  232.1    8.6        8.7   13.4"
      ]
     },
     "execution_count": 5,
     "metadata": {},
     "output_type": "execute_result"
    }
   ],
   "source": [
    "# printing last five rows of the dataset\n",
    "        \n",
    "df.tail()"
   ]
  },
  {
   "cell_type": "code",
   "execution_count": 6,
   "id": "a0b00baf",
   "metadata": {},
   "outputs": [
    {
     "data": {
      "text/plain": [
       "(200, 4)"
      ]
     },
     "execution_count": 6,
     "metadata": {},
     "output_type": "execute_result"
    }
   ],
   "source": [
    "# finding the shape of the dataset\n",
    "\n",
    "df.shape"
   ]
  },
  {
   "cell_type": "code",
   "execution_count": 7,
   "id": "f1a92e72",
   "metadata": {},
   "outputs": [
    {
     "data": {
      "text/plain": [
       "Index(['TV', 'Radio', 'Newspaper', 'Sales'], dtype='object')"
      ]
     },
     "execution_count": 7,
     "metadata": {},
     "output_type": "execute_result"
    }
   ],
   "source": [
    "# printing the columns names of the dataset\n",
    "\n",
    "df.columns"
   ]
  },
  {
   "cell_type": "code",
   "execution_count": 8,
   "id": "739fd340",
   "metadata": {},
   "outputs": [
    {
     "data": {
      "text/plain": [
       "TV           200\n",
       "Radio        200\n",
       "Newspaper    200\n",
       "Sales        200\n",
       "dtype: int64"
      ]
     },
     "execution_count": 8,
     "metadata": {},
     "output_type": "execute_result"
    }
   ],
   "source": [
    "#count() returns no of rows in each column\n",
    "\n",
    "df.count()"
   ]
  },
  {
   "cell_type": "code",
   "execution_count": 9,
   "id": "35351ee8",
   "metadata": {},
   "outputs": [
    {
     "data": {
      "text/plain": [
       "TV           float64\n",
       "Radio        float64\n",
       "Newspaper    float64\n",
       "Sales        float64\n",
       "dtype: object"
      ]
     },
     "execution_count": 9,
     "metadata": {},
     "output_type": "execute_result"
    }
   ],
   "source": [
    "#checking the data types of the variables \n",
    "\n",
    "df.dtypes"
   ]
  },
  {
   "cell_type": "code",
   "execution_count": 10,
   "id": "da6f7424",
   "metadata": {},
   "outputs": [
    {
     "data": {
      "text/html": [
       "<div>\n",
       "<style scoped>\n",
       "    .dataframe tbody tr th:only-of-type {\n",
       "        vertical-align: middle;\n",
       "    }\n",
       "\n",
       "    .dataframe tbody tr th {\n",
       "        vertical-align: top;\n",
       "    }\n",
       "\n",
       "    .dataframe thead th {\n",
       "        text-align: right;\n",
       "    }\n",
       "</style>\n",
       "<table border=\"1\" class=\"dataframe\">\n",
       "  <thead>\n",
       "    <tr style=\"text-align: right;\">\n",
       "      <th></th>\n",
       "      <th>TV</th>\n",
       "      <th>Radio</th>\n",
       "      <th>Newspaper</th>\n",
       "      <th>Sales</th>\n",
       "    </tr>\n",
       "  </thead>\n",
       "  <tbody>\n",
       "    <tr>\n",
       "      <th>count</th>\n",
       "      <td>200.000000</td>\n",
       "      <td>200.000000</td>\n",
       "      <td>200.000000</td>\n",
       "      <td>200.000000</td>\n",
       "    </tr>\n",
       "    <tr>\n",
       "      <th>mean</th>\n",
       "      <td>147.042500</td>\n",
       "      <td>23.264000</td>\n",
       "      <td>30.554000</td>\n",
       "      <td>14.022500</td>\n",
       "    </tr>\n",
       "    <tr>\n",
       "      <th>std</th>\n",
       "      <td>85.854236</td>\n",
       "      <td>14.846809</td>\n",
       "      <td>21.778621</td>\n",
       "      <td>5.217457</td>\n",
       "    </tr>\n",
       "    <tr>\n",
       "      <th>min</th>\n",
       "      <td>0.700000</td>\n",
       "      <td>0.000000</td>\n",
       "      <td>0.300000</td>\n",
       "      <td>1.600000</td>\n",
       "    </tr>\n",
       "    <tr>\n",
       "      <th>25%</th>\n",
       "      <td>74.375000</td>\n",
       "      <td>9.975000</td>\n",
       "      <td>12.750000</td>\n",
       "      <td>10.375000</td>\n",
       "    </tr>\n",
       "    <tr>\n",
       "      <th>50%</th>\n",
       "      <td>149.750000</td>\n",
       "      <td>22.900000</td>\n",
       "      <td>25.750000</td>\n",
       "      <td>12.900000</td>\n",
       "    </tr>\n",
       "    <tr>\n",
       "      <th>75%</th>\n",
       "      <td>218.825000</td>\n",
       "      <td>36.525000</td>\n",
       "      <td>45.100000</td>\n",
       "      <td>17.400000</td>\n",
       "    </tr>\n",
       "    <tr>\n",
       "      <th>max</th>\n",
       "      <td>296.400000</td>\n",
       "      <td>49.600000</td>\n",
       "      <td>114.000000</td>\n",
       "      <td>27.000000</td>\n",
       "    </tr>\n",
       "  </tbody>\n",
       "</table>\n",
       "</div>"
      ],
      "text/plain": [
       "               TV       Radio   Newspaper       Sales\n",
       "count  200.000000  200.000000  200.000000  200.000000\n",
       "mean   147.042500   23.264000   30.554000   14.022500\n",
       "std     85.854236   14.846809   21.778621    5.217457\n",
       "min      0.700000    0.000000    0.300000    1.600000\n",
       "25%     74.375000    9.975000   12.750000   10.375000\n",
       "50%    149.750000   22.900000   25.750000   12.900000\n",
       "75%    218.825000   36.525000   45.100000   17.400000\n",
       "max    296.400000   49.600000  114.000000   27.000000"
      ]
     },
     "execution_count": 10,
     "metadata": {},
     "output_type": "execute_result"
    }
   ],
   "source": [
    "# printing the descriptive information of the dataset like min , max , count , standard deviation , mean , median , 25% and 75% quartiles of the dataset\n",
    "\n",
    "df.describe()"
   ]
  },
  {
   "cell_type": "code",
   "execution_count": 11,
   "id": "3881e01b",
   "metadata": {},
   "outputs": [
    {
     "name": "stdout",
     "output_type": "stream",
     "text": [
      "<class 'pandas.core.frame.DataFrame'>\n",
      "RangeIndex: 200 entries, 0 to 199\n",
      "Data columns (total 4 columns):\n",
      " #   Column     Non-Null Count  Dtype  \n",
      "---  ------     --------------  -----  \n",
      " 0   TV         200 non-null    float64\n",
      " 1   Radio      200 non-null    float64\n",
      " 2   Newspaper  200 non-null    float64\n",
      " 3   Sales      200 non-null    float64\n",
      "dtypes: float64(4)\n",
      "memory usage: 6.4 KB\n"
     ]
    }
   ],
   "source": [
    "#getting the information about the dataset like memory useage , columns names and its data-types, non-null count \n",
    "\n",
    "df.info()"
   ]
  },
  {
   "cell_type": "code",
   "execution_count": null,
   "id": "1b526ef9",
   "metadata": {},
   "outputs": [],
   "source": []
  },
  {
   "cell_type": "markdown",
   "id": "b8cdddda",
   "metadata": {},
   "source": [
    "DATA PRE-PROCESSING"
   ]
  },
  {
   "cell_type": "code",
   "execution_count": 12,
   "id": "9c43e53e",
   "metadata": {},
   "outputs": [
    {
     "data": {
      "text/plain": [
       "TV           190\n",
       "Radio        167\n",
       "Newspaper    172\n",
       "Sales        121\n",
       "dtype: int64"
      ]
     },
     "execution_count": 12,
     "metadata": {},
     "output_type": "execute_result"
    }
   ],
   "source": [
    "# checking the unique values in each column\n",
    "\n",
    "df.nunique()"
   ]
  },
  {
   "cell_type": "code",
   "execution_count": 13,
   "id": "48307825",
   "metadata": {},
   "outputs": [
    {
     "name": "stdout",
     "output_type": "stream",
     "text": [
      "0      False\n",
      "1      False\n",
      "2      False\n",
      "3      False\n",
      "4      False\n",
      "       ...  \n",
      "195    False\n",
      "196    False\n",
      "197    False\n",
      "198    False\n",
      "199    False\n",
      "Length: 200, dtype: bool\n"
     ]
    }
   ],
   "source": [
    "# checking for duplicated values\n",
    "\n",
    "print(df.duplicated())"
   ]
  },
  {
   "cell_type": "code",
   "execution_count": 14,
   "id": "714d584a",
   "metadata": {},
   "outputs": [
    {
     "data": {
      "text/plain": [
       "0"
      ]
     },
     "execution_count": 14,
     "metadata": {},
     "output_type": "execute_result"
    }
   ],
   "source": [
    "# printing total number of duplicate values in the whole dataset\n",
    "\n",
    "df.duplicated().sum()"
   ]
  },
  {
   "cell_type": "code",
   "execution_count": 15,
   "id": "db98f7f8",
   "metadata": {},
   "outputs": [
    {
     "data": {
      "text/html": [
       "<div>\n",
       "<style scoped>\n",
       "    .dataframe tbody tr th:only-of-type {\n",
       "        vertical-align: middle;\n",
       "    }\n",
       "\n",
       "    .dataframe tbody tr th {\n",
       "        vertical-align: top;\n",
       "    }\n",
       "\n",
       "    .dataframe thead th {\n",
       "        text-align: right;\n",
       "    }\n",
       "</style>\n",
       "<table border=\"1\" class=\"dataframe\">\n",
       "  <thead>\n",
       "    <tr style=\"text-align: right;\">\n",
       "      <th></th>\n",
       "      <th>TV</th>\n",
       "      <th>Radio</th>\n",
       "      <th>Newspaper</th>\n",
       "      <th>Sales</th>\n",
       "    </tr>\n",
       "  </thead>\n",
       "  <tbody>\n",
       "    <tr>\n",
       "      <th>0</th>\n",
       "      <td>False</td>\n",
       "      <td>False</td>\n",
       "      <td>False</td>\n",
       "      <td>False</td>\n",
       "    </tr>\n",
       "    <tr>\n",
       "      <th>1</th>\n",
       "      <td>False</td>\n",
       "      <td>False</td>\n",
       "      <td>False</td>\n",
       "      <td>False</td>\n",
       "    </tr>\n",
       "    <tr>\n",
       "      <th>2</th>\n",
       "      <td>False</td>\n",
       "      <td>False</td>\n",
       "      <td>False</td>\n",
       "      <td>False</td>\n",
       "    </tr>\n",
       "    <tr>\n",
       "      <th>3</th>\n",
       "      <td>False</td>\n",
       "      <td>False</td>\n",
       "      <td>False</td>\n",
       "      <td>False</td>\n",
       "    </tr>\n",
       "    <tr>\n",
       "      <th>4</th>\n",
       "      <td>False</td>\n",
       "      <td>False</td>\n",
       "      <td>False</td>\n",
       "      <td>False</td>\n",
       "    </tr>\n",
       "    <tr>\n",
       "      <th>...</th>\n",
       "      <td>...</td>\n",
       "      <td>...</td>\n",
       "      <td>...</td>\n",
       "      <td>...</td>\n",
       "    </tr>\n",
       "    <tr>\n",
       "      <th>195</th>\n",
       "      <td>False</td>\n",
       "      <td>False</td>\n",
       "      <td>False</td>\n",
       "      <td>False</td>\n",
       "    </tr>\n",
       "    <tr>\n",
       "      <th>196</th>\n",
       "      <td>False</td>\n",
       "      <td>False</td>\n",
       "      <td>False</td>\n",
       "      <td>False</td>\n",
       "    </tr>\n",
       "    <tr>\n",
       "      <th>197</th>\n",
       "      <td>False</td>\n",
       "      <td>False</td>\n",
       "      <td>False</td>\n",
       "      <td>False</td>\n",
       "    </tr>\n",
       "    <tr>\n",
       "      <th>198</th>\n",
       "      <td>False</td>\n",
       "      <td>False</td>\n",
       "      <td>False</td>\n",
       "      <td>False</td>\n",
       "    </tr>\n",
       "    <tr>\n",
       "      <th>199</th>\n",
       "      <td>False</td>\n",
       "      <td>False</td>\n",
       "      <td>False</td>\n",
       "      <td>False</td>\n",
       "    </tr>\n",
       "  </tbody>\n",
       "</table>\n",
       "<p>200 rows × 4 columns</p>\n",
       "</div>"
      ],
      "text/plain": [
       "        TV  Radio  Newspaper  Sales\n",
       "0    False  False      False  False\n",
       "1    False  False      False  False\n",
       "2    False  False      False  False\n",
       "3    False  False      False  False\n",
       "4    False  False      False  False\n",
       "..     ...    ...        ...    ...\n",
       "195  False  False      False  False\n",
       "196  False  False      False  False\n",
       "197  False  False      False  False\n",
       "198  False  False      False  False\n",
       "199  False  False      False  False\n",
       "\n",
       "[200 rows x 4 columns]"
      ]
     },
     "execution_count": 15,
     "metadata": {},
     "output_type": "execute_result"
    }
   ],
   "source": [
    "# checking null values \n",
    "\n",
    "df.isnull()"
   ]
  },
  {
   "cell_type": "code",
   "execution_count": 16,
   "id": "58744d7e",
   "metadata": {},
   "outputs": [
    {
     "data": {
      "text/plain": [
       "TV           0\n",
       "Radio        0\n",
       "Newspaper    0\n",
       "Sales        0\n",
       "dtype: int64"
      ]
     },
     "execution_count": 16,
     "metadata": {},
     "output_type": "execute_result"
    }
   ],
   "source": [
    "#  checking null values in each column\n",
    "\n",
    "df.isnull().sum()"
   ]
  },
  {
   "cell_type": "code",
   "execution_count": 17,
   "id": "3cbb390b",
   "metadata": {},
   "outputs": [
    {
     "data": {
      "text/plain": [
       "0"
      ]
     },
     "execution_count": 17,
     "metadata": {},
     "output_type": "execute_result"
    }
   ],
   "source": [
    "#  checking null values in the entire dataset\n",
    "\n",
    "df.isnull().sum().sum()"
   ]
  },
  {
   "cell_type": "code",
   "execution_count": null,
   "id": "5c76f62e",
   "metadata": {},
   "outputs": [],
   "source": []
  },
  {
   "cell_type": "markdown",
   "id": "8ba42555",
   "metadata": {},
   "source": [
    "VISUALIZATION"
   ]
  },
  {
   "cell_type": "code",
   "execution_count": 18,
   "id": "ad7e681d",
   "metadata": {},
   "outputs": [
    {
     "data": {
      "text/plain": [
       "(array([ 2.,  9., 20., 47., 35., 29., 22., 17., 12.,  7.]),\n",
       " array([ 1.6 ,  4.14,  6.68,  9.22, 11.76, 14.3 , 16.84, 19.38, 21.92,\n",
       "        24.46, 27.  ]),\n",
       " <BarContainer object of 10 artists>)"
      ]
     },
     "execution_count": 18,
     "metadata": {},
     "output_type": "execute_result"
    },
    {
     "data": {
      "image/png": "[encoded data removed]",
      "text/plain": [
       "<Figure size 640x480 with 1 Axes>"
      ]
     },
     "metadata": {},
     "output_type": "display_data"
    }
   ],
   "source": [
    "#ploting the graph for the target column\n",
    "\n",
    "plt.hist(df['Sales'])"
   ]
  },
  {
   "cell_type": "markdown",
   "id": "764addac",
   "metadata": {},
   "source": [
    "By observing the above graph we can say that our graph is left skeewed because most of the data lies in the right side of the graph and the left tail of the graph is skeewed. Hence we can say it as left-skeewed graph."
   ]
  },
  {
   "cell_type": "code",
   "execution_count": 19,
   "id": "1f919482",
   "metadata": {},
   "outputs": [
    {
     "data": {
      "text/html": [
       "<div>\n",
       "<style scoped>\n",
       "    .dataframe tbody tr th:only-of-type {\n",
       "        vertical-align: middle;\n",
       "    }\n",
       "\n",
       "    .dataframe tbody tr th {\n",
       "        vertical-align: top;\n",
       "    }\n",
       "\n",
       "    .dataframe thead th {\n",
       "        text-align: right;\n",
       "    }\n",
       "</style>\n",
       "<table border=\"1\" class=\"dataframe\">\n",
       "  <thead>\n",
       "    <tr style=\"text-align: right;\">\n",
       "      <th></th>\n",
       "      <th>TV</th>\n",
       "      <th>Radio</th>\n",
       "      <th>Newspaper</th>\n",
       "      <th>Sales</th>\n",
       "    </tr>\n",
       "  </thead>\n",
       "  <tbody>\n",
       "    <tr>\n",
       "      <th>TV</th>\n",
       "      <td>1.000000</td>\n",
       "      <td>0.054809</td>\n",
       "      <td>0.056648</td>\n",
       "      <td>0.782224</td>\n",
       "    </tr>\n",
       "    <tr>\n",
       "      <th>Radio</th>\n",
       "      <td>0.054809</td>\n",
       "      <td>1.000000</td>\n",
       "      <td>0.354104</td>\n",
       "      <td>0.576223</td>\n",
       "    </tr>\n",
       "    <tr>\n",
       "      <th>Newspaper</th>\n",
       "      <td>0.056648</td>\n",
       "      <td>0.354104</td>\n",
       "      <td>1.000000</td>\n",
       "      <td>0.228299</td>\n",
       "    </tr>\n",
       "    <tr>\n",
       "      <th>Sales</th>\n",
       "      <td>0.782224</td>\n",
       "      <td>0.576223</td>\n",
       "      <td>0.228299</td>\n",
       "      <td>1.000000</td>\n",
       "    </tr>\n",
       "  </tbody>\n",
       "</table>\n",
       "</div>"
      ],
      "text/plain": [
       "                 TV     Radio  Newspaper     Sales\n",
       "TV         1.000000  0.054809   0.056648  0.782224\n",
       "Radio      0.054809  1.000000   0.354104  0.576223\n",
       "Newspaper  0.056648  0.354104   1.000000  0.228299\n",
       "Sales      0.782224  0.576223   0.228299  1.000000"
      ]
     },
     "execution_count": 19,
     "metadata": {},
     "output_type": "execute_result"
    }
   ],
   "source": [
    "# finding the correlation between the data \n",
    "\n",
    "df.corr()"
   ]
  },
  {
   "cell_type": "code",
   "execution_count": 20,
   "id": "0443e82c",
   "metadata": {},
   "outputs": [
    {
     "data": {
      "text/plain": [
       "<AxesSubplot:>"
      ]
     },
     "execution_count": 20,
     "metadata": {},
     "output_type": "execute_result"
    },
    {
     "data": {
      "image/png": "[encoded data removed]",
      "text/plain": [
       "<Figure size 1500x1000 with 2 Axes>"
      ]
     },
     "metadata": {},
     "output_type": "display_data"
    }
   ],
   "source": [
    "#visualizing the correlation of the data\n",
    "\n",
    "\n",
    "f, ax = plt.subplots(figsize=(15,10))\n",
    "corr = df.corr()\n",
    "sns.heatmap(corr, ax=ax , annot = True)"
   ]
  },
  {
   "cell_type": "markdown",
   "id": "f887cda5",
   "metadata": {},
   "source": [
    "By observing the above graph we can say that the 'TV' and 'Sales' variables are highly correlated to each other which means that the 'TV' and the 'Sales' variables explain how much the one variable is dependant on the other variable in a dataset."
   ]
  },
  {
   "cell_type": "code",
   "execution_count": 21,
   "id": "6706632d",
   "metadata": {},
   "outputs": [
    {
     "data": {
      "text/plain": [
       "Text(0.5, 1.0, 'Scatter Plot')"
      ]
     },
     "execution_count": 21,
     "metadata": {},
     "output_type": "execute_result"
    },
    {
     "data": {
      "image/png": "[encoded data removed]",
      "text/plain": [
       "<Figure size 640x480 with 1 Axes>"
      ]
     },
     "metadata": {},
     "output_type": "display_data"
    }
   ],
   "source": [
    "# drawing plot on the most correlated variables in the dataset \n",
    "\n",
    "x=df[['TV']].values  \n",
    "y=df['Sales'].values \n",
    "plt.scatter(x,y)\n",
    "plt.xlabel('TV budget in 1000$' ,fontsize=20)\n",
    "plt.ylabel('Sales in 1000$',fontsize=20)\n",
    "plt.title('Scatter Plot',fontsize=25)"
   ]
  },
  {
   "cell_type": "markdown",
   "id": "c9ad1294",
   "metadata": {},
   "source": [
    "In this plot we have taken two variables which are highly correlated to each other and plotted a scatter plot which describes that as the TV budget in 1000$ increases the sales in 1000$ also increases."
   ]
  },
  {
   "cell_type": "code",
   "execution_count": 22,
   "id": "84fe1f24",
   "metadata": {},
   "outputs": [
    {
     "data": {
      "image/png": "[encoded data removed]",
      "text/plain": [
       "<Figure size 800x100 with 1 Axes>"
      ]
     },
     "metadata": {},
     "output_type": "display_data"
    },
    {
     "data": {
      "image/png": "[encoded data removed]",
      "text/plain": [
       "<Figure size 800x100 with 1 Axes>"
      ]
     },
     "metadata": {},
     "output_type": "display_data"
    },
    {
     "data": {
      "image/png": "[encoded data removed]",
      "text/plain": [
       "<Figure size 800x100 with 1 Axes>"
      ]
     },
     "metadata": {},
     "output_type": "display_data"
    },
    {
     "data": {
      "image/png": "[encoded data removed]",
      "text/plain": [
       "<Figure size 800x100 with 1 Axes>"
      ]
     },
     "metadata": {},
     "output_type": "display_data"
    }
   ],
   "source": [
    "# Applying a box-plot to check the outliers\n",
    "\n",
    "for column in df:\n",
    "    plt.figure(figsize=(8,1))\n",
    "    sns.barplot(data=df,x=column)"
   ]
  },
  {
   "cell_type": "markdown",
   "id": "0e629739",
   "metadata": {},
   "source": [
    "By considering the baove box-plot we can say that we are here checking for the outliers and our dataset may contain some outliers with-in it and we need to impute it."
   ]
  },
  {
   "cell_type": "code",
   "execution_count": 23,
   "id": "28d78472",
   "metadata": {},
   "outputs": [
    {
     "name": "stdout",
     "output_type": "stream",
     "text": [
      "capping the TV\n",
      "capping the Radio\n",
      "capping the Newspaper\n",
      "capping the Sales\n"
     ]
    }
   ],
   "source": [
    "# outlier treatment\n",
    "\n",
    "def cap_data(df):\n",
    "    for col in df.columns:\n",
    "        print(\"capping the\",col)\n",
    "        if (((df[col].dtype)=='float64')|((df[col].dtype)=='int64')):\n",
    "            percentiles = df[col].quantile([0.20,0.80]).values\n",
    "            df[col][df[col] <= percentiles[0]] = percentiles[0]\n",
    "            df[col][df[col] >= percentiles[1]] = percentiles[1]\n",
    "        else:\n",
    "            df[col]=df[col]\n",
    "    return df\n",
    "final_df = cap_data(df)\n",
    "\n",
    "\n",
    "#UCL=Q3 + 1.5 * IQR"
   ]
  },
  {
   "cell_type": "code",
   "execution_count": 24,
   "id": "6412cd55",
   "metadata": {},
   "outputs": [
    {
     "data": {
      "image/png": "[encoded data removed]",
      "text/plain": [
       "<Figure size 1000x100 with 1 Axes>"
      ]
     },
     "metadata": {},
     "output_type": "display_data"
    },
    {
     "data": {
      "image/png": "[encoded data removed]",
      "text/plain": [
       "<Figure size 1000x100 with 1 Axes>"
      ]
     },
     "metadata": {},
     "output_type": "display_data"
    },
    {
     "data": {
      "image/png": "[encoded data removed]",
      "text/plain": [
       "<Figure size 1000x100 with 1 Axes>"
      ]
     },
     "metadata": {},
     "output_type": "display_data"
    },
    {
     "data": {
      "image/png": "[encoded data removed]",
      "text/plain": [
       "<Figure size 1000x100 with 1 Axes>"
      ]
     },
     "metadata": {},
     "output_type": "display_data"
    }
   ],
   "source": [
    "for column in final_df:\n",
    "    plt.figure(figsize=(10,1))\n",
    "    sns.boxplot(data=final_df,x=column)"
   ]
  },
  {
   "cell_type": "markdown",
   "id": "ac3dd7ba",
   "metadata": {},
   "source": [
    "We have done the outlier treatement and plot the box-plot again to check if there are any outliers left by the above graph we can say that our datasetb doesn't contain any outliers."
   ]
  },
  {
   "cell_type": "code",
   "execution_count": null,
   "id": "dc299d50",
   "metadata": {},
   "outputs": [],
   "source": []
  },
  {
   "cell_type": "markdown",
   "id": "0e79592f",
   "metadata": {},
   "source": [
    "SEPARATING INPUT AND OUTPUT VARIABLES"
   ]
  },
  {
   "cell_type": "code",
   "execution_count": 25,
   "id": "67c9a3d7",
   "metadata": {},
   "outputs": [],
   "source": [
    "# separating input columns from output column\n",
    "\n",
    "X = df.loc[:,df.columns!=\"Sales\"]"
   ]
  },
  {
   "cell_type": "code",
   "execution_count": 26,
   "id": "23e386ac",
   "metadata": {},
   "outputs": [
    {
     "data": {
      "text/html": [
       "<div>\n",
       "<style scoped>\n",
       "    .dataframe tbody tr th:only-of-type {\n",
       "        vertical-align: middle;\n",
       "    }\n",
       "\n",
       "    .dataframe tbody tr th {\n",
       "        vertical-align: top;\n",
       "    }\n",
       "\n",
       "    .dataframe thead th {\n",
       "        text-align: right;\n",
       "    }\n",
       "</style>\n",
       "<table border=\"1\" class=\"dataframe\">\n",
       "  <thead>\n",
       "    <tr style=\"text-align: right;\">\n",
       "      <th></th>\n",
       "      <th>TV</th>\n",
       "      <th>Radio</th>\n",
       "      <th>Newspaper</th>\n",
       "    </tr>\n",
       "  </thead>\n",
       "  <tbody>\n",
       "    <tr>\n",
       "      <th>0</th>\n",
       "      <td>228.54</td>\n",
       "      <td>37.80</td>\n",
       "      <td>49.64</td>\n",
       "    </tr>\n",
       "    <tr>\n",
       "      <th>1</th>\n",
       "      <td>59.18</td>\n",
       "      <td>38.92</td>\n",
       "      <td>45.10</td>\n",
       "    </tr>\n",
       "    <tr>\n",
       "      <th>2</th>\n",
       "      <td>59.18</td>\n",
       "      <td>38.92</td>\n",
       "      <td>49.64</td>\n",
       "    </tr>\n",
       "    <tr>\n",
       "      <th>3</th>\n",
       "      <td>151.50</td>\n",
       "      <td>38.92</td>\n",
       "      <td>49.64</td>\n",
       "    </tr>\n",
       "    <tr>\n",
       "      <th>4</th>\n",
       "      <td>180.80</td>\n",
       "      <td>10.80</td>\n",
       "      <td>49.64</td>\n",
       "    </tr>\n",
       "    <tr>\n",
       "      <th>...</th>\n",
       "      <td>...</td>\n",
       "      <td>...</td>\n",
       "      <td>...</td>\n",
       "    </tr>\n",
       "    <tr>\n",
       "      <th>195</th>\n",
       "      <td>59.18</td>\n",
       "      <td>7.68</td>\n",
       "      <td>13.80</td>\n",
       "    </tr>\n",
       "    <tr>\n",
       "      <th>196</th>\n",
       "      <td>94.20</td>\n",
       "      <td>7.68</td>\n",
       "      <td>9.38</td>\n",
       "    </tr>\n",
       "    <tr>\n",
       "      <th>197</th>\n",
       "      <td>177.00</td>\n",
       "      <td>9.30</td>\n",
       "      <td>9.38</td>\n",
       "    </tr>\n",
       "    <tr>\n",
       "      <th>198</th>\n",
       "      <td>228.54</td>\n",
       "      <td>38.92</td>\n",
       "      <td>49.64</td>\n",
       "    </tr>\n",
       "    <tr>\n",
       "      <th>199</th>\n",
       "      <td>228.54</td>\n",
       "      <td>8.60</td>\n",
       "      <td>9.38</td>\n",
       "    </tr>\n",
       "  </tbody>\n",
       "</table>\n",
       "<p>200 rows × 3 columns</p>\n",
       "</div>"
      ],
      "text/plain": [
       "         TV  Radio  Newspaper\n",
       "0    228.54  37.80      49.64\n",
       "1     59.18  38.92      45.10\n",
       "2     59.18  38.92      49.64\n",
       "3    151.50  38.92      49.64\n",
       "4    180.80  10.80      49.64\n",
       "..      ...    ...        ...\n",
       "195   59.18   7.68      13.80\n",
       "196   94.20   7.68       9.38\n",
       "197  177.00   9.30       9.38\n",
       "198  228.54  38.92      49.64\n",
       "199  228.54   8.60       9.38\n",
       "\n",
       "[200 rows x 3 columns]"
      ]
     },
     "execution_count": 26,
     "metadata": {},
     "output_type": "execute_result"
    }
   ],
   "source": [
    "X"
   ]
  },
  {
   "cell_type": "code",
   "execution_count": 27,
   "id": "d2465db2",
   "metadata": {},
   "outputs": [],
   "source": [
    "#considering only the output column\n",
    "\n",
    "y=df[\"Sales\"]"
   ]
  },
  {
   "cell_type": "code",
   "execution_count": 28,
   "id": "8d2c7bd4",
   "metadata": {},
   "outputs": [
    {
     "data": {
      "text/plain": [
       "0      18.92\n",
       "1      10.40\n",
       "2       9.70\n",
       "3      18.50\n",
       "4      12.90\n",
       "       ...  \n",
       "195     9.70\n",
       "196     9.70\n",
       "197    12.80\n",
       "198    18.92\n",
       "199    13.40\n",
       "Name: Sales, Length: 200, dtype: float64"
      ]
     },
     "execution_count": 28,
     "metadata": {},
     "output_type": "execute_result"
    }
   ],
   "source": [
    "y"
   ]
  },
  {
   "cell_type": "code",
   "execution_count": null,
   "id": "dd9a2bee",
   "metadata": {},
   "outputs": [],
   "source": []
  },
  {
   "cell_type": "markdown",
   "id": "90939a83",
   "metadata": {},
   "source": [
    "TRAIN AND TEST DATA SPLIT"
   ]
  },
  {
   "cell_type": "code",
   "execution_count": 29,
   "id": "1668109c",
   "metadata": {},
   "outputs": [],
   "source": [
    "# importing train_test_split library \n",
    "\n",
    "from sklearn.model_selection import train_test_split"
   ]
  },
  {
   "cell_type": "code",
   "execution_count": 30,
   "id": "a2d91e20",
   "metadata": {},
   "outputs": [],
   "source": [
    "# Train-test data split with the test size of 30 and train size will be of 70\n",
    "\n",
    "X_train,X_test,y_train,y_test=train_test_split(X,y,test_size=0.30,random_state=1)"
   ]
  },
  {
   "cell_type": "code",
   "execution_count": 31,
   "id": "a4b14be4",
   "metadata": {},
   "outputs": [
    {
     "name": "stdout",
     "output_type": "stream",
     "text": [
      "Training set shape:  (140, 3) (140,)\n",
      "Testing set shape:  (60, 3) (60,)\n"
     ]
    }
   ],
   "source": [
    "#printing the size of the test and the train data\n",
    "\n",
    "print('Training set shape: ', X_train.shape, y_train.shape)\n",
    "print('Testing set shape: ', X_test.shape, y_test.shape)"
   ]
  },
  {
   "cell_type": "code",
   "execution_count": 32,
   "id": "9c02a161",
   "metadata": {},
   "outputs": [],
   "source": [
    "# importing StandardScaler library        \n",
    "from sklearn.preprocessing import StandardScaler"
   ]
  },
  {
   "cell_type": "code",
   "execution_count": 33,
   "id": "b512798d",
   "metadata": {},
   "outputs": [],
   "source": [
    "# Applying the standardscaler to training data\n",
    "\n",
    "sc = StandardScaler().fit(X_train)"
   ]
  },
  {
   "cell_type": "code",
   "execution_count": 34,
   "id": "5eb22191",
   "metadata": {},
   "outputs": [],
   "source": [
    "# Transforming the training data into standard\n",
    "\n",
    "X_train_std = sc.transform(X_train)"
   ]
  },
  {
   "cell_type": "code",
   "execution_count": 35,
   "id": "7df296c8",
   "metadata": {},
   "outputs": [
    {
     "data": {
      "text/plain": [
       "array([[-0.05624386, -0.70399927, -0.15859634],\n",
       "       [-0.05476869, -0.68798031, -1.13969845],\n",
       "       [-1.2366715 ,  0.54548015, -1.1906648 ],\n",
       "       [ 1.26166923,  0.36927152, -1.19193895],\n",
       "       [ 1.26166923,  1.26793556,  1.37294228],\n",
       "       [-1.2366715 ,  1.26793556,  1.37294228],\n",
       "       [-0.92659165, -1.23422708, -1.19193895],\n",
       "       [-0.07542101,  1.26793556,  1.37294228],\n",
       "       [ 1.24190201, -0.58385702,  1.37294228],\n",
       "       [-1.2366715 ,  0.12097753, -1.19193895],\n",
       "       [ 1.26166923,  0.45737583, -0.77656325],\n",
       "       [ 1.0398043 ,  1.26793556,  0.36380868],\n",
       "       [ 1.26166923,  1.26793556,  1.37294228],\n",
       "       [-1.2366715 ,  1.106144  ,  1.09007908],\n",
       "       [-1.2366715 ,  1.16221038, -0.41342806],\n",
       "       [ 0.98227284, -0.19940181, -1.10784449],\n",
       "       [-1.2366715 ,  0.96197329,  1.37294228],\n",
       "       [-0.98264795, -1.23422708, -0.84664198],\n",
       "       [ 1.26166923,  1.07410606,  1.37294228],\n",
       "       [-0.02526537,  0.29718616,  1.15378701],\n",
       "       [ 0.6606867 , -0.1593544 , -1.184294  ],\n",
       "       [-0.12852698, -1.23422708, -1.19193895],\n",
       "       [ 1.26166923, -1.23422708,  0.56130326],\n",
       "       [ 1.19469671, -1.23422708, -0.79567563],\n",
       "       [-0.99592444, -0.9843312 , -1.19193895],\n",
       "       [-0.67138798, -1.23422708, -1.19193895],\n",
       "       [-0.99887478, -0.22343026,  0.28098837],\n",
       "       [-1.2366715 ,  0.3292241 , -1.19193895],\n",
       "       [ 0.70936717,  0.44936635, -0.63003502],\n",
       "       [ 0.47334065, -0.04722163,  0.21728044],\n",
       "       [-0.11525049,  1.26793556,  1.13467463],\n",
       "       [ 1.26166923,  1.26793556, -1.19193895],\n",
       "       [-0.84545754,  1.01803968,  1.35128159],\n",
       "       [-0.05181836, -1.23422708, -0.09488841],\n",
       "       [ 0.41728435,  1.26793556,  0.61226961],\n",
       "       [ 0.66216187, -0.47172425, -0.6491474 ],\n",
       "       [-1.2366715 , -1.23422708, -0.91034991],\n",
       "       [ 0.5013688 , -1.10447345, -1.19193895],\n",
       "       [-1.2366715 ,  1.26793556, -1.03139497],\n",
       "       [ 0.37450455, -1.23422708, -0.97405784],\n",
       "       [-1.2366715 ,  1.26793556,  1.37294228],\n",
       "       [ 1.26166923, -1.23422708, -0.29238299],\n",
       "       [-1.2366715 , -1.23422708,  0.31284234],\n",
       "       [ 0.80525295,  0.01685424, -0.88486673],\n",
       "       [-1.2366715 ,  1.26793556,  1.37294228],\n",
       "       [ 0.82738043,  0.60154654,  0.67597754],\n",
       "       [ 0.74034565, -0.37561045,  1.37294228],\n",
       "       [ 1.26166923, -0.73603721,  0.56767406],\n",
       "       [-1.2366715 ,  0.77775517, -0.29238299],\n",
       "       [ 0.48219165, -0.61589495, -1.19193895],\n",
       "       [ 1.26166923,  1.17822935,  1.37294228],\n",
       "       [-1.2366715 , -0.92025533, -1.19193895],\n",
       "       [-0.33209985,  0.43334738, -0.88486673],\n",
       "       [-1.09181022, -1.10447345, -1.19193895],\n",
       "       [ 0.8244301 ,  1.26793556,  1.37294228],\n",
       "       [ 0.9409682 , -1.23422708, -0.5535855 ],\n",
       "       [-0.80710323,  0.19306288,  1.37294228],\n",
       "       [-1.2366715 ,  1.26793556, -1.19193895],\n",
       "       [-0.78645091, -1.05641655,  0.48485375],\n",
       "       [ 1.26166923, -0.60788547, -0.05029286],\n",
       "       [ 1.03832914,  0.12097753, -0.95494546],\n",
       "       [ 1.10176127,  0.83382156,  1.37294228],\n",
       "       [ 1.26166923,  1.26793556,  1.03274194],\n",
       "       [ 0.43498634, -0.3996389 ,  0.1663141 ],\n",
       "       [-0.56665121, -1.23422708,  0.40203344],\n",
       "       [-0.4766661 ,  1.26793556,  1.37294228],\n",
       "       [ 0.20043499, -1.23422708, -1.19193895],\n",
       "       [-0.04001703, -1.23422708, -1.19193895],\n",
       "       [-0.38078032, -0.67196134, -1.19193895],\n",
       "       [-1.13459003, -1.23422708, -0.24778744],\n",
       "       [-0.67581347, -1.23422708,  0.12171855],\n",
       "       [-1.10066121,  1.26793556,  0.47848295],\n",
       "       [-1.2366715 , -1.23422708,  0.10260617],\n",
       "       [ 1.17109406, -1.23422708,  1.37294228],\n",
       "       [-0.82333005, -0.90423636, -0.13948396],\n",
       "       [ 1.25812884, -0.4957527 , -0.12037158],\n",
       "       [-1.2366715 ,  1.26633367,  1.37294228],\n",
       "       [ 0.83770659, -1.23422708, -0.43891123],\n",
       "       [-1.2366715 , -0.92025533, -0.61729343],\n",
       "       [ 1.26166923,  0.89789743, -1.19193895],\n",
       "       [-0.32472402, -1.1765588 ,  1.31305683],\n",
       "       [-1.2366715 ,  1.26793556, -1.19193895],\n",
       "       [ 1.26166923,  1.19424832, -0.31149537],\n",
       "       [ 1.26166923, -0.73603721, -1.19193895],\n",
       "       [-0.17573228,  1.26793556,  0.05163983],\n",
       "       [ 0.7727993 ,  1.26793556,  1.37294228],\n",
       "       [ 0.5013688 ,  0.82581208,  0.67597754],\n",
       "       [ 0.30222142,  1.09813451, -1.19193895],\n",
       "       [ 1.26166923,  0.30519565, -1.19193895],\n",
       "       [-0.98264795,  0.28917668, -0.36883251],\n",
       "       [ 1.08258411,  1.26793556,  0.73331467],\n",
       "       [-0.00166272,  0.49742325, -0.98679942],\n",
       "       [-1.2366715 , -1.23422708, -0.47076519],\n",
       "       [ 0.94244336, -1.1765588 , -0.10763   ],\n",
       "       [-1.19064632, -0.84016049, -0.62366422],\n",
       "       [ 0.12520153,  1.26793556,  1.37294228],\n",
       "       [ 1.26166923, -1.00035016, -1.19193895],\n",
       "       [-1.1227887 , -0.91224584,  0.55493247],\n",
       "       [-1.2366715 ,  0.21709133, -0.47713599],\n",
       "       [ 1.26166923, -1.23422708,  0.94992163],\n",
       "       [-1.2366715 ,  1.26793556, -1.19193895],\n",
       "       [ 1.26166923,  0.41732842,  0.96266322],\n",
       "       [-1.2366715 , -0.11129749,  1.37294228],\n",
       "       [-1.00182511,  0.95396381,  1.37294228],\n",
       "       [ 1.26166923,  1.26793556,  0.87347212],\n",
       "       [-1.2366715 , -1.23422708, -1.19193895],\n",
       "       [-1.2366715 , -1.23422708, -0.42616964],\n",
       "       [ 1.14011558,  1.26793556, -1.19193895],\n",
       "       [-1.2366715 ,  1.26793556,  1.08370828],\n",
       "       [-0.10049883, -0.31153458, -0.7319677 ],\n",
       "       [-1.2366715 , -0.57584754,  1.37039397],\n",
       "       [ 1.26166923,  1.26793556,  1.37294228],\n",
       "       [-0.59467936,  0.5214517 , -1.19193895],\n",
       "       [-0.33652535, -0.27949665, -1.05050735],\n",
       "       [-0.72006845, -1.23422708, -1.19193895],\n",
       "       [ 0.74772148,  0.98600175,  1.37294228],\n",
       "       [-0.98412312,  0.35325255, -0.77019246],\n",
       "       [ 0.80525295, -1.23422708, -1.19193895],\n",
       "       [ 1.26166923,  0.35325255, -1.08873211],\n",
       "       [ 0.83770659, -1.23422708,  0.41477502],\n",
       "       [ 1.14306591,  0.80979311,  0.62501119],\n",
       "       [ 0.10012371, -1.23422708, -0.24141665],\n",
       "       [-0.72449394,  1.26793556,  1.37294228],\n",
       "       [ 0.6179069 ,  1.26793556, -1.19193895],\n",
       "       [ 1.26166923, -1.23422708, -1.19193895],\n",
       "       [ 1.26166923,  1.0580871 ,  1.37294228],\n",
       "       [ 1.11208743,  0.36927152,  1.37294228],\n",
       "       [ 1.26166923, -1.23422708, -0.27964141],\n",
       "       [ 1.26166923, -1.23422708, -0.54721471],\n",
       "       [-1.2366715 ,  1.24230522,  1.37294228],\n",
       "       [-0.48994259, -0.70399927,  0.23002203],\n",
       "       [-1.2304758 , -0.88821739,  0.95629242],\n",
       "       [-0.69056513, -0.66395186,  0.68871912],\n",
       "       [-1.2366715 , -1.23422708,  0.22365124],\n",
       "       [-0.39848231, -1.23262518, -0.31786616],\n",
       "       [ 1.13273975,  0.83382156,  1.08370828],\n",
       "       [ 1.26166923,  0.46538532,  1.37294228],\n",
       "       [-1.2366715 ,  0.79377414, -0.55995629],\n",
       "       [-1.02690293, -0.48774322, -0.96768704],\n",
       "       [-1.00772577,  1.26793556,  1.12193304]])"
      ]
     },
     "execution_count": 35,
     "metadata": {},
     "output_type": "execute_result"
    }
   ],
   "source": [
    "X_train_std"
   ]
  },
  {
   "cell_type": "code",
   "execution_count": 36,
   "id": "16821d1c",
   "metadata": {},
   "outputs": [],
   "source": [
    "#importing the knn regressor \n",
    "\n",
    "from sklearn.neighbors import KNeighborsRegressor\n",
    "\n",
    "#importing the necessary packages for error metrics\n",
    "\n",
    "from sklearn.metrics import mean_squared_error, r2_score\n",
    "from math import sqrt"
   ]
  },
  {
   "cell_type": "code",
   "execution_count": 37,
   "id": "50d12136",
   "metadata": {},
   "outputs": [
    {
     "data": {
      "text/plain": [
       "Text(0.5, 1.0, 'ELBOW PLOT')"
      ]
     },
     "execution_count": 37,
     "metadata": {},
     "output_type": "execute_result"
    },
    {
     "data": {
      "image/png": "[encoded data removed]",
      "text/plain": [
       "<Figure size 800x800 with 1 Axes>"
      ]
     },
     "metadata": {},
     "output_type": "display_data"
    }
   ],
   "source": [
    "#plotting the graph based on k values and mse\n",
    "\n",
    "fig,ax=plt.subplots(figsize=(8,8))\n",
    "k_list=np.arange(1,20,1)\n",
    "knn_dict={} # To store k and mse pairs\n",
    "for i in k_list:\n",
    "#Knn Model Creation\n",
    "    knn=KNeighborsRegressor(n_neighbors=int(i))\n",
    "    model=knn.fit(X_train,y_train)\n",
    "    y_pred=model.predict(X_test)\n",
    "#Storing MSE \n",
    "    mse=mean_squared_error(y_test,y_pred)\n",
    "    knn_dict[i]=mse\n",
    "#Plotting the results\n",
    "ax.plot(knn_dict.keys(),knn_dict.values())\n",
    "ax.set_xlabel('K-VALUE', fontsize=10)\n",
    "ax.set_ylabel('MSE' ,fontsize=10)\n",
    "ax.set_title('ELBOW PLOT' ,fontsize=10)"
   ]
  },
  {
   "cell_type": "markdown",
   "id": "d5593b3b",
   "metadata": {},
   "source": [
    "By the above graph we can say that at the k value '4' our means square error stops decreasing and started to increase this point is considered as the elbow point and here our k value can be taken as '4' for further predicting our model."
   ]
  },
  {
   "cell_type": "code",
   "execution_count": 38,
   "id": "99a6b5fc",
   "metadata": {},
   "outputs": [
    {
     "data": {
      "text/plain": [
       "2.4674399999999994"
      ]
     },
     "execution_count": 38,
     "metadata": {},
     "output_type": "execute_result"
    }
   ],
   "source": [
    "#mse-mean_squared_error is measuring the mean squared distance between the actual and the predicted values.\n",
    "\n",
    "mse = mean_squared_error(y_test,y_pred)\n",
    "mse"
   ]
  },
  {
   "cell_type": "code",
   "execution_count": 39,
   "id": "83e9f52b",
   "metadata": {},
   "outputs": [
    {
     "data": {
      "text/plain": [
       "1.5708087089139784"
      ]
     },
     "execution_count": 39,
     "metadata": {},
     "output_type": "execute_result"
    }
   ],
   "source": [
    "#rmse-root_mean_squared_error is the root of the mean_squared_error.\n",
    "\n",
    "rmse = sqrt(mse)\n",
    "rmse"
   ]
  },
  {
   "cell_type": "code",
   "execution_count": 40,
   "id": "8e67c692",
   "metadata": {},
   "outputs": [
    {
     "data": {
      "text/plain": [
       "0.7935293620008605"
      ]
     },
     "execution_count": 40,
     "metadata": {},
     "output_type": "execute_result"
    }
   ],
   "source": [
    "#r2_score \n",
    "\n",
    "r2_score = r2_score(y_test,y_pred)\n",
    "r2_score"
   ]
  },
  {
   "cell_type": "markdown",
   "id": "bb752b62",
   "metadata": {},
   "source": [
    "By the above r2_score we can say that 79% of the variance in the dependant variable is explained by the variance in the independent variable."
   ]
  },
  {
   "cell_type": "code",
   "execution_count": 41,
   "id": "455ecc13",
   "metadata": {},
   "outputs": [
    {
     "data": {
      "text/plain": [
       "KNeighborsRegressor(n_neighbors=4, weights='distance')"
      ]
     },
     "execution_count": 41,
     "metadata": {},
     "output_type": "execute_result"
    }
   ],
   "source": [
    "#building a model on knn regressor based on achieved k value\n",
    "\n",
    "model = KNeighborsRegressor(n_neighbors=4, weights='distance') \n",
    "model"
   ]
  },
  {
   "cell_type": "code",
   "execution_count": 42,
   "id": "2cea19c2",
   "metadata": {},
   "outputs": [
    {
     "data": {
      "text/plain": [
       "KNeighborsRegressor(n_neighbors=4, weights='distance')"
      ]
     },
     "execution_count": 42,
     "metadata": {},
     "output_type": "execute_result"
    }
   ],
   "source": [
    "#fitting the model the input and output train data\n",
    "\n",
    "model.fit(X_train,y_train)"
   ]
  },
  {
   "cell_type": "code",
   "execution_count": 43,
   "id": "3a2ea179",
   "metadata": {},
   "outputs": [],
   "source": [
    "#predicting the output values and printing it based on the input test data\n",
    "\n",
    "y_pred = model.predict(X_test)"
   ]
  },
  {
   "cell_type": "code",
   "execution_count": 44,
   "id": "b4e64bf1",
   "metadata": {},
   "outputs": [
    {
     "data": {
      "text/plain": [
       "array([18.92      , 15.01401538,  9.73531292, 12.0418071 , 16.14683354,\n",
       "       18.92      , 17.71119366, 14.17315915, 10.0892783 , 17.87276578,\n",
       "       16.23899734, 11.09133215, 17.17128961, 15.77886734, 12.6218708 ,\n",
       "       17.09814418, 12.67680361, 13.2       , 10.7       , 16.98799403,\n",
       "       10.31817437, 12.01658756,  9.7       , 11.15309124, 11.59008534,\n",
       "       15.69311476, 11.27948603, 18.13374314, 17.43420506, 14.56117795,\n",
       "       18.92      , 12.81861598, 15.26179403, 13.24430625, 18.91609792,\n",
       "       15.51974544, 12.58424748, 11.21186647, 18.92      ,  9.81890916,\n",
       "        9.7       , 10.22999562,  9.7       , 18.75112264,  9.86104469,\n",
       "       13.60719266, 13.64294677, 18.92      , 17.48476108, 18.92      ,\n",
       "       18.92      , 14.76070014,  9.7       , 18.46906732, 18.04541964,\n",
       "       12.09031726, 13.12838777,  9.7       , 13.83170235, 10.11811943])"
      ]
     },
     "execution_count": 44,
     "metadata": {},
     "output_type": "execute_result"
    }
   ],
   "source": [
    "y_pred"
   ]
  },
  {
   "cell_type": "code",
   "execution_count": 45,
   "id": "61298bd8",
   "metadata": {},
   "outputs": [],
   "source": [
    "#comparing the predicted and the actual values and printing it.\n",
    "\n",
    "predicted_df = pd.DataFrame({\"Y_Test\" : y_test, \"y_Predicted\" : y_pred})"
   ]
  },
  {
   "cell_type": "code",
   "execution_count": 46,
   "id": "fc9fdf25",
   "metadata": {},
   "outputs": [
    {
     "data": {
      "text/html": [
       "<div>\n",
       "<style scoped>\n",
       "    .dataframe tbody tr th:only-of-type {\n",
       "        vertical-align: middle;\n",
       "    }\n",
       "\n",
       "    .dataframe tbody tr th {\n",
       "        vertical-align: top;\n",
       "    }\n",
       "\n",
       "    .dataframe thead th {\n",
       "        text-align: right;\n",
       "    }\n",
       "</style>\n",
       "<table border=\"1\" class=\"dataframe\">\n",
       "  <thead>\n",
       "    <tr style=\"text-align: right;\">\n",
       "      <th></th>\n",
       "      <th>Y_Test</th>\n",
       "      <th>y_Predicted</th>\n",
       "    </tr>\n",
       "  </thead>\n",
       "  <tbody>\n",
       "    <tr>\n",
       "      <th>58</th>\n",
       "      <td>18.92</td>\n",
       "      <td>18.920000</td>\n",
       "    </tr>\n",
       "    <tr>\n",
       "      <th>40</th>\n",
       "      <td>16.60</td>\n",
       "      <td>15.014015</td>\n",
       "    </tr>\n",
       "    <tr>\n",
       "      <th>34</th>\n",
       "      <td>9.70</td>\n",
       "      <td>9.735313</td>\n",
       "    </tr>\n",
       "    <tr>\n",
       "      <th>102</th>\n",
       "      <td>14.80</td>\n",
       "      <td>12.041807</td>\n",
       "    </tr>\n",
       "    <tr>\n",
       "      <th>184</th>\n",
       "      <td>17.60</td>\n",
       "      <td>16.146834</td>\n",
       "    </tr>\n",
       "    <tr>\n",
       "      <th>198</th>\n",
       "      <td>18.92</td>\n",
       "      <td>18.920000</td>\n",
       "    </tr>\n",
       "    <tr>\n",
       "      <th>95</th>\n",
       "      <td>16.90</td>\n",
       "      <td>17.711194</td>\n",
       "    </tr>\n",
       "    <tr>\n",
       "      <th>4</th>\n",
       "      <td>12.90</td>\n",
       "      <td>14.173159</td>\n",
       "    </tr>\n",
       "    <tr>\n",
       "      <th>29</th>\n",
       "      <td>10.50</td>\n",
       "      <td>10.089278</td>\n",
       "    </tr>\n",
       "    <tr>\n",
       "      <th>168</th>\n",
       "      <td>17.10</td>\n",
       "      <td>17.872766</td>\n",
       "    </tr>\n",
       "    <tr>\n",
       "      <th>171</th>\n",
       "      <td>14.50</td>\n",
       "      <td>16.238997</td>\n",
       "    </tr>\n",
       "    <tr>\n",
       "      <th>18</th>\n",
       "      <td>11.30</td>\n",
       "      <td>11.091332</td>\n",
       "    </tr>\n",
       "    <tr>\n",
       "      <th>11</th>\n",
       "      <td>17.40</td>\n",
       "      <td>17.171290</td>\n",
       "    </tr>\n",
       "    <tr>\n",
       "      <th>89</th>\n",
       "      <td>16.70</td>\n",
       "      <td>15.778867</td>\n",
       "    </tr>\n",
       "    <tr>\n",
       "      <th>110</th>\n",
       "      <td>13.40</td>\n",
       "      <td>12.621871</td>\n",
       "    </tr>\n",
       "    <tr>\n",
       "      <th>118</th>\n",
       "      <td>15.90</td>\n",
       "      <td>17.098144</td>\n",
       "    </tr>\n",
       "    <tr>\n",
       "      <th>159</th>\n",
       "      <td>12.90</td>\n",
       "      <td>12.676804</td>\n",
       "    </tr>\n",
       "    <tr>\n",
       "      <th>35</th>\n",
       "      <td>12.80</td>\n",
       "      <td>13.200000</td>\n",
       "    </tr>\n",
       "    <tr>\n",
       "      <th>136</th>\n",
       "      <td>9.70</td>\n",
       "      <td>10.700000</td>\n",
       "    </tr>\n",
       "    <tr>\n",
       "      <th>59</th>\n",
       "      <td>18.40</td>\n",
       "      <td>16.987994</td>\n",
       "    </tr>\n",
       "    <tr>\n",
       "      <th>51</th>\n",
       "      <td>10.70</td>\n",
       "      <td>10.318174</td>\n",
       "    </tr>\n",
       "    <tr>\n",
       "      <th>16</th>\n",
       "      <td>12.50</td>\n",
       "      <td>12.016588</td>\n",
       "    </tr>\n",
       "    <tr>\n",
       "      <th>44</th>\n",
       "      <td>9.70</td>\n",
       "      <td>9.700000</td>\n",
       "    </tr>\n",
       "    <tr>\n",
       "      <th>94</th>\n",
       "      <td>11.50</td>\n",
       "      <td>11.153091</td>\n",
       "    </tr>\n",
       "    <tr>\n",
       "      <th>31</th>\n",
       "      <td>11.90</td>\n",
       "      <td>11.590085</td>\n",
       "    </tr>\n",
       "    <tr>\n",
       "      <th>162</th>\n",
       "      <td>14.90</td>\n",
       "      <td>15.693115</td>\n",
       "    </tr>\n",
       "    <tr>\n",
       "      <th>38</th>\n",
       "      <td>10.10</td>\n",
       "      <td>11.279486</td>\n",
       "    </tr>\n",
       "    <tr>\n",
       "      <th>28</th>\n",
       "      <td>18.90</td>\n",
       "      <td>18.133743</td>\n",
       "    </tr>\n",
       "    <tr>\n",
       "      <th>193</th>\n",
       "      <td>18.92</td>\n",
       "      <td>17.434205</td>\n",
       "    </tr>\n",
       "    <tr>\n",
       "      <th>27</th>\n",
       "      <td>15.90</td>\n",
       "      <td>14.561178</td>\n",
       "    </tr>\n",
       "    <tr>\n",
       "      <th>47</th>\n",
       "      <td>18.92</td>\n",
       "      <td>18.920000</td>\n",
       "    </tr>\n",
       "    <tr>\n",
       "      <th>165</th>\n",
       "      <td>11.90</td>\n",
       "      <td>12.818616</td>\n",
       "    </tr>\n",
       "    <tr>\n",
       "      <th>194</th>\n",
       "      <td>17.30</td>\n",
       "      <td>15.261794</td>\n",
       "    </tr>\n",
       "    <tr>\n",
       "      <th>177</th>\n",
       "      <td>11.70</td>\n",
       "      <td>13.244306</td>\n",
       "    </tr>\n",
       "    <tr>\n",
       "      <th>176</th>\n",
       "      <td>18.92</td>\n",
       "      <td>18.916098</td>\n",
       "    </tr>\n",
       "    <tr>\n",
       "      <th>97</th>\n",
       "      <td>15.50</td>\n",
       "      <td>15.519745</td>\n",
       "    </tr>\n",
       "    <tr>\n",
       "      <th>174</th>\n",
       "      <td>11.50</td>\n",
       "      <td>12.584247</td>\n",
       "    </tr>\n",
       "    <tr>\n",
       "      <th>73</th>\n",
       "      <td>11.00</td>\n",
       "      <td>11.211866</td>\n",
       "    </tr>\n",
       "    <tr>\n",
       "      <th>69</th>\n",
       "      <td>18.92</td>\n",
       "      <td>18.920000</td>\n",
       "    </tr>\n",
       "    <tr>\n",
       "      <th>172</th>\n",
       "      <td>9.70</td>\n",
       "      <td>9.818909</td>\n",
       "    </tr>\n",
       "    <tr>\n",
       "      <th>108</th>\n",
       "      <td>9.70</td>\n",
       "      <td>9.700000</td>\n",
       "    </tr>\n",
       "    <tr>\n",
       "      <th>107</th>\n",
       "      <td>9.70</td>\n",
       "      <td>10.229996</td>\n",
       "    </tr>\n",
       "    <tr>\n",
       "      <th>189</th>\n",
       "      <td>9.70</td>\n",
       "      <td>9.700000</td>\n",
       "    </tr>\n",
       "    <tr>\n",
       "      <th>14</th>\n",
       "      <td>18.92</td>\n",
       "      <td>18.751123</td>\n",
       "    </tr>\n",
       "    <tr>\n",
       "      <th>56</th>\n",
       "      <td>9.70</td>\n",
       "      <td>9.861045</td>\n",
       "    </tr>\n",
       "    <tr>\n",
       "      <th>19</th>\n",
       "      <td>14.60</td>\n",
       "      <td>13.607193</td>\n",
       "    </tr>\n",
       "    <tr>\n",
       "      <th>114</th>\n",
       "      <td>14.60</td>\n",
       "      <td>13.642947</td>\n",
       "    </tr>\n",
       "    <tr>\n",
       "      <th>39</th>\n",
       "      <td>18.92</td>\n",
       "      <td>18.920000</td>\n",
       "    </tr>\n",
       "    <tr>\n",
       "      <th>185</th>\n",
       "      <td>18.92</td>\n",
       "      <td>17.484761</td>\n",
       "    </tr>\n",
       "    <tr>\n",
       "      <th>124</th>\n",
       "      <td>18.92</td>\n",
       "      <td>18.920000</td>\n",
       "    </tr>\n",
       "    <tr>\n",
       "      <th>98</th>\n",
       "      <td>18.92</td>\n",
       "      <td>18.920000</td>\n",
       "    </tr>\n",
       "    <tr>\n",
       "      <th>123</th>\n",
       "      <td>15.20</td>\n",
       "      <td>14.760700</td>\n",
       "    </tr>\n",
       "    <tr>\n",
       "      <th>119</th>\n",
       "      <td>9.70</td>\n",
       "      <td>9.700000</td>\n",
       "    </tr>\n",
       "    <tr>\n",
       "      <th>53</th>\n",
       "      <td>18.92</td>\n",
       "      <td>18.469067</td>\n",
       "    </tr>\n",
       "    <tr>\n",
       "      <th>33</th>\n",
       "      <td>17.40</td>\n",
       "      <td>18.045420</td>\n",
       "    </tr>\n",
       "    <tr>\n",
       "      <th>179</th>\n",
       "      <td>12.60</td>\n",
       "      <td>12.090317</td>\n",
       "    </tr>\n",
       "    <tr>\n",
       "      <th>181</th>\n",
       "      <td>12.20</td>\n",
       "      <td>13.128388</td>\n",
       "    </tr>\n",
       "    <tr>\n",
       "      <th>106</th>\n",
       "      <td>9.70</td>\n",
       "      <td>9.700000</td>\n",
       "    </tr>\n",
       "    <tr>\n",
       "      <th>199</th>\n",
       "      <td>13.40</td>\n",
       "      <td>13.831702</td>\n",
       "    </tr>\n",
       "    <tr>\n",
       "      <th>138</th>\n",
       "      <td>9.70</td>\n",
       "      <td>10.118119</td>\n",
       "    </tr>\n",
       "  </tbody>\n",
       "</table>\n",
       "</div>"
      ],
      "text/plain": [
       "     Y_Test  y_Predicted\n",
       "58    18.92    18.920000\n",
       "40    16.60    15.014015\n",
       "34     9.70     9.735313\n",
       "102   14.80    12.041807\n",
       "184   17.60    16.146834\n",
       "198   18.92    18.920000\n",
       "95    16.90    17.711194\n",
       "4     12.90    14.173159\n",
       "29    10.50    10.089278\n",
       "168   17.10    17.872766\n",
       "171   14.50    16.238997\n",
       "18    11.30    11.091332\n",
       "11    17.40    17.171290\n",
       "89    16.70    15.778867\n",
       "110   13.40    12.621871\n",
       "118   15.90    17.098144\n",
       "159   12.90    12.676804\n",
       "35    12.80    13.200000\n",
       "136    9.70    10.700000\n",
       "59    18.40    16.987994\n",
       "51    10.70    10.318174\n",
       "16    12.50    12.016588\n",
       "44     9.70     9.700000\n",
       "94    11.50    11.153091\n",
       "31    11.90    11.590085\n",
       "162   14.90    15.693115\n",
       "38    10.10    11.279486\n",
       "28    18.90    18.133743\n",
       "193   18.92    17.434205\n",
       "27    15.90    14.561178\n",
       "47    18.92    18.920000\n",
       "165   11.90    12.818616\n",
       "194   17.30    15.261794\n",
       "177   11.70    13.244306\n",
       "176   18.92    18.916098\n",
       "97    15.50    15.519745\n",
       "174   11.50    12.584247\n",
       "73    11.00    11.211866\n",
       "69    18.92    18.920000\n",
       "172    9.70     9.818909\n",
       "108    9.70     9.700000\n",
       "107    9.70    10.229996\n",
       "189    9.70     9.700000\n",
       "14    18.92    18.751123\n",
       "56     9.70     9.861045\n",
       "19    14.60    13.607193\n",
       "114   14.60    13.642947\n",
       "39    18.92    18.920000\n",
       "185   18.92    17.484761\n",
       "124   18.92    18.920000\n",
       "98    18.92    18.920000\n",
       "123   15.20    14.760700\n",
       "119    9.70     9.700000\n",
       "53    18.92    18.469067\n",
       "33    17.40    18.045420\n",
       "179   12.60    12.090317\n",
       "181   12.20    13.128388\n",
       "106    9.70     9.700000\n",
       "199   13.40    13.831702\n",
       "138    9.70    10.118119"
      ]
     },
     "execution_count": 46,
     "metadata": {},
     "output_type": "execute_result"
    }
   ],
   "source": [
    "predicted_df"
   ]
  },
  {
   "cell_type": "code",
   "execution_count": 47,
   "id": "adf03c44",
   "metadata": {},
   "outputs": [
    {
     "data": {
      "text/plain": [
       "0.7817959918101973"
      ]
     },
     "execution_count": 47,
     "metadata": {},
     "output_type": "execute_result"
    }
   ],
   "source": [
    "#mse-mean_squared_error after predicting the output values.\n",
    "\n",
    "mse = mean_squared_error(y_test,y_pred)\n",
    "mse"
   ]
  },
  {
   "cell_type": "code",
   "execution_count": 48,
   "id": "d67529a6",
   "metadata": {},
   "outputs": [
    {
     "data": {
      "text/plain": [
       "0.8841922821480616"
      ]
     },
     "execution_count": 48,
     "metadata": {},
     "output_type": "execute_result"
    }
   ],
   "source": [
    "#rmse-root_mean_squared_error after predicting the output values.\n",
    "\n",
    "rmse = sqrt(mse)\n",
    "rmse"
   ]
  },
  {
   "cell_type": "code",
   "execution_count": 49,
   "id": "f4284f9b",
   "metadata": {},
   "outputs": [
    {
     "data": {
      "text/plain": [
       "0.9345808136310421"
      ]
     },
     "execution_count": 49,
     "metadata": {},
     "output_type": "execute_result"
    }
   ],
   "source": [
    "#r2_score after predicting the output values.\n",
    "from sklearn.metrics import r2_score\n",
    "from math import sqrt\n",
    "\n",
    "r2_score = r2_score(y_test,y_pred)\n",
    "r2_score"
   ]
  },
  {
   "cell_type": "code",
   "execution_count": 50,
   "id": "dee11b90",
   "metadata": {},
   "outputs": [
    {
     "name": "stdout",
     "output_type": "stream",
     "text": [
      "0.9805493531529841\n"
     ]
    }
   ],
   "source": [
    "#checking the model score \n",
    "\n",
    "score=model.score(X,y)\n",
    "print(score)"
   ]
  },
  {
   "cell_type": "markdown",
   "id": "c613b4ca",
   "metadata": {},
   "source": [
    "CONCLUSSION :\n",
    "    \n",
    "    \n",
    "    By looking at the overall project we can conclude that the product 'TV' has the highest advertising budget compared to the other two products that is 'Newspaper' and 'Radio'. The \"ELBOW MWTHOD\" is used here to caluculate the best value for 'K' and then the model has been fitted to it which gives the mse of 0.7817959918101973 and rmse of 0.8841922821480616 which gives the most least error or the low error rate and r2_score of 0.9345808136310421 by this we can say that the 93% of the dependant variable variance is explained by the variance in the independent variable and a model accuracy score of 0.9805493531529841."
   ]
  }
 ],
 "metadata": {
  "kernelspec": {
   "display_name": "Python 3 (ipykernel)",
   "language": "python",
   "name": "python3"
  },
  "language_info": {
   "codemirror_mode": {
    "name": "ipython",
    "version": 3
   },
   "file_extension": ".py",
   "mimetype": "text/x-python",
   "name": "python",
   "nbconvert_exporter": "python",
   "pygments_lexer": "ipython3",
   "version": "3.9.13"
  }
 },
 "nbformat": 4,
 "nbformat_minor": 5
}
