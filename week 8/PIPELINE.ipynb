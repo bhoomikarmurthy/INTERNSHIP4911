{
 "cells": [
  {
   "cell_type": "markdown",
   "id": "5a2dfb11",
   "metadata": {},
   "source": [
    "# IMPORTING NECESSARY LIBRARIES"
   ]
  },
  {
   "cell_type": "code",
   "execution_count": 1,
   "id": "30a33cbb",
   "metadata": {},
   "outputs": [],
   "source": [
    "import numpy as np\n",
    "import pandas as pd\n",
    "from sklearn.model_selection import RandomizedSearchCV\n",
    "from sklearn.neighbors import KNeighborsRegressor\n",
    "from sklearn.pipeline import Pipeline\n",
    "from sklearn.model_selection import train_test_split\n",
    "from sklearn.impute import SimpleImputer\n",
    "from sklearn.compose import ColumnTransformer\n",
    "from sklearn.preprocessing import FunctionTransformer\n",
    "from sklearn import set_config\n",
    "set_config(display='diagram')\n",
    "from sklearn.preprocessing import StandardScaler\n"
   ]
  },
  {
   "cell_type": "markdown",
   "id": "19632933",
   "metadata": {},
   "source": [
    "# PRE-PROCESSING ON DATASETS"
   ]
  },
  {
   "cell_type": "code",
   "execution_count": 2,
   "id": "ae2ffbc3",
   "metadata": {},
   "outputs": [
    {
     "data": {
      "text/plain": [
       "Restaurant ID           0\n",
       "Country Code            0\n",
       "Address                 0\n",
       "Longitude               0\n",
       "Latitude                0\n",
       "Cuisines                0\n",
       "Average Cost for two    0\n",
       "Currency                0\n",
       "Has Table booking       0\n",
       "Has Online delivery     0\n",
       "Is delivering now       0\n",
       "Price range             0\n",
       "Aggregate rating        0\n",
       "Votes                   0\n",
       "Country                 0\n",
       "dtype: int64"
      ]
     },
     "execution_count": 2,
     "metadata": {},
     "output_type": "execute_result"
    }
   ],
   "source": [
    "df1 = pd.read_csv('Big Basket Food Delivery.csv', encoding='ISO-8859-1')\n",
    "df2 = pd.read_excel('Country-Code.xlsx')\n",
    "\n",
    "df = pd.merge(df1, df2, on='Country Code')\n",
    "\n",
    "df.to_csv('merged_file.csv')\n",
    "\n",
    "df = df.drop([\"Restaurant Name\", \"City\", \"Locality\", \"Locality Verbose\", \"Switch to order menu\", \"Rating color\", \"Rating text\"], axis=1)\n",
    "\n",
    "df.isnull().sum()\n",
    "\n",
    "# Create a pipeline\n",
    "pipeline1 = Pipeline(steps=[('imputer', SimpleImputer(strategy='most_frequent', missing_values=np.nan))])\n",
    "# Apply the pipeline to the 'Cuisines' column\n",
    "df['Cuisines'] = pipeline1.fit_transform(df[['Cuisines']])\n",
    "\n",
    "\n",
    "# Replace the '?' values with NaN\n",
    "df = df.replace(['?', '*', '&'], np.nan)\n",
    "\n",
    "pipeline2 = Pipeline([\n",
    "    (\"replace_non_numeric\", SimpleImputer(strategy=\"constant\", fill_value=np.nan)),\n",
    "    (\"impute_avg_cost\", SimpleImputer(strategy=\"median\", missing_values=np.nan)),\n",
    "    (\"impute_price_range\", SimpleImputer(strategy=\"median\", missing_values=-1)),\n",
    "])\n",
    "\n",
    "df[[\"Average Cost for two\", \"Price range\"]] = pipeline2.fit_transform(df[[\"Average Cost for two\", \"Price range\"]])\n",
    "\n",
    "df.isnull().sum()\n"
   ]
  },
  {
   "cell_type": "code",
   "execution_count": 3,
   "id": "61028323",
   "metadata": {},
   "outputs": [
    {
     "data": {
      "text/html": [
       "<style>#sk-ed1babaf-66ca-411c-9219-ee9b0056eabc {color: black;background-color: white;}#sk-ed1babaf-66ca-411c-9219-ee9b0056eabc pre{padding: 0;}#sk-ed1babaf-66ca-411c-9219-ee9b0056eabc div.sk-toggleable {background-color: white;}#sk-ed1babaf-66ca-411c-9219-ee9b0056eabc label.sk-toggleable__label {cursor: pointer;display: block;width: 100%;margin-bottom: 0;padding: 0.3em;box-sizing: border-box;text-align: center;}#sk-ed1babaf-66ca-411c-9219-ee9b0056eabc label.sk-toggleable__label-arrow:before {content: \"▸\";float: left;margin-right: 0.25em;color: #696969;}#sk-ed1babaf-66ca-411c-9219-ee9b0056eabc label.sk-toggleable__label-arrow:hover:before {color: black;}#sk-ed1babaf-66ca-411c-9219-ee9b0056eabc div.sk-estimator:hover label.sk-toggleable__label-arrow:before {color: black;}#sk-ed1babaf-66ca-411c-9219-ee9b0056eabc div.sk-toggleable__content {max-height: 0;max-width: 0;overflow: hidden;text-align: left;background-color: #f0f8ff;}#sk-ed1babaf-66ca-411c-9219-ee9b0056eabc div.sk-toggleable__content pre {margin: 0.2em;color: black;border-radius: 0.25em;background-color: #f0f8ff;}#sk-ed1babaf-66ca-411c-9219-ee9b0056eabc input.sk-toggleable__control:checked~div.sk-toggleable__content {max-height: 200px;max-width: 100%;overflow: auto;}#sk-ed1babaf-66ca-411c-9219-ee9b0056eabc input.sk-toggleable__control:checked~label.sk-toggleable__label-arrow:before {content: \"▾\";}#sk-ed1babaf-66ca-411c-9219-ee9b0056eabc div.sk-estimator input.sk-toggleable__control:checked~label.sk-toggleable__label {background-color: #d4ebff;}#sk-ed1babaf-66ca-411c-9219-ee9b0056eabc div.sk-label input.sk-toggleable__control:checked~label.sk-toggleable__label {background-color: #d4ebff;}#sk-ed1babaf-66ca-411c-9219-ee9b0056eabc input.sk-hidden--visually {border: 0;clip: rect(1px 1px 1px 1px);clip: rect(1px, 1px, 1px, 1px);height: 1px;margin: -1px;overflow: hidden;padding: 0;position: absolute;width: 1px;}#sk-ed1babaf-66ca-411c-9219-ee9b0056eabc div.sk-estimator {font-family: monospace;background-color: #f0f8ff;border: 1px dotted black;border-radius: 0.25em;box-sizing: border-box;margin-bottom: 0.5em;}#sk-ed1babaf-66ca-411c-9219-ee9b0056eabc div.sk-estimator:hover {background-color: #d4ebff;}#sk-ed1babaf-66ca-411c-9219-ee9b0056eabc div.sk-parallel-item::after {content: \"\";width: 100%;border-bottom: 1px solid gray;flex-grow: 1;}#sk-ed1babaf-66ca-411c-9219-ee9b0056eabc div.sk-label:hover label.sk-toggleable__label {background-color: #d4ebff;}#sk-ed1babaf-66ca-411c-9219-ee9b0056eabc div.sk-serial::before {content: \"\";position: absolute;border-left: 1px solid gray;box-sizing: border-box;top: 2em;bottom: 0;left: 50%;}#sk-ed1babaf-66ca-411c-9219-ee9b0056eabc div.sk-serial {display: flex;flex-direction: column;align-items: center;background-color: white;padding-right: 0.2em;padding-left: 0.2em;}#sk-ed1babaf-66ca-411c-9219-ee9b0056eabc div.sk-item {z-index: 1;}#sk-ed1babaf-66ca-411c-9219-ee9b0056eabc div.sk-parallel {display: flex;align-items: stretch;justify-content: center;background-color: white;}#sk-ed1babaf-66ca-411c-9219-ee9b0056eabc div.sk-parallel::before {content: \"\";position: absolute;border-left: 1px solid gray;box-sizing: border-box;top: 2em;bottom: 0;left: 50%;}#sk-ed1babaf-66ca-411c-9219-ee9b0056eabc div.sk-parallel-item {display: flex;flex-direction: column;position: relative;background-color: white;}#sk-ed1babaf-66ca-411c-9219-ee9b0056eabc div.sk-parallel-item:first-child::after {align-self: flex-end;width: 50%;}#sk-ed1babaf-66ca-411c-9219-ee9b0056eabc div.sk-parallel-item:last-child::after {align-self: flex-start;width: 50%;}#sk-ed1babaf-66ca-411c-9219-ee9b0056eabc div.sk-parallel-item:only-child::after {width: 0;}#sk-ed1babaf-66ca-411c-9219-ee9b0056eabc div.sk-dashed-wrapped {border: 1px dashed gray;margin: 0 0.4em 0.5em 0.4em;box-sizing: border-box;padding-bottom: 0.4em;background-color: white;position: relative;}#sk-ed1babaf-66ca-411c-9219-ee9b0056eabc div.sk-label label {font-family: monospace;font-weight: bold;background-color: white;display: inline-block;line-height: 1.2em;}#sk-ed1babaf-66ca-411c-9219-ee9b0056eabc div.sk-label-container {position: relative;z-index: 2;text-align: center;}#sk-ed1babaf-66ca-411c-9219-ee9b0056eabc div.sk-container {/* jupyter's `normalize.less` sets `[hidden] { display: none; }` but bootstrap.min.css set `[hidden] { display: none !important; }` so we also need the `!important` here to be able to override the default hidden behavior on the sphinx rendered scikit-learn.org. See: https://github.com/scikit-learn/scikit-learn/issues/21755 */display: inline-block !important;position: relative;}#sk-ed1babaf-66ca-411c-9219-ee9b0056eabc div.sk-text-repr-fallback {display: none;}</style><div id=\"sk-ed1babaf-66ca-411c-9219-ee9b0056eabc\" class=\"sk-top-container\"><div class=\"sk-text-repr-fallback\"><pre>Pipeline(steps=[(&#x27;imputer&#x27;, SimpleImputer(strategy=&#x27;most_frequent&#x27;))])</pre><b>Please rerun this cell to show the HTML repr or trust the notebook.</b></div><div class=\"sk-container\" hidden><div class=\"sk-item sk-dashed-wrapped\"><div class=\"sk-label-container\"><div class=\"sk-label sk-toggleable\"><input class=\"sk-toggleable__control sk-hidden--visually\" id=\"3538e34b-7483-4c22-b400-d6c8ba1bb824\" type=\"checkbox\" ><label for=\"3538e34b-7483-4c22-b400-d6c8ba1bb824\" class=\"sk-toggleable__label sk-toggleable__label-arrow\">Pipeline</label><div class=\"sk-toggleable__content\"><pre>Pipeline(steps=[(&#x27;imputer&#x27;, SimpleImputer(strategy=&#x27;most_frequent&#x27;))])</pre></div></div></div><div class=\"sk-serial\"><div class=\"sk-item\"><div class=\"sk-estimator sk-toggleable\"><input class=\"sk-toggleable__control sk-hidden--visually\" id=\"3041ad75-8eaa-4ce2-9db1-db0af4e0e859\" type=\"checkbox\" ><label for=\"3041ad75-8eaa-4ce2-9db1-db0af4e0e859\" class=\"sk-toggleable__label sk-toggleable__label-arrow\">SimpleImputer</label><div class=\"sk-toggleable__content\"><pre>SimpleImputer(strategy=&#x27;most_frequent&#x27;)</pre></div></div></div></div></div></div></div>"
      ],
      "text/plain": [
       "Pipeline(steps=[('imputer', SimpleImputer(strategy='most_frequent'))])"
      ]
     },
     "execution_count": 3,
     "metadata": {},
     "output_type": "execute_result"
    }
   ],
   "source": [
    "pipeline1"
   ]
  },
  {
   "cell_type": "code",
   "execution_count": 4,
   "id": "5b5c3326",
   "metadata": {},
   "outputs": [
    {
     "data": {
      "text/html": [
       "<style>#sk-65a5daa3-dcb8-428d-9199-ff3379700871 {color: black;background-color: white;}#sk-65a5daa3-dcb8-428d-9199-ff3379700871 pre{padding: 0;}#sk-65a5daa3-dcb8-428d-9199-ff3379700871 div.sk-toggleable {background-color: white;}#sk-65a5daa3-dcb8-428d-9199-ff3379700871 label.sk-toggleable__label {cursor: pointer;display: block;width: 100%;margin-bottom: 0;padding: 0.3em;box-sizing: border-box;text-align: center;}#sk-65a5daa3-dcb8-428d-9199-ff3379700871 label.sk-toggleable__label-arrow:before {content: \"▸\";float: left;margin-right: 0.25em;color: #696969;}#sk-65a5daa3-dcb8-428d-9199-ff3379700871 label.sk-toggleable__label-arrow:hover:before {color: black;}#sk-65a5daa3-dcb8-428d-9199-ff3379700871 div.sk-estimator:hover label.sk-toggleable__label-arrow:before {color: black;}#sk-65a5daa3-dcb8-428d-9199-ff3379700871 div.sk-toggleable__content {max-height: 0;max-width: 0;overflow: hidden;text-align: left;background-color: #f0f8ff;}#sk-65a5daa3-dcb8-428d-9199-ff3379700871 div.sk-toggleable__content pre {margin: 0.2em;color: black;border-radius: 0.25em;background-color: #f0f8ff;}#sk-65a5daa3-dcb8-428d-9199-ff3379700871 input.sk-toggleable__control:checked~div.sk-toggleable__content {max-height: 200px;max-width: 100%;overflow: auto;}#sk-65a5daa3-dcb8-428d-9199-ff3379700871 input.sk-toggleable__control:checked~label.sk-toggleable__label-arrow:before {content: \"▾\";}#sk-65a5daa3-dcb8-428d-9199-ff3379700871 div.sk-estimator input.sk-toggleable__control:checked~label.sk-toggleable__label {background-color: #d4ebff;}#sk-65a5daa3-dcb8-428d-9199-ff3379700871 div.sk-label input.sk-toggleable__control:checked~label.sk-toggleable__label {background-color: #d4ebff;}#sk-65a5daa3-dcb8-428d-9199-ff3379700871 input.sk-hidden--visually {border: 0;clip: rect(1px 1px 1px 1px);clip: rect(1px, 1px, 1px, 1px);height: 1px;margin: -1px;overflow: hidden;padding: 0;position: absolute;width: 1px;}#sk-65a5daa3-dcb8-428d-9199-ff3379700871 div.sk-estimator {font-family: monospace;background-color: #f0f8ff;border: 1px dotted black;border-radius: 0.25em;box-sizing: border-box;margin-bottom: 0.5em;}#sk-65a5daa3-dcb8-428d-9199-ff3379700871 div.sk-estimator:hover {background-color: #d4ebff;}#sk-65a5daa3-dcb8-428d-9199-ff3379700871 div.sk-parallel-item::after {content: \"\";width: 100%;border-bottom: 1px solid gray;flex-grow: 1;}#sk-65a5daa3-dcb8-428d-9199-ff3379700871 div.sk-label:hover label.sk-toggleable__label {background-color: #d4ebff;}#sk-65a5daa3-dcb8-428d-9199-ff3379700871 div.sk-serial::before {content: \"\";position: absolute;border-left: 1px solid gray;box-sizing: border-box;top: 2em;bottom: 0;left: 50%;}#sk-65a5daa3-dcb8-428d-9199-ff3379700871 div.sk-serial {display: flex;flex-direction: column;align-items: center;background-color: white;padding-right: 0.2em;padding-left: 0.2em;}#sk-65a5daa3-dcb8-428d-9199-ff3379700871 div.sk-item {z-index: 1;}#sk-65a5daa3-dcb8-428d-9199-ff3379700871 div.sk-parallel {display: flex;align-items: stretch;justify-content: center;background-color: white;}#sk-65a5daa3-dcb8-428d-9199-ff3379700871 div.sk-parallel::before {content: \"\";position: absolute;border-left: 1px solid gray;box-sizing: border-box;top: 2em;bottom: 0;left: 50%;}#sk-65a5daa3-dcb8-428d-9199-ff3379700871 div.sk-parallel-item {display: flex;flex-direction: column;position: relative;background-color: white;}#sk-65a5daa3-dcb8-428d-9199-ff3379700871 div.sk-parallel-item:first-child::after {align-self: flex-end;width: 50%;}#sk-65a5daa3-dcb8-428d-9199-ff3379700871 div.sk-parallel-item:last-child::after {align-self: flex-start;width: 50%;}#sk-65a5daa3-dcb8-428d-9199-ff3379700871 div.sk-parallel-item:only-child::after {width: 0;}#sk-65a5daa3-dcb8-428d-9199-ff3379700871 div.sk-dashed-wrapped {border: 1px dashed gray;margin: 0 0.4em 0.5em 0.4em;box-sizing: border-box;padding-bottom: 0.4em;background-color: white;position: relative;}#sk-65a5daa3-dcb8-428d-9199-ff3379700871 div.sk-label label {font-family: monospace;font-weight: bold;background-color: white;display: inline-block;line-height: 1.2em;}#sk-65a5daa3-dcb8-428d-9199-ff3379700871 div.sk-label-container {position: relative;z-index: 2;text-align: center;}#sk-65a5daa3-dcb8-428d-9199-ff3379700871 div.sk-container {/* jupyter's `normalize.less` sets `[hidden] { display: none; }` but bootstrap.min.css set `[hidden] { display: none !important; }` so we also need the `!important` here to be able to override the default hidden behavior on the sphinx rendered scikit-learn.org. See: https://github.com/scikit-learn/scikit-learn/issues/21755 */display: inline-block !important;position: relative;}#sk-65a5daa3-dcb8-428d-9199-ff3379700871 div.sk-text-repr-fallback {display: none;}</style><div id=\"sk-65a5daa3-dcb8-428d-9199-ff3379700871\" class=\"sk-top-container\"><div class=\"sk-text-repr-fallback\"><pre>Pipeline(steps=[(&#x27;replace_non_numeric&#x27;,\n",
       "                 SimpleImputer(fill_value=nan, strategy=&#x27;constant&#x27;)),\n",
       "                (&#x27;impute_avg_cost&#x27;, SimpleImputer(strategy=&#x27;median&#x27;)),\n",
       "                (&#x27;impute_price_range&#x27;,\n",
       "                 SimpleImputer(missing_values=-1, strategy=&#x27;median&#x27;))])</pre><b>Please rerun this cell to show the HTML repr or trust the notebook.</b></div><div class=\"sk-container\" hidden><div class=\"sk-item sk-dashed-wrapped\"><div class=\"sk-label-container\"><div class=\"sk-label sk-toggleable\"><input class=\"sk-toggleable__control sk-hidden--visually\" id=\"dcf07a56-1c83-4c93-9b7a-eeedf07a0ddb\" type=\"checkbox\" ><label for=\"dcf07a56-1c83-4c93-9b7a-eeedf07a0ddb\" class=\"sk-toggleable__label sk-toggleable__label-arrow\">Pipeline</label><div class=\"sk-toggleable__content\"><pre>Pipeline(steps=[(&#x27;replace_non_numeric&#x27;,\n",
       "                 SimpleImputer(fill_value=nan, strategy=&#x27;constant&#x27;)),\n",
       "                (&#x27;impute_avg_cost&#x27;, SimpleImputer(strategy=&#x27;median&#x27;)),\n",
       "                (&#x27;impute_price_range&#x27;,\n",
       "                 SimpleImputer(missing_values=-1, strategy=&#x27;median&#x27;))])</pre></div></div></div><div class=\"sk-serial\"><div class=\"sk-item\"><div class=\"sk-estimator sk-toggleable\"><input class=\"sk-toggleable__control sk-hidden--visually\" id=\"3d08be23-2c3f-4680-bf68-6a4e847059a5\" type=\"checkbox\" ><label for=\"3d08be23-2c3f-4680-bf68-6a4e847059a5\" class=\"sk-toggleable__label sk-toggleable__label-arrow\">SimpleImputer</label><div class=\"sk-toggleable__content\"><pre>SimpleImputer(fill_value=nan, strategy=&#x27;constant&#x27;)</pre></div></div></div><div class=\"sk-item\"><div class=\"sk-estimator sk-toggleable\"><input class=\"sk-toggleable__control sk-hidden--visually\" id=\"66aaf601-c050-4471-9995-46cd56696fc0\" type=\"checkbox\" ><label for=\"66aaf601-c050-4471-9995-46cd56696fc0\" class=\"sk-toggleable__label sk-toggleable__label-arrow\">SimpleImputer</label><div class=\"sk-toggleable__content\"><pre>SimpleImputer(strategy=&#x27;median&#x27;)</pre></div></div></div><div class=\"sk-item\"><div class=\"sk-estimator sk-toggleable\"><input class=\"sk-toggleable__control sk-hidden--visually\" id=\"dccbe0e5-5dc7-46e5-a4a4-2f7a4611747e\" type=\"checkbox\" ><label for=\"dccbe0e5-5dc7-46e5-a4a4-2f7a4611747e\" class=\"sk-toggleable__label sk-toggleable__label-arrow\">SimpleImputer</label><div class=\"sk-toggleable__content\"><pre>SimpleImputer(missing_values=-1, strategy=&#x27;median&#x27;)</pre></div></div></div></div></div></div></div>"
      ],
      "text/plain": [
       "Pipeline(steps=[('replace_non_numeric',\n",
       "                 SimpleImputer(fill_value=nan, strategy='constant')),\n",
       "                ('impute_avg_cost', SimpleImputer(strategy='median')),\n",
       "                ('impute_price_range',\n",
       "                 SimpleImputer(missing_values=-1, strategy='median'))])"
      ]
     },
     "execution_count": 4,
     "metadata": {},
     "output_type": "execute_result"
    }
   ],
   "source": [
    "pipeline2"
   ]
  },
  {
   "cell_type": "markdown",
   "id": "d06b633d",
   "metadata": {},
   "source": [
    "# MAPPING CATEGORICAL COLUMNS"
   ]
  },
  {
   "cell_type": "code",
   "execution_count": 5,
   "id": "b4b01551",
   "metadata": {},
   "outputs": [],
   "source": [
    "# create a dictionary to map the categorical variables\n",
    "cat_mapping = {\n",
    "    \"Yes\": 1,\n",
    "    \"No\": 0\n",
    "}\n",
    "\n",
    "# Define the pipeline\n",
    "def map_cats(X):\n",
    "    return np.vectorize(cat_mapping.get)(X)\n",
    "\n",
    "pipeline3 = Pipeline([\n",
    "    (\"map_cats\", FunctionTransformer(map_cats)),\n",
    "])\n",
    "\n",
    "# Apply the pipeline to the dataframe\n",
    "df[[\"Has Table booking\", \"Has Online delivery\", \"Is delivering now\"]] = pipeline3.fit_transform(df[[\"Has Table booking\", \"Has Online delivery\", \"Is delivering now\"]])\n"
   ]
  },
  {
   "cell_type": "code",
   "execution_count": 6,
   "id": "69b93272",
   "metadata": {},
   "outputs": [
    {
     "data": {
      "text/html": [
       "<style>#sk-df285ed7-ddb5-4bd8-b506-449c68807e02 {color: black;background-color: white;}#sk-df285ed7-ddb5-4bd8-b506-449c68807e02 pre{padding: 0;}#sk-df285ed7-ddb5-4bd8-b506-449c68807e02 div.sk-toggleable {background-color: white;}#sk-df285ed7-ddb5-4bd8-b506-449c68807e02 label.sk-toggleable__label {cursor: pointer;display: block;width: 100%;margin-bottom: 0;padding: 0.3em;box-sizing: border-box;text-align: center;}#sk-df285ed7-ddb5-4bd8-b506-449c68807e02 label.sk-toggleable__label-arrow:before {content: \"▸\";float: left;margin-right: 0.25em;color: #696969;}#sk-df285ed7-ddb5-4bd8-b506-449c68807e02 label.sk-toggleable__label-arrow:hover:before {color: black;}#sk-df285ed7-ddb5-4bd8-b506-449c68807e02 div.sk-estimator:hover label.sk-toggleable__label-arrow:before {color: black;}#sk-df285ed7-ddb5-4bd8-b506-449c68807e02 div.sk-toggleable__content {max-height: 0;max-width: 0;overflow: hidden;text-align: left;background-color: #f0f8ff;}#sk-df285ed7-ddb5-4bd8-b506-449c68807e02 div.sk-toggleable__content pre {margin: 0.2em;color: black;border-radius: 0.25em;background-color: #f0f8ff;}#sk-df285ed7-ddb5-4bd8-b506-449c68807e02 input.sk-toggleable__control:checked~div.sk-toggleable__content {max-height: 200px;max-width: 100%;overflow: auto;}#sk-df285ed7-ddb5-4bd8-b506-449c68807e02 input.sk-toggleable__control:checked~label.sk-toggleable__label-arrow:before {content: \"▾\";}#sk-df285ed7-ddb5-4bd8-b506-449c68807e02 div.sk-estimator input.sk-toggleable__control:checked~label.sk-toggleable__label {background-color: #d4ebff;}#sk-df285ed7-ddb5-4bd8-b506-449c68807e02 div.sk-label input.sk-toggleable__control:checked~label.sk-toggleable__label {background-color: #d4ebff;}#sk-df285ed7-ddb5-4bd8-b506-449c68807e02 input.sk-hidden--visually {border: 0;clip: rect(1px 1px 1px 1px);clip: rect(1px, 1px, 1px, 1px);height: 1px;margin: -1px;overflow: hidden;padding: 0;position: absolute;width: 1px;}#sk-df285ed7-ddb5-4bd8-b506-449c68807e02 div.sk-estimator {font-family: monospace;background-color: #f0f8ff;border: 1px dotted black;border-radius: 0.25em;box-sizing: border-box;margin-bottom: 0.5em;}#sk-df285ed7-ddb5-4bd8-b506-449c68807e02 div.sk-estimator:hover {background-color: #d4ebff;}#sk-df285ed7-ddb5-4bd8-b506-449c68807e02 div.sk-parallel-item::after {content: \"\";width: 100%;border-bottom: 1px solid gray;flex-grow: 1;}#sk-df285ed7-ddb5-4bd8-b506-449c68807e02 div.sk-label:hover label.sk-toggleable__label {background-color: #d4ebff;}#sk-df285ed7-ddb5-4bd8-b506-449c68807e02 div.sk-serial::before {content: \"\";position: absolute;border-left: 1px solid gray;box-sizing: border-box;top: 2em;bottom: 0;left: 50%;}#sk-df285ed7-ddb5-4bd8-b506-449c68807e02 div.sk-serial {display: flex;flex-direction: column;align-items: center;background-color: white;padding-right: 0.2em;padding-left: 0.2em;}#sk-df285ed7-ddb5-4bd8-b506-449c68807e02 div.sk-item {z-index: 1;}#sk-df285ed7-ddb5-4bd8-b506-449c68807e02 div.sk-parallel {display: flex;align-items: stretch;justify-content: center;background-color: white;}#sk-df285ed7-ddb5-4bd8-b506-449c68807e02 div.sk-parallel::before {content: \"\";position: absolute;border-left: 1px solid gray;box-sizing: border-box;top: 2em;bottom: 0;left: 50%;}#sk-df285ed7-ddb5-4bd8-b506-449c68807e02 div.sk-parallel-item {display: flex;flex-direction: column;position: relative;background-color: white;}#sk-df285ed7-ddb5-4bd8-b506-449c68807e02 div.sk-parallel-item:first-child::after {align-self: flex-end;width: 50%;}#sk-df285ed7-ddb5-4bd8-b506-449c68807e02 div.sk-parallel-item:last-child::after {align-self: flex-start;width: 50%;}#sk-df285ed7-ddb5-4bd8-b506-449c68807e02 div.sk-parallel-item:only-child::after {width: 0;}#sk-df285ed7-ddb5-4bd8-b506-449c68807e02 div.sk-dashed-wrapped {border: 1px dashed gray;margin: 0 0.4em 0.5em 0.4em;box-sizing: border-box;padding-bottom: 0.4em;background-color: white;position: relative;}#sk-df285ed7-ddb5-4bd8-b506-449c68807e02 div.sk-label label {font-family: monospace;font-weight: bold;background-color: white;display: inline-block;line-height: 1.2em;}#sk-df285ed7-ddb5-4bd8-b506-449c68807e02 div.sk-label-container {position: relative;z-index: 2;text-align: center;}#sk-df285ed7-ddb5-4bd8-b506-449c68807e02 div.sk-container {/* jupyter's `normalize.less` sets `[hidden] { display: none; }` but bootstrap.min.css set `[hidden] { display: none !important; }` so we also need the `!important` here to be able to override the default hidden behavior on the sphinx rendered scikit-learn.org. See: https://github.com/scikit-learn/scikit-learn/issues/21755 */display: inline-block !important;position: relative;}#sk-df285ed7-ddb5-4bd8-b506-449c68807e02 div.sk-text-repr-fallback {display: none;}</style><div id=\"sk-df285ed7-ddb5-4bd8-b506-449c68807e02\" class=\"sk-top-container\"><div class=\"sk-text-repr-fallback\"><pre>Pipeline(steps=[(&#x27;map_cats&#x27;,\n",
       "                 FunctionTransformer(func=&lt;function map_cats at 0x0000018055FB89D0&gt;))])</pre><b>Please rerun this cell to show the HTML repr or trust the notebook.</b></div><div class=\"sk-container\" hidden><div class=\"sk-item sk-dashed-wrapped\"><div class=\"sk-label-container\"><div class=\"sk-label sk-toggleable\"><input class=\"sk-toggleable__control sk-hidden--visually\" id=\"4a67a673-4f9d-4853-86a4-6be8afa9b6e5\" type=\"checkbox\" ><label for=\"4a67a673-4f9d-4853-86a4-6be8afa9b6e5\" class=\"sk-toggleable__label sk-toggleable__label-arrow\">Pipeline</label><div class=\"sk-toggleable__content\"><pre>Pipeline(steps=[(&#x27;map_cats&#x27;,\n",
       "                 FunctionTransformer(func=&lt;function map_cats at 0x0000018055FB89D0&gt;))])</pre></div></div></div><div class=\"sk-serial\"><div class=\"sk-item\"><div class=\"sk-estimator sk-toggleable\"><input class=\"sk-toggleable__control sk-hidden--visually\" id=\"b4c73f4e-e735-4b18-8d80-f5c8f26f90df\" type=\"checkbox\" ><label for=\"b4c73f4e-e735-4b18-8d80-f5c8f26f90df\" class=\"sk-toggleable__label sk-toggleable__label-arrow\">FunctionTransformer</label><div class=\"sk-toggleable__content\"><pre>FunctionTransformer(func=&lt;function map_cats at 0x0000018055FB89D0&gt;)</pre></div></div></div></div></div></div></div>"
      ],
      "text/plain": [
       "Pipeline(steps=[('map_cats',\n",
       "                 FunctionTransformer(func=<function map_cats at 0x0000018055FB89D0>))])"
      ]
     },
     "execution_count": 6,
     "metadata": {},
     "output_type": "execute_result"
    }
   ],
   "source": [
    "pipeline3"
   ]
  },
  {
   "cell_type": "markdown",
   "id": "808795a1",
   "metadata": {},
   "source": [
    "# CONVERTING REMAINING CATEGORICAL COLUMNS TO NUMERICAL COLUMNS"
   ]
  },
  {
   "cell_type": "code",
   "execution_count": 7,
   "id": "2cea45fd",
   "metadata": {},
   "outputs": [],
   "source": [
    "# Define the functions to factorize columns\n",
    "factorize_columns = FunctionTransformer(lambda X: pd.DataFrame({\n",
    "    \"Address\": pd.factorize(X[\"Address\"])[0],\n",
    "    \"Cuisines\": pd.factorize(X[\"Cuisines\"])[0],\n",
    "    \"Currency\": pd.factorize(X[\"Currency\"])[0],\n",
    "    \"Country\": pd.factorize(X[\"Country\"])[0]\n",
    "}, columns=[\"Address\", \"Cuisines\", \"Currency\", \"Country\"]))\n",
    "\n",
    "# Define the pipeline\n",
    "pipeline4 = Pipeline([    (\"factorize_columns\", factorize_columns)])\n",
    "\n",
    "# Apply the pipeline to the dataframe\n",
    "df[[\"Address\", \"Cuisines\", \"Currency\", \"Country\"]] = pipeline4.fit_transform(df)"
   ]
  },
  {
   "cell_type": "code",
   "execution_count": 8,
   "id": "495fce8a",
   "metadata": {},
   "outputs": [
    {
     "data": {
      "text/html": [
       "<style>#sk-f5c98c4c-dbe2-4b8f-8ef8-0da3a7e5534f {color: black;background-color: white;}#sk-f5c98c4c-dbe2-4b8f-8ef8-0da3a7e5534f pre{padding: 0;}#sk-f5c98c4c-dbe2-4b8f-8ef8-0da3a7e5534f div.sk-toggleable {background-color: white;}#sk-f5c98c4c-dbe2-4b8f-8ef8-0da3a7e5534f label.sk-toggleable__label {cursor: pointer;display: block;width: 100%;margin-bottom: 0;padding: 0.3em;box-sizing: border-box;text-align: center;}#sk-f5c98c4c-dbe2-4b8f-8ef8-0da3a7e5534f label.sk-toggleable__label-arrow:before {content: \"▸\";float: left;margin-right: 0.25em;color: #696969;}#sk-f5c98c4c-dbe2-4b8f-8ef8-0da3a7e5534f label.sk-toggleable__label-arrow:hover:before {color: black;}#sk-f5c98c4c-dbe2-4b8f-8ef8-0da3a7e5534f div.sk-estimator:hover label.sk-toggleable__label-arrow:before {color: black;}#sk-f5c98c4c-dbe2-4b8f-8ef8-0da3a7e5534f div.sk-toggleable__content {max-height: 0;max-width: 0;overflow: hidden;text-align: left;background-color: #f0f8ff;}#sk-f5c98c4c-dbe2-4b8f-8ef8-0da3a7e5534f div.sk-toggleable__content pre {margin: 0.2em;color: black;border-radius: 0.25em;background-color: #f0f8ff;}#sk-f5c98c4c-dbe2-4b8f-8ef8-0da3a7e5534f input.sk-toggleable__control:checked~div.sk-toggleable__content {max-height: 200px;max-width: 100%;overflow: auto;}#sk-f5c98c4c-dbe2-4b8f-8ef8-0da3a7e5534f input.sk-toggleable__control:checked~label.sk-toggleable__label-arrow:before {content: \"▾\";}#sk-f5c98c4c-dbe2-4b8f-8ef8-0da3a7e5534f div.sk-estimator input.sk-toggleable__control:checked~label.sk-toggleable__label {background-color: #d4ebff;}#sk-f5c98c4c-dbe2-4b8f-8ef8-0da3a7e5534f div.sk-label input.sk-toggleable__control:checked~label.sk-toggleable__label {background-color: #d4ebff;}#sk-f5c98c4c-dbe2-4b8f-8ef8-0da3a7e5534f input.sk-hidden--visually {border: 0;clip: rect(1px 1px 1px 1px);clip: rect(1px, 1px, 1px, 1px);height: 1px;margin: -1px;overflow: hidden;padding: 0;position: absolute;width: 1px;}#sk-f5c98c4c-dbe2-4b8f-8ef8-0da3a7e5534f div.sk-estimator {font-family: monospace;background-color: #f0f8ff;border: 1px dotted black;border-radius: 0.25em;box-sizing: border-box;margin-bottom: 0.5em;}#sk-f5c98c4c-dbe2-4b8f-8ef8-0da3a7e5534f div.sk-estimator:hover {background-color: #d4ebff;}#sk-f5c98c4c-dbe2-4b8f-8ef8-0da3a7e5534f div.sk-parallel-item::after {content: \"\";width: 100%;border-bottom: 1px solid gray;flex-grow: 1;}#sk-f5c98c4c-dbe2-4b8f-8ef8-0da3a7e5534f div.sk-label:hover label.sk-toggleable__label {background-color: #d4ebff;}#sk-f5c98c4c-dbe2-4b8f-8ef8-0da3a7e5534f div.sk-serial::before {content: \"\";position: absolute;border-left: 1px solid gray;box-sizing: border-box;top: 2em;bottom: 0;left: 50%;}#sk-f5c98c4c-dbe2-4b8f-8ef8-0da3a7e5534f div.sk-serial {display: flex;flex-direction: column;align-items: center;background-color: white;padding-right: 0.2em;padding-left: 0.2em;}#sk-f5c98c4c-dbe2-4b8f-8ef8-0da3a7e5534f div.sk-item {z-index: 1;}#sk-f5c98c4c-dbe2-4b8f-8ef8-0da3a7e5534f div.sk-parallel {display: flex;align-items: stretch;justify-content: center;background-color: white;}#sk-f5c98c4c-dbe2-4b8f-8ef8-0da3a7e5534f div.sk-parallel::before {content: \"\";position: absolute;border-left: 1px solid gray;box-sizing: border-box;top: 2em;bottom: 0;left: 50%;}#sk-f5c98c4c-dbe2-4b8f-8ef8-0da3a7e5534f div.sk-parallel-item {display: flex;flex-direction: column;position: relative;background-color: white;}#sk-f5c98c4c-dbe2-4b8f-8ef8-0da3a7e5534f div.sk-parallel-item:first-child::after {align-self: flex-end;width: 50%;}#sk-f5c98c4c-dbe2-4b8f-8ef8-0da3a7e5534f div.sk-parallel-item:last-child::after {align-self: flex-start;width: 50%;}#sk-f5c98c4c-dbe2-4b8f-8ef8-0da3a7e5534f div.sk-parallel-item:only-child::after {width: 0;}#sk-f5c98c4c-dbe2-4b8f-8ef8-0da3a7e5534f div.sk-dashed-wrapped {border: 1px dashed gray;margin: 0 0.4em 0.5em 0.4em;box-sizing: border-box;padding-bottom: 0.4em;background-color: white;position: relative;}#sk-f5c98c4c-dbe2-4b8f-8ef8-0da3a7e5534f div.sk-label label {font-family: monospace;font-weight: bold;background-color: white;display: inline-block;line-height: 1.2em;}#sk-f5c98c4c-dbe2-4b8f-8ef8-0da3a7e5534f div.sk-label-container {position: relative;z-index: 2;text-align: center;}#sk-f5c98c4c-dbe2-4b8f-8ef8-0da3a7e5534f div.sk-container {/* jupyter's `normalize.less` sets `[hidden] { display: none; }` but bootstrap.min.css set `[hidden] { display: none !important; }` so we also need the `!important` here to be able to override the default hidden behavior on the sphinx rendered scikit-learn.org. See: https://github.com/scikit-learn/scikit-learn/issues/21755 */display: inline-block !important;position: relative;}#sk-f5c98c4c-dbe2-4b8f-8ef8-0da3a7e5534f div.sk-text-repr-fallback {display: none;}</style><div id=\"sk-f5c98c4c-dbe2-4b8f-8ef8-0da3a7e5534f\" class=\"sk-top-container\"><div class=\"sk-text-repr-fallback\"><pre>Pipeline(steps=[(&#x27;factorize_columns&#x27;,\n",
       "                 FunctionTransformer(func=&lt;function &lt;lambda&gt; at 0x000001805603E160&gt;))])</pre><b>Please rerun this cell to show the HTML repr or trust the notebook.</b></div><div class=\"sk-container\" hidden><div class=\"sk-item sk-dashed-wrapped\"><div class=\"sk-label-container\"><div class=\"sk-label sk-toggleable\"><input class=\"sk-toggleable__control sk-hidden--visually\" id=\"4bdd394a-afce-4129-846d-86b18dd858cc\" type=\"checkbox\" ><label for=\"4bdd394a-afce-4129-846d-86b18dd858cc\" class=\"sk-toggleable__label sk-toggleable__label-arrow\">Pipeline</label><div class=\"sk-toggleable__content\"><pre>Pipeline(steps=[(&#x27;factorize_columns&#x27;,\n",
       "                 FunctionTransformer(func=&lt;function &lt;lambda&gt; at 0x000001805603E160&gt;))])</pre></div></div></div><div class=\"sk-serial\"><div class=\"sk-item\"><div class=\"sk-estimator sk-toggleable\"><input class=\"sk-toggleable__control sk-hidden--visually\" id=\"6c61673f-f798-4078-9a32-18e92029f2cc\" type=\"checkbox\" ><label for=\"6c61673f-f798-4078-9a32-18e92029f2cc\" class=\"sk-toggleable__label sk-toggleable__label-arrow\">FunctionTransformer</label><div class=\"sk-toggleable__content\"><pre>FunctionTransformer(func=&lt;function &lt;lambda&gt; at 0x000001805603E160&gt;)</pre></div></div></div></div></div></div></div>"
      ],
      "text/plain": [
       "Pipeline(steps=[('factorize_columns',\n",
       "                 FunctionTransformer(func=<function <lambda> at 0x000001805603E160>))])"
      ]
     },
     "execution_count": 8,
     "metadata": {},
     "output_type": "execute_result"
    }
   ],
   "source": [
    "pipeline4"
   ]
  },
  {
   "cell_type": "markdown",
   "id": "d57fab4f",
   "metadata": {},
   "source": [
    "# OUTLIERS TREATEMENT"
   ]
  },
  {
   "cell_type": "code",
   "execution_count": 9,
   "id": "547509d6",
   "metadata": {},
   "outputs": [
    {
     "name": "stdout",
     "output_type": "stream",
     "text": [
      "capping the Restaurant ID\n",
      "capping the Country Code\n",
      "capping the Address\n",
      "capping the Longitude\n",
      "capping the Latitude\n",
      "capping the Cuisines\n",
      "capping the Average Cost for two\n",
      "capping the Currency\n",
      "capping the Has Table booking\n",
      "capping the Has Online delivery\n",
      "capping the Is delivering now\n",
      "capping the Price range\n",
      "capping the Aggregate rating\n",
      "capping the Votes\n",
      "capping the Country\n"
     ]
    }
   ],
   "source": [
    "def cap_data(df):\n",
    "    for col in df.columns:\n",
    "        print(\"capping the\", col)\n",
    "        if df[col].dtype == 'float64' or df[col].dtype == 'int64':\n",
    "            percentiles = df[col].quantile([0.20, 0.80]).values\n",
    "            df.loc[df[col] <= percentiles[0], col] = percentiles[0]\n",
    "            df.loc[df[col] >= percentiles[1], col] = percentiles[1]\n",
    "        else:\n",
    "            df[col] = df[col]\n",
    "    return df\n",
    "\n",
    "pipeline5 = Pipeline([\n",
    "    (\"cap_data\", FunctionTransformer(cap_data)),\n",
    "])\n",
    "\n",
    "df1 = pipeline5.fit_transform(df)"
   ]
  },
  {
   "cell_type": "code",
   "execution_count": 10,
   "id": "a0aed811",
   "metadata": {},
   "outputs": [
    {
     "data": {
      "text/html": [
       "<style>#sk-5f9e1731-2085-488f-9fbb-1e33fe3fde62 {color: black;background-color: white;}#sk-5f9e1731-2085-488f-9fbb-1e33fe3fde62 pre{padding: 0;}#sk-5f9e1731-2085-488f-9fbb-1e33fe3fde62 div.sk-toggleable {background-color: white;}#sk-5f9e1731-2085-488f-9fbb-1e33fe3fde62 label.sk-toggleable__label {cursor: pointer;display: block;width: 100%;margin-bottom: 0;padding: 0.3em;box-sizing: border-box;text-align: center;}#sk-5f9e1731-2085-488f-9fbb-1e33fe3fde62 label.sk-toggleable__label-arrow:before {content: \"▸\";float: left;margin-right: 0.25em;color: #696969;}#sk-5f9e1731-2085-488f-9fbb-1e33fe3fde62 label.sk-toggleable__label-arrow:hover:before {color: black;}#sk-5f9e1731-2085-488f-9fbb-1e33fe3fde62 div.sk-estimator:hover label.sk-toggleable__label-arrow:before {color: black;}#sk-5f9e1731-2085-488f-9fbb-1e33fe3fde62 div.sk-toggleable__content {max-height: 0;max-width: 0;overflow: hidden;text-align: left;background-color: #f0f8ff;}#sk-5f9e1731-2085-488f-9fbb-1e33fe3fde62 div.sk-toggleable__content pre {margin: 0.2em;color: black;border-radius: 0.25em;background-color: #f0f8ff;}#sk-5f9e1731-2085-488f-9fbb-1e33fe3fde62 input.sk-toggleable__control:checked~div.sk-toggleable__content {max-height: 200px;max-width: 100%;overflow: auto;}#sk-5f9e1731-2085-488f-9fbb-1e33fe3fde62 input.sk-toggleable__control:checked~label.sk-toggleable__label-arrow:before {content: \"▾\";}#sk-5f9e1731-2085-488f-9fbb-1e33fe3fde62 div.sk-estimator input.sk-toggleable__control:checked~label.sk-toggleable__label {background-color: #d4ebff;}#sk-5f9e1731-2085-488f-9fbb-1e33fe3fde62 div.sk-label input.sk-toggleable__control:checked~label.sk-toggleable__label {background-color: #d4ebff;}#sk-5f9e1731-2085-488f-9fbb-1e33fe3fde62 input.sk-hidden--visually {border: 0;clip: rect(1px 1px 1px 1px);clip: rect(1px, 1px, 1px, 1px);height: 1px;margin: -1px;overflow: hidden;padding: 0;position: absolute;width: 1px;}#sk-5f9e1731-2085-488f-9fbb-1e33fe3fde62 div.sk-estimator {font-family: monospace;background-color: #f0f8ff;border: 1px dotted black;border-radius: 0.25em;box-sizing: border-box;margin-bottom: 0.5em;}#sk-5f9e1731-2085-488f-9fbb-1e33fe3fde62 div.sk-estimator:hover {background-color: #d4ebff;}#sk-5f9e1731-2085-488f-9fbb-1e33fe3fde62 div.sk-parallel-item::after {content: \"\";width: 100%;border-bottom: 1px solid gray;flex-grow: 1;}#sk-5f9e1731-2085-488f-9fbb-1e33fe3fde62 div.sk-label:hover label.sk-toggleable__label {background-color: #d4ebff;}#sk-5f9e1731-2085-488f-9fbb-1e33fe3fde62 div.sk-serial::before {content: \"\";position: absolute;border-left: 1px solid gray;box-sizing: border-box;top: 2em;bottom: 0;left: 50%;}#sk-5f9e1731-2085-488f-9fbb-1e33fe3fde62 div.sk-serial {display: flex;flex-direction: column;align-items: center;background-color: white;padding-right: 0.2em;padding-left: 0.2em;}#sk-5f9e1731-2085-488f-9fbb-1e33fe3fde62 div.sk-item {z-index: 1;}#sk-5f9e1731-2085-488f-9fbb-1e33fe3fde62 div.sk-parallel {display: flex;align-items: stretch;justify-content: center;background-color: white;}#sk-5f9e1731-2085-488f-9fbb-1e33fe3fde62 div.sk-parallel::before {content: \"\";position: absolute;border-left: 1px solid gray;box-sizing: border-box;top: 2em;bottom: 0;left: 50%;}#sk-5f9e1731-2085-488f-9fbb-1e33fe3fde62 div.sk-parallel-item {display: flex;flex-direction: column;position: relative;background-color: white;}#sk-5f9e1731-2085-488f-9fbb-1e33fe3fde62 div.sk-parallel-item:first-child::after {align-self: flex-end;width: 50%;}#sk-5f9e1731-2085-488f-9fbb-1e33fe3fde62 div.sk-parallel-item:last-child::after {align-self: flex-start;width: 50%;}#sk-5f9e1731-2085-488f-9fbb-1e33fe3fde62 div.sk-parallel-item:only-child::after {width: 0;}#sk-5f9e1731-2085-488f-9fbb-1e33fe3fde62 div.sk-dashed-wrapped {border: 1px dashed gray;margin: 0 0.4em 0.5em 0.4em;box-sizing: border-box;padding-bottom: 0.4em;background-color: white;position: relative;}#sk-5f9e1731-2085-488f-9fbb-1e33fe3fde62 div.sk-label label {font-family: monospace;font-weight: bold;background-color: white;display: inline-block;line-height: 1.2em;}#sk-5f9e1731-2085-488f-9fbb-1e33fe3fde62 div.sk-label-container {position: relative;z-index: 2;text-align: center;}#sk-5f9e1731-2085-488f-9fbb-1e33fe3fde62 div.sk-container {/* jupyter's `normalize.less` sets `[hidden] { display: none; }` but bootstrap.min.css set `[hidden] { display: none !important; }` so we also need the `!important` here to be able to override the default hidden behavior on the sphinx rendered scikit-learn.org. See: https://github.com/scikit-learn/scikit-learn/issues/21755 */display: inline-block !important;position: relative;}#sk-5f9e1731-2085-488f-9fbb-1e33fe3fde62 div.sk-text-repr-fallback {display: none;}</style><div id=\"sk-5f9e1731-2085-488f-9fbb-1e33fe3fde62\" class=\"sk-top-container\"><div class=\"sk-text-repr-fallback\"><pre>Pipeline(steps=[(&#x27;cap_data&#x27;,\n",
       "                 FunctionTransformer(func=&lt;function cap_data at 0x00000180554BAEE0&gt;))])</pre><b>Please rerun this cell to show the HTML repr or trust the notebook.</b></div><div class=\"sk-container\" hidden><div class=\"sk-item sk-dashed-wrapped\"><div class=\"sk-label-container\"><div class=\"sk-label sk-toggleable\"><input class=\"sk-toggleable__control sk-hidden--visually\" id=\"22a6c016-4f7a-4893-944a-5ab69f1dbe21\" type=\"checkbox\" ><label for=\"22a6c016-4f7a-4893-944a-5ab69f1dbe21\" class=\"sk-toggleable__label sk-toggleable__label-arrow\">Pipeline</label><div class=\"sk-toggleable__content\"><pre>Pipeline(steps=[(&#x27;cap_data&#x27;,\n",
       "                 FunctionTransformer(func=&lt;function cap_data at 0x00000180554BAEE0&gt;))])</pre></div></div></div><div class=\"sk-serial\"><div class=\"sk-item\"><div class=\"sk-estimator sk-toggleable\"><input class=\"sk-toggleable__control sk-hidden--visually\" id=\"a015dee2-e98f-479d-9ae8-e9fe6f3a4a19\" type=\"checkbox\" ><label for=\"a015dee2-e98f-479d-9ae8-e9fe6f3a4a19\" class=\"sk-toggleable__label sk-toggleable__label-arrow\">FunctionTransformer</label><div class=\"sk-toggleable__content\"><pre>FunctionTransformer(func=&lt;function cap_data at 0x00000180554BAEE0&gt;)</pre></div></div></div></div></div></div></div>"
      ],
      "text/plain": [
       "Pipeline(steps=[('cap_data',\n",
       "                 FunctionTransformer(func=<function cap_data at 0x00000180554BAEE0>))])"
      ]
     },
     "execution_count": 10,
     "metadata": {},
     "output_type": "execute_result"
    }
   ],
   "source": [
    "pipeline5"
   ]
  },
  {
   "cell_type": "markdown",
   "id": "dd855090",
   "metadata": {},
   "source": [
    "# CREATING PREPROCESSOR PIPELINE"
   ]
  },
  {
   "cell_type": "code",
   "execution_count": 11,
   "id": "886873ee",
   "metadata": {},
   "outputs": [],
   "source": [
    "from sklearn.pipeline import make_pipeline\n",
    "\n",
    "preprocessor = make_pipeline(\n",
    "    pipeline1,\n",
    "    pipeline2,\n",
    "    pipeline3,\n",
    "    pipeline4,\n",
    "    pipeline5,\n",
    "    StandardScaler()\n",
    ")\n"
   ]
  },
  {
   "cell_type": "code",
   "execution_count": 12,
   "id": "04dea2e0",
   "metadata": {},
   "outputs": [
    {
     "data": {
      "text/html": [
       "<style>#sk-f7548e6a-4411-434d-80b7-f5c7009c8c35 {color: black;background-color: white;}#sk-f7548e6a-4411-434d-80b7-f5c7009c8c35 pre{padding: 0;}#sk-f7548e6a-4411-434d-80b7-f5c7009c8c35 div.sk-toggleable {background-color: white;}#sk-f7548e6a-4411-434d-80b7-f5c7009c8c35 label.sk-toggleable__label {cursor: pointer;display: block;width: 100%;margin-bottom: 0;padding: 0.3em;box-sizing: border-box;text-align: center;}#sk-f7548e6a-4411-434d-80b7-f5c7009c8c35 label.sk-toggleable__label-arrow:before {content: \"▸\";float: left;margin-right: 0.25em;color: #696969;}#sk-f7548e6a-4411-434d-80b7-f5c7009c8c35 label.sk-toggleable__label-arrow:hover:before {color: black;}#sk-f7548e6a-4411-434d-80b7-f5c7009c8c35 div.sk-estimator:hover label.sk-toggleable__label-arrow:before {color: black;}#sk-f7548e6a-4411-434d-80b7-f5c7009c8c35 div.sk-toggleable__content {max-height: 0;max-width: 0;overflow: hidden;text-align: left;background-color: #f0f8ff;}#sk-f7548e6a-4411-434d-80b7-f5c7009c8c35 div.sk-toggleable__content pre {margin: 0.2em;color: black;border-radius: 0.25em;background-color: #f0f8ff;}#sk-f7548e6a-4411-434d-80b7-f5c7009c8c35 input.sk-toggleable__control:checked~div.sk-toggleable__content {max-height: 200px;max-width: 100%;overflow: auto;}#sk-f7548e6a-4411-434d-80b7-f5c7009c8c35 input.sk-toggleable__control:checked~label.sk-toggleable__label-arrow:before {content: \"▾\";}#sk-f7548e6a-4411-434d-80b7-f5c7009c8c35 div.sk-estimator input.sk-toggleable__control:checked~label.sk-toggleable__label {background-color: #d4ebff;}#sk-f7548e6a-4411-434d-80b7-f5c7009c8c35 div.sk-label input.sk-toggleable__control:checked~label.sk-toggleable__label {background-color: #d4ebff;}#sk-f7548e6a-4411-434d-80b7-f5c7009c8c35 input.sk-hidden--visually {border: 0;clip: rect(1px 1px 1px 1px);clip: rect(1px, 1px, 1px, 1px);height: 1px;margin: -1px;overflow: hidden;padding: 0;position: absolute;width: 1px;}#sk-f7548e6a-4411-434d-80b7-f5c7009c8c35 div.sk-estimator {font-family: monospace;background-color: #f0f8ff;border: 1px dotted black;border-radius: 0.25em;box-sizing: border-box;margin-bottom: 0.5em;}#sk-f7548e6a-4411-434d-80b7-f5c7009c8c35 div.sk-estimator:hover {background-color: #d4ebff;}#sk-f7548e6a-4411-434d-80b7-f5c7009c8c35 div.sk-parallel-item::after {content: \"\";width: 100%;border-bottom: 1px solid gray;flex-grow: 1;}#sk-f7548e6a-4411-434d-80b7-f5c7009c8c35 div.sk-label:hover label.sk-toggleable__label {background-color: #d4ebff;}#sk-f7548e6a-4411-434d-80b7-f5c7009c8c35 div.sk-serial::before {content: \"\";position: absolute;border-left: 1px solid gray;box-sizing: border-box;top: 2em;bottom: 0;left: 50%;}#sk-f7548e6a-4411-434d-80b7-f5c7009c8c35 div.sk-serial {display: flex;flex-direction: column;align-items: center;background-color: white;padding-right: 0.2em;padding-left: 0.2em;}#sk-f7548e6a-4411-434d-80b7-f5c7009c8c35 div.sk-item {z-index: 1;}#sk-f7548e6a-4411-434d-80b7-f5c7009c8c35 div.sk-parallel {display: flex;align-items: stretch;justify-content: center;background-color: white;}#sk-f7548e6a-4411-434d-80b7-f5c7009c8c35 div.sk-parallel::before {content: \"\";position: absolute;border-left: 1px solid gray;box-sizing: border-box;top: 2em;bottom: 0;left: 50%;}#sk-f7548e6a-4411-434d-80b7-f5c7009c8c35 div.sk-parallel-item {display: flex;flex-direction: column;position: relative;background-color: white;}#sk-f7548e6a-4411-434d-80b7-f5c7009c8c35 div.sk-parallel-item:first-child::after {align-self: flex-end;width: 50%;}#sk-f7548e6a-4411-434d-80b7-f5c7009c8c35 div.sk-parallel-item:last-child::after {align-self: flex-start;width: 50%;}#sk-f7548e6a-4411-434d-80b7-f5c7009c8c35 div.sk-parallel-item:only-child::after {width: 0;}#sk-f7548e6a-4411-434d-80b7-f5c7009c8c35 div.sk-dashed-wrapped {border: 1px dashed gray;margin: 0 0.4em 0.5em 0.4em;box-sizing: border-box;padding-bottom: 0.4em;background-color: white;position: relative;}#sk-f7548e6a-4411-434d-80b7-f5c7009c8c35 div.sk-label label {font-family: monospace;font-weight: bold;background-color: white;display: inline-block;line-height: 1.2em;}#sk-f7548e6a-4411-434d-80b7-f5c7009c8c35 div.sk-label-container {position: relative;z-index: 2;text-align: center;}#sk-f7548e6a-4411-434d-80b7-f5c7009c8c35 div.sk-container {/* jupyter's `normalize.less` sets `[hidden] { display: none; }` but bootstrap.min.css set `[hidden] { display: none !important; }` so we also need the `!important` here to be able to override the default hidden behavior on the sphinx rendered scikit-learn.org. See: https://github.com/scikit-learn/scikit-learn/issues/21755 */display: inline-block !important;position: relative;}#sk-f7548e6a-4411-434d-80b7-f5c7009c8c35 div.sk-text-repr-fallback {display: none;}</style><div id=\"sk-f7548e6a-4411-434d-80b7-f5c7009c8c35\" class=\"sk-top-container\"><div class=\"sk-text-repr-fallback\"><pre>Pipeline(steps=[(&#x27;pipeline-1&#x27;,\n",
       "                 Pipeline(steps=[(&#x27;imputer&#x27;,\n",
       "                                  SimpleImputer(strategy=&#x27;most_frequent&#x27;))])),\n",
       "                (&#x27;pipeline-2&#x27;,\n",
       "                 Pipeline(steps=[(&#x27;replace_non_numeric&#x27;,\n",
       "                                  SimpleImputer(fill_value=nan,\n",
       "                                                strategy=&#x27;constant&#x27;)),\n",
       "                                 (&#x27;impute_avg_cost&#x27;,\n",
       "                                  SimpleImputer(strategy=&#x27;median&#x27;)),\n",
       "                                 (&#x27;impute_price_range&#x27;,\n",
       "                                  SimpleImputer(missing_values=-1,\n",
       "                                                strategy=&#x27;median&#x27;))])),\n",
       "                (&#x27;pipeline-3&#x27;,\n",
       "                 P...[(&#x27;map_cats&#x27;,\n",
       "                                  FunctionTransformer(func=&lt;function map_cats at 0x0000018055FB89D0&gt;))])),\n",
       "                (&#x27;pipeline-4&#x27;,\n",
       "                 Pipeline(steps=[(&#x27;factorize_columns&#x27;,\n",
       "                                  FunctionTransformer(func=&lt;function &lt;lambda&gt; at 0x000001805603E160&gt;))])),\n",
       "                (&#x27;pipeline-5&#x27;,\n",
       "                 Pipeline(steps=[(&#x27;cap_data&#x27;,\n",
       "                                  FunctionTransformer(func=&lt;function cap_data at 0x00000180554BAEE0&gt;))])),\n",
       "                (&#x27;standardscaler&#x27;, StandardScaler())])</pre><b>Please rerun this cell to show the HTML repr or trust the notebook.</b></div><div class=\"sk-container\" hidden><div class=\"sk-item sk-dashed-wrapped\"><div class=\"sk-label-container\"><div class=\"sk-label sk-toggleable\"><input class=\"sk-toggleable__control sk-hidden--visually\" id=\"c0f041b5-9f9d-4e23-8db2-b6bb0f4a0127\" type=\"checkbox\" ><label for=\"c0f041b5-9f9d-4e23-8db2-b6bb0f4a0127\" class=\"sk-toggleable__label sk-toggleable__label-arrow\">Pipeline</label><div class=\"sk-toggleable__content\"><pre>Pipeline(steps=[(&#x27;pipeline-1&#x27;,\n",
       "                 Pipeline(steps=[(&#x27;imputer&#x27;,\n",
       "                                  SimpleImputer(strategy=&#x27;most_frequent&#x27;))])),\n",
       "                (&#x27;pipeline-2&#x27;,\n",
       "                 Pipeline(steps=[(&#x27;replace_non_numeric&#x27;,\n",
       "                                  SimpleImputer(fill_value=nan,\n",
       "                                                strategy=&#x27;constant&#x27;)),\n",
       "                                 (&#x27;impute_avg_cost&#x27;,\n",
       "                                  SimpleImputer(strategy=&#x27;median&#x27;)),\n",
       "                                 (&#x27;impute_price_range&#x27;,\n",
       "                                  SimpleImputer(missing_values=-1,\n",
       "                                                strategy=&#x27;median&#x27;))])),\n",
       "                (&#x27;pipeline-3&#x27;,\n",
       "                 P...[(&#x27;map_cats&#x27;,\n",
       "                                  FunctionTransformer(func=&lt;function map_cats at 0x0000018055FB89D0&gt;))])),\n",
       "                (&#x27;pipeline-4&#x27;,\n",
       "                 Pipeline(steps=[(&#x27;factorize_columns&#x27;,\n",
       "                                  FunctionTransformer(func=&lt;function &lt;lambda&gt; at 0x000001805603E160&gt;))])),\n",
       "                (&#x27;pipeline-5&#x27;,\n",
       "                 Pipeline(steps=[(&#x27;cap_data&#x27;,\n",
       "                                  FunctionTransformer(func=&lt;function cap_data at 0x00000180554BAEE0&gt;))])),\n",
       "                (&#x27;standardscaler&#x27;, StandardScaler())])</pre></div></div></div><div class=\"sk-serial\"><div class=\"sk-item\"><div class=\"sk-label-container\"><div class=\"sk-label sk-toggleable\"><input class=\"sk-toggleable__control sk-hidden--visually\" id=\"06029716-7aa7-4652-8b5c-3116c297828d\" type=\"checkbox\" ><label for=\"06029716-7aa7-4652-8b5c-3116c297828d\" class=\"sk-toggleable__label sk-toggleable__label-arrow\">pipeline-1: Pipeline</label><div class=\"sk-toggleable__content\"><pre>Pipeline(steps=[(&#x27;imputer&#x27;, SimpleImputer(strategy=&#x27;most_frequent&#x27;))])</pre></div></div></div><div class=\"sk-serial\"><div class=\"sk-item\"><div class=\"sk-estimator sk-toggleable\"><input class=\"sk-toggleable__control sk-hidden--visually\" id=\"473500c8-42b4-4c4f-9bbd-dd533edad053\" type=\"checkbox\" ><label for=\"473500c8-42b4-4c4f-9bbd-dd533edad053\" class=\"sk-toggleable__label sk-toggleable__label-arrow\">SimpleImputer</label><div class=\"sk-toggleable__content\"><pre>SimpleImputer(strategy=&#x27;most_frequent&#x27;)</pre></div></div></div></div></div><div class=\"sk-item\"><div class=\"sk-label-container\"><div class=\"sk-label sk-toggleable\"><input class=\"sk-toggleable__control sk-hidden--visually\" id=\"de4dff29-7c17-474a-abfa-49c76f81aec2\" type=\"checkbox\" ><label for=\"de4dff29-7c17-474a-abfa-49c76f81aec2\" class=\"sk-toggleable__label sk-toggleable__label-arrow\">pipeline-2: Pipeline</label><div class=\"sk-toggleable__content\"><pre>Pipeline(steps=[(&#x27;replace_non_numeric&#x27;,\n",
       "                 SimpleImputer(fill_value=nan, strategy=&#x27;constant&#x27;)),\n",
       "                (&#x27;impute_avg_cost&#x27;, SimpleImputer(strategy=&#x27;median&#x27;)),\n",
       "                (&#x27;impute_price_range&#x27;,\n",
       "                 SimpleImputer(missing_values=-1, strategy=&#x27;median&#x27;))])</pre></div></div></div><div class=\"sk-serial\"><div class=\"sk-item\"><div class=\"sk-estimator sk-toggleable\"><input class=\"sk-toggleable__control sk-hidden--visually\" id=\"1ab7da4c-8f4c-4fe8-b0bf-7a3381807a3f\" type=\"checkbox\" ><label for=\"1ab7da4c-8f4c-4fe8-b0bf-7a3381807a3f\" class=\"sk-toggleable__label sk-toggleable__label-arrow\">SimpleImputer</label><div class=\"sk-toggleable__content\"><pre>SimpleImputer(fill_value=nan, strategy=&#x27;constant&#x27;)</pre></div></div></div><div class=\"sk-item\"><div class=\"sk-estimator sk-toggleable\"><input class=\"sk-toggleable__control sk-hidden--visually\" id=\"836accba-06e8-4c4b-9bc1-788be5cd916d\" type=\"checkbox\" ><label for=\"836accba-06e8-4c4b-9bc1-788be5cd916d\" class=\"sk-toggleable__label sk-toggleable__label-arrow\">SimpleImputer</label><div class=\"sk-toggleable__content\"><pre>SimpleImputer(strategy=&#x27;median&#x27;)</pre></div></div></div><div class=\"sk-item\"><div class=\"sk-estimator sk-toggleable\"><input class=\"sk-toggleable__control sk-hidden--visually\" id=\"1cca1417-466e-473d-834a-d61080719390\" type=\"checkbox\" ><label for=\"1cca1417-466e-473d-834a-d61080719390\" class=\"sk-toggleable__label sk-toggleable__label-arrow\">SimpleImputer</label><div class=\"sk-toggleable__content\"><pre>SimpleImputer(missing_values=-1, strategy=&#x27;median&#x27;)</pre></div></div></div></div></div><div class=\"sk-item\"><div class=\"sk-label-container\"><div class=\"sk-label sk-toggleable\"><input class=\"sk-toggleable__control sk-hidden--visually\" id=\"32b57716-0833-4119-a469-d5cb940e7f47\" type=\"checkbox\" ><label for=\"32b57716-0833-4119-a469-d5cb940e7f47\" class=\"sk-toggleable__label sk-toggleable__label-arrow\">pipeline-3: Pipeline</label><div class=\"sk-toggleable__content\"><pre>Pipeline(steps=[(&#x27;map_cats&#x27;,\n",
       "                 FunctionTransformer(func=&lt;function map_cats at 0x0000018055FB89D0&gt;))])</pre></div></div></div><div class=\"sk-serial\"><div class=\"sk-item\"><div class=\"sk-estimator sk-toggleable\"><input class=\"sk-toggleable__control sk-hidden--visually\" id=\"ccf2569e-7bb5-483c-8a4d-f7d0216dece7\" type=\"checkbox\" ><label for=\"ccf2569e-7bb5-483c-8a4d-f7d0216dece7\" class=\"sk-toggleable__label sk-toggleable__label-arrow\">FunctionTransformer</label><div class=\"sk-toggleable__content\"><pre>FunctionTransformer(func=&lt;function map_cats at 0x0000018055FB89D0&gt;)</pre></div></div></div></div></div><div class=\"sk-item\"><div class=\"sk-label-container\"><div class=\"sk-label sk-toggleable\"><input class=\"sk-toggleable__control sk-hidden--visually\" id=\"8d96bf87-4bb3-438c-9f80-f80485f5b6cd\" type=\"checkbox\" ><label for=\"8d96bf87-4bb3-438c-9f80-f80485f5b6cd\" class=\"sk-toggleable__label sk-toggleable__label-arrow\">pipeline-4: Pipeline</label><div class=\"sk-toggleable__content\"><pre>Pipeline(steps=[(&#x27;factorize_columns&#x27;,\n",
       "                 FunctionTransformer(func=&lt;function &lt;lambda&gt; at 0x000001805603E160&gt;))])</pre></div></div></div><div class=\"sk-serial\"><div class=\"sk-item\"><div class=\"sk-estimator sk-toggleable\"><input class=\"sk-toggleable__control sk-hidden--visually\" id=\"9dbcd06d-807c-47c3-9709-f44c684c2975\" type=\"checkbox\" ><label for=\"9dbcd06d-807c-47c3-9709-f44c684c2975\" class=\"sk-toggleable__label sk-toggleable__label-arrow\">FunctionTransformer</label><div class=\"sk-toggleable__content\"><pre>FunctionTransformer(func=&lt;function &lt;lambda&gt; at 0x000001805603E160&gt;)</pre></div></div></div></div></div><div class=\"sk-item\"><div class=\"sk-label-container\"><div class=\"sk-label sk-toggleable\"><input class=\"sk-toggleable__control sk-hidden--visually\" id=\"2c954554-e225-49c9-a866-80c2101f1be0\" type=\"checkbox\" ><label for=\"2c954554-e225-49c9-a866-80c2101f1be0\" class=\"sk-toggleable__label sk-toggleable__label-arrow\">pipeline-5: Pipeline</label><div class=\"sk-toggleable__content\"><pre>Pipeline(steps=[(&#x27;cap_data&#x27;,\n",
       "                 FunctionTransformer(func=&lt;function cap_data at 0x00000180554BAEE0&gt;))])</pre></div></div></div><div class=\"sk-serial\"><div class=\"sk-item\"><div class=\"sk-estimator sk-toggleable\"><input class=\"sk-toggleable__control sk-hidden--visually\" id=\"2ef2b03b-f9eb-4af9-bc2b-22a85ff5ef99\" type=\"checkbox\" ><label for=\"2ef2b03b-f9eb-4af9-bc2b-22a85ff5ef99\" class=\"sk-toggleable__label sk-toggleable__label-arrow\">FunctionTransformer</label><div class=\"sk-toggleable__content\"><pre>FunctionTransformer(func=&lt;function cap_data at 0x00000180554BAEE0&gt;)</pre></div></div></div></div></div><div class=\"sk-item\"><div class=\"sk-estimator sk-toggleable\"><input class=\"sk-toggleable__control sk-hidden--visually\" id=\"0144ef30-01e6-4b34-a556-dbbaff639c4f\" type=\"checkbox\" ><label for=\"0144ef30-01e6-4b34-a556-dbbaff639c4f\" class=\"sk-toggleable__label sk-toggleable__label-arrow\">StandardScaler</label><div class=\"sk-toggleable__content\"><pre>StandardScaler()</pre></div></div></div></div></div></div></div>"
      ],
      "text/plain": [
       "Pipeline(steps=[('pipeline-1',\n",
       "                 Pipeline(steps=[('imputer',\n",
       "                                  SimpleImputer(strategy='most_frequent'))])),\n",
       "                ('pipeline-2',\n",
       "                 Pipeline(steps=[('replace_non_numeric',\n",
       "                                  SimpleImputer(fill_value=nan,\n",
       "                                                strategy='constant')),\n",
       "                                 ('impute_avg_cost',\n",
       "                                  SimpleImputer(strategy='median')),\n",
       "                                 ('impute_price_range',\n",
       "                                  SimpleImputer(missing_values=-1,\n",
       "                                                strategy='median'))])),\n",
       "                ('pipeline-3',\n",
       "                 P...[('map_cats',\n",
       "                                  FunctionTransformer(func=<function map_cats at 0x0000018055FB89D0>))])),\n",
       "                ('pipeline-4',\n",
       "                 Pipeline(steps=[('factorize_columns',\n",
       "                                  FunctionTransformer(func=<function <lambda> at 0x000001805603E160>))])),\n",
       "                ('pipeline-5',\n",
       "                 Pipeline(steps=[('cap_data',\n",
       "                                  FunctionTransformer(func=<function cap_data at 0x00000180554BAEE0>))])),\n",
       "                ('standardscaler', StandardScaler())])"
      ]
     },
     "execution_count": 12,
     "metadata": {},
     "output_type": "execute_result"
    }
   ],
   "source": [
    "preprocessor"
   ]
  },
  {
   "cell_type": "markdown",
   "id": "9764367d",
   "metadata": {},
   "source": [
    "# INPUT OUTPUT COLUMN SEAPARATION"
   ]
  },
  {
   "cell_type": "code",
   "execution_count": 13,
   "id": "4a83e051",
   "metadata": {},
   "outputs": [],
   "source": [
    "#splitting data into independent and dependant or target variables\n",
    "X = df1.drop(['Aggregate rating'], axis=1)\n",
    "y = df1['Aggregate rating']"
   ]
  },
  {
   "cell_type": "markdown",
   "id": "3307f5f5",
   "metadata": {
    "scrolled": true
   },
   "source": [
    "# TRAIN TEST SPLIT"
   ]
  },
  {
   "cell_type": "code",
   "execution_count": 14,
   "id": "9c1c0666",
   "metadata": {},
   "outputs": [],
   "source": [
    "#from sklearn.model_selection import train_test_split\n",
    "# assuming X is your feature data and y is your target variable\n",
    "X_train, X_test, y_train, y_test = train_test_split(X, y, test_size=0.2)\n"
   ]
  },
  {
   "cell_type": "code",
   "execution_count": 15,
   "id": "e097021e",
   "metadata": {},
   "outputs": [],
   "source": [
    "knn = KNeighborsRegressor(n_neighbors = 7)\n",
    "knn_pipeline = Pipeline([\n",
    "    ('preprocessor', preprocessor),\n",
    "    ('knn', KNeighborsRegressor(n_neighbors = 7))\n",
    "])\n"
   ]
  },
  {
   "cell_type": "code",
   "execution_count": 16,
   "id": "95e17b9a",
   "metadata": {
    "scrolled": true
   },
   "outputs": [
    {
     "data": {
      "text/html": [
       "<style>#sk-5e6a7c0b-ca24-4017-9dcc-8ec9846110ec {color: black;background-color: white;}#sk-5e6a7c0b-ca24-4017-9dcc-8ec9846110ec pre{padding: 0;}#sk-5e6a7c0b-ca24-4017-9dcc-8ec9846110ec div.sk-toggleable {background-color: white;}#sk-5e6a7c0b-ca24-4017-9dcc-8ec9846110ec label.sk-toggleable__label {cursor: pointer;display: block;width: 100%;margin-bottom: 0;padding: 0.3em;box-sizing: border-box;text-align: center;}#sk-5e6a7c0b-ca24-4017-9dcc-8ec9846110ec label.sk-toggleable__label-arrow:before {content: \"▸\";float: left;margin-right: 0.25em;color: #696969;}#sk-5e6a7c0b-ca24-4017-9dcc-8ec9846110ec label.sk-toggleable__label-arrow:hover:before {color: black;}#sk-5e6a7c0b-ca24-4017-9dcc-8ec9846110ec div.sk-estimator:hover label.sk-toggleable__label-arrow:before {color: black;}#sk-5e6a7c0b-ca24-4017-9dcc-8ec9846110ec div.sk-toggleable__content {max-height: 0;max-width: 0;overflow: hidden;text-align: left;background-color: #f0f8ff;}#sk-5e6a7c0b-ca24-4017-9dcc-8ec9846110ec div.sk-toggleable__content pre {margin: 0.2em;color: black;border-radius: 0.25em;background-color: #f0f8ff;}#sk-5e6a7c0b-ca24-4017-9dcc-8ec9846110ec input.sk-toggleable__control:checked~div.sk-toggleable__content {max-height: 200px;max-width: 100%;overflow: auto;}#sk-5e6a7c0b-ca24-4017-9dcc-8ec9846110ec input.sk-toggleable__control:checked~label.sk-toggleable__label-arrow:before {content: \"▾\";}#sk-5e6a7c0b-ca24-4017-9dcc-8ec9846110ec div.sk-estimator input.sk-toggleable__control:checked~label.sk-toggleable__label {background-color: #d4ebff;}#sk-5e6a7c0b-ca24-4017-9dcc-8ec9846110ec div.sk-label input.sk-toggleable__control:checked~label.sk-toggleable__label {background-color: #d4ebff;}#sk-5e6a7c0b-ca24-4017-9dcc-8ec9846110ec input.sk-hidden--visually {border: 0;clip: rect(1px 1px 1px 1px);clip: rect(1px, 1px, 1px, 1px);height: 1px;margin: -1px;overflow: hidden;padding: 0;position: absolute;width: 1px;}#sk-5e6a7c0b-ca24-4017-9dcc-8ec9846110ec div.sk-estimator {font-family: monospace;background-color: #f0f8ff;border: 1px dotted black;border-radius: 0.25em;box-sizing: border-box;margin-bottom: 0.5em;}#sk-5e6a7c0b-ca24-4017-9dcc-8ec9846110ec div.sk-estimator:hover {background-color: #d4ebff;}#sk-5e6a7c0b-ca24-4017-9dcc-8ec9846110ec div.sk-parallel-item::after {content: \"\";width: 100%;border-bottom: 1px solid gray;flex-grow: 1;}#sk-5e6a7c0b-ca24-4017-9dcc-8ec9846110ec div.sk-label:hover label.sk-toggleable__label {background-color: #d4ebff;}#sk-5e6a7c0b-ca24-4017-9dcc-8ec9846110ec div.sk-serial::before {content: \"\";position: absolute;border-left: 1px solid gray;box-sizing: border-box;top: 2em;bottom: 0;left: 50%;}#sk-5e6a7c0b-ca24-4017-9dcc-8ec9846110ec div.sk-serial {display: flex;flex-direction: column;align-items: center;background-color: white;padding-right: 0.2em;padding-left: 0.2em;}#sk-5e6a7c0b-ca24-4017-9dcc-8ec9846110ec div.sk-item {z-index: 1;}#sk-5e6a7c0b-ca24-4017-9dcc-8ec9846110ec div.sk-parallel {display: flex;align-items: stretch;justify-content: center;background-color: white;}#sk-5e6a7c0b-ca24-4017-9dcc-8ec9846110ec div.sk-parallel::before {content: \"\";position: absolute;border-left: 1px solid gray;box-sizing: border-box;top: 2em;bottom: 0;left: 50%;}#sk-5e6a7c0b-ca24-4017-9dcc-8ec9846110ec div.sk-parallel-item {display: flex;flex-direction: column;position: relative;background-color: white;}#sk-5e6a7c0b-ca24-4017-9dcc-8ec9846110ec div.sk-parallel-item:first-child::after {align-self: flex-end;width: 50%;}#sk-5e6a7c0b-ca24-4017-9dcc-8ec9846110ec div.sk-parallel-item:last-child::after {align-self: flex-start;width: 50%;}#sk-5e6a7c0b-ca24-4017-9dcc-8ec9846110ec div.sk-parallel-item:only-child::after {width: 0;}#sk-5e6a7c0b-ca24-4017-9dcc-8ec9846110ec div.sk-dashed-wrapped {border: 1px dashed gray;margin: 0 0.4em 0.5em 0.4em;box-sizing: border-box;padding-bottom: 0.4em;background-color: white;position: relative;}#sk-5e6a7c0b-ca24-4017-9dcc-8ec9846110ec div.sk-label label {font-family: monospace;font-weight: bold;background-color: white;display: inline-block;line-height: 1.2em;}#sk-5e6a7c0b-ca24-4017-9dcc-8ec9846110ec div.sk-label-container {position: relative;z-index: 2;text-align: center;}#sk-5e6a7c0b-ca24-4017-9dcc-8ec9846110ec div.sk-container {/* jupyter's `normalize.less` sets `[hidden] { display: none; }` but bootstrap.min.css set `[hidden] { display: none !important; }` so we also need the `!important` here to be able to override the default hidden behavior on the sphinx rendered scikit-learn.org. See: https://github.com/scikit-learn/scikit-learn/issues/21755 */display: inline-block !important;position: relative;}#sk-5e6a7c0b-ca24-4017-9dcc-8ec9846110ec div.sk-text-repr-fallback {display: none;}</style><div id=\"sk-5e6a7c0b-ca24-4017-9dcc-8ec9846110ec\" class=\"sk-top-container\"><div class=\"sk-text-repr-fallback\"><pre>Pipeline(steps=[(&#x27;preprocessor&#x27;,\n",
       "                 Pipeline(steps=[(&#x27;pipeline-1&#x27;,\n",
       "                                  Pipeline(steps=[(&#x27;imputer&#x27;,\n",
       "                                                   SimpleImputer(strategy=&#x27;most_frequent&#x27;))])),\n",
       "                                 (&#x27;pipeline-2&#x27;,\n",
       "                                  Pipeline(steps=[(&#x27;replace_non_numeric&#x27;,\n",
       "                                                   SimpleImputer(fill_value=nan,\n",
       "                                                                 strategy=&#x27;constant&#x27;)),\n",
       "                                                  (&#x27;impute_avg_cost&#x27;,\n",
       "                                                   SimpleImputer(strategy=&#x27;median&#x27;)),\n",
       "                                                  (&#x27;impute_price_range&#x27;,\n",
       "                                                   SimpleImputer(missing_values=-1,\n",
       "                                                                 strate...\n",
       "                                                   FunctionTransformer(func=&lt;function map_cats at 0x0000018055FB89D0&gt;))])),\n",
       "                                 (&#x27;pipeline-4&#x27;,\n",
       "                                  Pipeline(steps=[(&#x27;factorize_columns&#x27;,\n",
       "                                                   FunctionTransformer(func=&lt;function &lt;lambda&gt; at 0x000001805603E160&gt;))])),\n",
       "                                 (&#x27;pipeline-5&#x27;,\n",
       "                                  Pipeline(steps=[(&#x27;cap_data&#x27;,\n",
       "                                                   FunctionTransformer(func=&lt;function cap_data at 0x00000180554BAEE0&gt;))])),\n",
       "                                 (&#x27;standardscaler&#x27;, StandardScaler())])),\n",
       "                (&#x27;knn&#x27;, KNeighborsRegressor(n_neighbors=7))])</pre><b>Please rerun this cell to show the HTML repr or trust the notebook.</b></div><div class=\"sk-container\" hidden><div class=\"sk-item sk-dashed-wrapped\"><div class=\"sk-label-container\"><div class=\"sk-label sk-toggleable\"><input class=\"sk-toggleable__control sk-hidden--visually\" id=\"f5b24fe3-1663-4009-bcca-f4637c42a1a5\" type=\"checkbox\" ><label for=\"f5b24fe3-1663-4009-bcca-f4637c42a1a5\" class=\"sk-toggleable__label sk-toggleable__label-arrow\">Pipeline</label><div class=\"sk-toggleable__content\"><pre>Pipeline(steps=[(&#x27;preprocessor&#x27;,\n",
       "                 Pipeline(steps=[(&#x27;pipeline-1&#x27;,\n",
       "                                  Pipeline(steps=[(&#x27;imputer&#x27;,\n",
       "                                                   SimpleImputer(strategy=&#x27;most_frequent&#x27;))])),\n",
       "                                 (&#x27;pipeline-2&#x27;,\n",
       "                                  Pipeline(steps=[(&#x27;replace_non_numeric&#x27;,\n",
       "                                                   SimpleImputer(fill_value=nan,\n",
       "                                                                 strategy=&#x27;constant&#x27;)),\n",
       "                                                  (&#x27;impute_avg_cost&#x27;,\n",
       "                                                   SimpleImputer(strategy=&#x27;median&#x27;)),\n",
       "                                                  (&#x27;impute_price_range&#x27;,\n",
       "                                                   SimpleImputer(missing_values=-1,\n",
       "                                                                 strate...\n",
       "                                                   FunctionTransformer(func=&lt;function map_cats at 0x0000018055FB89D0&gt;))])),\n",
       "                                 (&#x27;pipeline-4&#x27;,\n",
       "                                  Pipeline(steps=[(&#x27;factorize_columns&#x27;,\n",
       "                                                   FunctionTransformer(func=&lt;function &lt;lambda&gt; at 0x000001805603E160&gt;))])),\n",
       "                                 (&#x27;pipeline-5&#x27;,\n",
       "                                  Pipeline(steps=[(&#x27;cap_data&#x27;,\n",
       "                                                   FunctionTransformer(func=&lt;function cap_data at 0x00000180554BAEE0&gt;))])),\n",
       "                                 (&#x27;standardscaler&#x27;, StandardScaler())])),\n",
       "                (&#x27;knn&#x27;, KNeighborsRegressor(n_neighbors=7))])</pre></div></div></div><div class=\"sk-serial\"><div class=\"sk-item\"><div class=\"sk-label-container\"><div class=\"sk-label sk-toggleable\"><input class=\"sk-toggleable__control sk-hidden--visually\" id=\"d7232826-e9a9-4423-b6f4-4d8e140010ae\" type=\"checkbox\" ><label for=\"d7232826-e9a9-4423-b6f4-4d8e140010ae\" class=\"sk-toggleable__label sk-toggleable__label-arrow\">preprocessor: Pipeline</label><div class=\"sk-toggleable__content\"><pre>Pipeline(steps=[(&#x27;pipeline-1&#x27;,\n",
       "                 Pipeline(steps=[(&#x27;imputer&#x27;,\n",
       "                                  SimpleImputer(strategy=&#x27;most_frequent&#x27;))])),\n",
       "                (&#x27;pipeline-2&#x27;,\n",
       "                 Pipeline(steps=[(&#x27;replace_non_numeric&#x27;,\n",
       "                                  SimpleImputer(fill_value=nan,\n",
       "                                                strategy=&#x27;constant&#x27;)),\n",
       "                                 (&#x27;impute_avg_cost&#x27;,\n",
       "                                  SimpleImputer(strategy=&#x27;median&#x27;)),\n",
       "                                 (&#x27;impute_price_range&#x27;,\n",
       "                                  SimpleImputer(missing_values=-1,\n",
       "                                                strategy=&#x27;median&#x27;))])),\n",
       "                (&#x27;pipeline-3&#x27;,\n",
       "                 P...[(&#x27;map_cats&#x27;,\n",
       "                                  FunctionTransformer(func=&lt;function map_cats at 0x0000018055FB89D0&gt;))])),\n",
       "                (&#x27;pipeline-4&#x27;,\n",
       "                 Pipeline(steps=[(&#x27;factorize_columns&#x27;,\n",
       "                                  FunctionTransformer(func=&lt;function &lt;lambda&gt; at 0x000001805603E160&gt;))])),\n",
       "                (&#x27;pipeline-5&#x27;,\n",
       "                 Pipeline(steps=[(&#x27;cap_data&#x27;,\n",
       "                                  FunctionTransformer(func=&lt;function cap_data at 0x00000180554BAEE0&gt;))])),\n",
       "                (&#x27;standardscaler&#x27;, StandardScaler())])</pre></div></div></div><div class=\"sk-serial\"><div class=\"sk-item\"><div class=\"sk-label-container\"><div class=\"sk-label sk-toggleable\"><input class=\"sk-toggleable__control sk-hidden--visually\" id=\"42e396ad-0c14-40c3-8944-ac5f358cb98d\" type=\"checkbox\" ><label for=\"42e396ad-0c14-40c3-8944-ac5f358cb98d\" class=\"sk-toggleable__label sk-toggleable__label-arrow\">pipeline-1: Pipeline</label><div class=\"sk-toggleable__content\"><pre>Pipeline(steps=[(&#x27;imputer&#x27;, SimpleImputer(strategy=&#x27;most_frequent&#x27;))])</pre></div></div></div><div class=\"sk-serial\"><div class=\"sk-item\"><div class=\"sk-estimator sk-toggleable\"><input class=\"sk-toggleable__control sk-hidden--visually\" id=\"20e6ee22-d3e2-48a6-8919-a26616dd508e\" type=\"checkbox\" ><label for=\"20e6ee22-d3e2-48a6-8919-a26616dd508e\" class=\"sk-toggleable__label sk-toggleable__label-arrow\">SimpleImputer</label><div class=\"sk-toggleable__content\"><pre>SimpleImputer(strategy=&#x27;most_frequent&#x27;)</pre></div></div></div></div></div><div class=\"sk-item\"><div class=\"sk-label-container\"><div class=\"sk-label sk-toggleable\"><input class=\"sk-toggleable__control sk-hidden--visually\" id=\"2f248987-9636-4f96-a4fa-31f870d5caad\" type=\"checkbox\" ><label for=\"2f248987-9636-4f96-a4fa-31f870d5caad\" class=\"sk-toggleable__label sk-toggleable__label-arrow\">pipeline-2: Pipeline</label><div class=\"sk-toggleable__content\"><pre>Pipeline(steps=[(&#x27;replace_non_numeric&#x27;,\n",
       "                 SimpleImputer(fill_value=nan, strategy=&#x27;constant&#x27;)),\n",
       "                (&#x27;impute_avg_cost&#x27;, SimpleImputer(strategy=&#x27;median&#x27;)),\n",
       "                (&#x27;impute_price_range&#x27;,\n",
       "                 SimpleImputer(missing_values=-1, strategy=&#x27;median&#x27;))])</pre></div></div></div><div class=\"sk-serial\"><div class=\"sk-item\"><div class=\"sk-estimator sk-toggleable\"><input class=\"sk-toggleable__control sk-hidden--visually\" id=\"fe33ccaa-c4ce-408f-b578-919e581e5bdf\" type=\"checkbox\" ><label for=\"fe33ccaa-c4ce-408f-b578-919e581e5bdf\" class=\"sk-toggleable__label sk-toggleable__label-arrow\">SimpleImputer</label><div class=\"sk-toggleable__content\"><pre>SimpleImputer(fill_value=nan, strategy=&#x27;constant&#x27;)</pre></div></div></div><div class=\"sk-item\"><div class=\"sk-estimator sk-toggleable\"><input class=\"sk-toggleable__control sk-hidden--visually\" id=\"fd353c6c-60ff-4b14-8f06-f7a07f1ff3c1\" type=\"checkbox\" ><label for=\"fd353c6c-60ff-4b14-8f06-f7a07f1ff3c1\" class=\"sk-toggleable__label sk-toggleable__label-arrow\">SimpleImputer</label><div class=\"sk-toggleable__content\"><pre>SimpleImputer(strategy=&#x27;median&#x27;)</pre></div></div></div><div class=\"sk-item\"><div class=\"sk-estimator sk-toggleable\"><input class=\"sk-toggleable__control sk-hidden--visually\" id=\"45b8a1b6-0154-4686-9fc1-6538f8b0fc35\" type=\"checkbox\" ><label for=\"45b8a1b6-0154-4686-9fc1-6538f8b0fc35\" class=\"sk-toggleable__label sk-toggleable__label-arrow\">SimpleImputer</label><div class=\"sk-toggleable__content\"><pre>SimpleImputer(missing_values=-1, strategy=&#x27;median&#x27;)</pre></div></div></div></div></div><div class=\"sk-item\"><div class=\"sk-label-container\"><div class=\"sk-label sk-toggleable\"><input class=\"sk-toggleable__control sk-hidden--visually\" id=\"66558d2e-5355-46e0-a148-ed8df75c9189\" type=\"checkbox\" ><label for=\"66558d2e-5355-46e0-a148-ed8df75c9189\" class=\"sk-toggleable__label sk-toggleable__label-arrow\">pipeline-3: Pipeline</label><div class=\"sk-toggleable__content\"><pre>Pipeline(steps=[(&#x27;map_cats&#x27;,\n",
       "                 FunctionTransformer(func=&lt;function map_cats at 0x0000018055FB89D0&gt;))])</pre></div></div></div><div class=\"sk-serial\"><div class=\"sk-item\"><div class=\"sk-estimator sk-toggleable\"><input class=\"sk-toggleable__control sk-hidden--visually\" id=\"b8cb5208-275f-4f49-bacf-253ad0ba661f\" type=\"checkbox\" ><label for=\"b8cb5208-275f-4f49-bacf-253ad0ba661f\" class=\"sk-toggleable__label sk-toggleable__label-arrow\">FunctionTransformer</label><div class=\"sk-toggleable__content\"><pre>FunctionTransformer(func=&lt;function map_cats at 0x0000018055FB89D0&gt;)</pre></div></div></div></div></div><div class=\"sk-item\"><div class=\"sk-label-container\"><div class=\"sk-label sk-toggleable\"><input class=\"sk-toggleable__control sk-hidden--visually\" id=\"d5be8f19-dcc8-44b3-a655-588dde32b12e\" type=\"checkbox\" ><label for=\"d5be8f19-dcc8-44b3-a655-588dde32b12e\" class=\"sk-toggleable__label sk-toggleable__label-arrow\">pipeline-4: Pipeline</label><div class=\"sk-toggleable__content\"><pre>Pipeline(steps=[(&#x27;factorize_columns&#x27;,\n",
       "                 FunctionTransformer(func=&lt;function &lt;lambda&gt; at 0x000001805603E160&gt;))])</pre></div></div></div><div class=\"sk-serial\"><div class=\"sk-item\"><div class=\"sk-estimator sk-toggleable\"><input class=\"sk-toggleable__control sk-hidden--visually\" id=\"c5ecff70-e7b0-489a-9d90-af2206fd8c6f\" type=\"checkbox\" ><label for=\"c5ecff70-e7b0-489a-9d90-af2206fd8c6f\" class=\"sk-toggleable__label sk-toggleable__label-arrow\">FunctionTransformer</label><div class=\"sk-toggleable__content\"><pre>FunctionTransformer(func=&lt;function &lt;lambda&gt; at 0x000001805603E160&gt;)</pre></div></div></div></div></div><div class=\"sk-item\"><div class=\"sk-label-container\"><div class=\"sk-label sk-toggleable\"><input class=\"sk-toggleable__control sk-hidden--visually\" id=\"817bdbc6-8fea-40b2-b89a-15a0a2188c62\" type=\"checkbox\" ><label for=\"817bdbc6-8fea-40b2-b89a-15a0a2188c62\" class=\"sk-toggleable__label sk-toggleable__label-arrow\">pipeline-5: Pipeline</label><div class=\"sk-toggleable__content\"><pre>Pipeline(steps=[(&#x27;cap_data&#x27;,\n",
       "                 FunctionTransformer(func=&lt;function cap_data at 0x00000180554BAEE0&gt;))])</pre></div></div></div><div class=\"sk-serial\"><div class=\"sk-item\"><div class=\"sk-estimator sk-toggleable\"><input class=\"sk-toggleable__control sk-hidden--visually\" id=\"5d3ba1ee-f32c-45ed-8a23-2c7de8cb7794\" type=\"checkbox\" ><label for=\"5d3ba1ee-f32c-45ed-8a23-2c7de8cb7794\" class=\"sk-toggleable__label sk-toggleable__label-arrow\">FunctionTransformer</label><div class=\"sk-toggleable__content\"><pre>FunctionTransformer(func=&lt;function cap_data at 0x00000180554BAEE0&gt;)</pre></div></div></div></div></div><div class=\"sk-item\"><div class=\"sk-estimator sk-toggleable\"><input class=\"sk-toggleable__control sk-hidden--visually\" id=\"1ff06419-d59d-48ce-9e5c-584827fa9a12\" type=\"checkbox\" ><label for=\"1ff06419-d59d-48ce-9e5c-584827fa9a12\" class=\"sk-toggleable__label sk-toggleable__label-arrow\">StandardScaler</label><div class=\"sk-toggleable__content\"><pre>StandardScaler()</pre></div></div></div></div></div><div class=\"sk-item\"><div class=\"sk-estimator sk-toggleable\"><input class=\"sk-toggleable__control sk-hidden--visually\" id=\"d279009c-c27b-48eb-935d-82c7aa12727d\" type=\"checkbox\" ><label for=\"d279009c-c27b-48eb-935d-82c7aa12727d\" class=\"sk-toggleable__label sk-toggleable__label-arrow\">KNeighborsRegressor</label><div class=\"sk-toggleable__content\"><pre>KNeighborsRegressor(n_neighbors=7)</pre></div></div></div></div></div></div></div>"
      ],
      "text/plain": [
       "Pipeline(steps=[('preprocessor',\n",
       "                 Pipeline(steps=[('pipeline-1',\n",
       "                                  Pipeline(steps=[('imputer',\n",
       "                                                   SimpleImputer(strategy='most_frequent'))])),\n",
       "                                 ('pipeline-2',\n",
       "                                  Pipeline(steps=[('replace_non_numeric',\n",
       "                                                   SimpleImputer(fill_value=nan,\n",
       "                                                                 strategy='constant')),\n",
       "                                                  ('impute_avg_cost',\n",
       "                                                   SimpleImputer(strategy='median')),\n",
       "                                                  ('impute_price_range',\n",
       "                                                   SimpleImputer(missing_values=-1,\n",
       "                                                                 strate...\n",
       "                                                   FunctionTransformer(func=<function map_cats at 0x0000018055FB89D0>))])),\n",
       "                                 ('pipeline-4',\n",
       "                                  Pipeline(steps=[('factorize_columns',\n",
       "                                                   FunctionTransformer(func=<function <lambda> at 0x000001805603E160>))])),\n",
       "                                 ('pipeline-5',\n",
       "                                  Pipeline(steps=[('cap_data',\n",
       "                                                   FunctionTransformer(func=<function cap_data at 0x00000180554BAEE0>))])),\n",
       "                                 ('standardscaler', StandardScaler())])),\n",
       "                ('knn', KNeighborsRegressor(n_neighbors=7))])"
      ]
     },
     "execution_count": 16,
     "metadata": {},
     "output_type": "execute_result"
    }
   ],
   "source": [
    "knn_pipeline"
   ]
  },
  {
   "cell_type": "code",
   "execution_count": 17,
   "id": "933bd32e",
   "metadata": {},
   "outputs": [
    {
     "data": {
      "text/html": [
       "<style>#sk-b8a7fc58-a1ff-4294-90e6-d2b40b0db0be {color: black;background-color: white;}#sk-b8a7fc58-a1ff-4294-90e6-d2b40b0db0be pre{padding: 0;}#sk-b8a7fc58-a1ff-4294-90e6-d2b40b0db0be div.sk-toggleable {background-color: white;}#sk-b8a7fc58-a1ff-4294-90e6-d2b40b0db0be label.sk-toggleable__label {cursor: pointer;display: block;width: 100%;margin-bottom: 0;padding: 0.3em;box-sizing: border-box;text-align: center;}#sk-b8a7fc58-a1ff-4294-90e6-d2b40b0db0be label.sk-toggleable__label-arrow:before {content: \"▸\";float: left;margin-right: 0.25em;color: #696969;}#sk-b8a7fc58-a1ff-4294-90e6-d2b40b0db0be label.sk-toggleable__label-arrow:hover:before {color: black;}#sk-b8a7fc58-a1ff-4294-90e6-d2b40b0db0be div.sk-estimator:hover label.sk-toggleable__label-arrow:before {color: black;}#sk-b8a7fc58-a1ff-4294-90e6-d2b40b0db0be div.sk-toggleable__content {max-height: 0;max-width: 0;overflow: hidden;text-align: left;background-color: #f0f8ff;}#sk-b8a7fc58-a1ff-4294-90e6-d2b40b0db0be div.sk-toggleable__content pre {margin: 0.2em;color: black;border-radius: 0.25em;background-color: #f0f8ff;}#sk-b8a7fc58-a1ff-4294-90e6-d2b40b0db0be input.sk-toggleable__control:checked~div.sk-toggleable__content {max-height: 200px;max-width: 100%;overflow: auto;}#sk-b8a7fc58-a1ff-4294-90e6-d2b40b0db0be input.sk-toggleable__control:checked~label.sk-toggleable__label-arrow:before {content: \"▾\";}#sk-b8a7fc58-a1ff-4294-90e6-d2b40b0db0be div.sk-estimator input.sk-toggleable__control:checked~label.sk-toggleable__label {background-color: #d4ebff;}#sk-b8a7fc58-a1ff-4294-90e6-d2b40b0db0be div.sk-label input.sk-toggleable__control:checked~label.sk-toggleable__label {background-color: #d4ebff;}#sk-b8a7fc58-a1ff-4294-90e6-d2b40b0db0be input.sk-hidden--visually {border: 0;clip: rect(1px 1px 1px 1px);clip: rect(1px, 1px, 1px, 1px);height: 1px;margin: -1px;overflow: hidden;padding: 0;position: absolute;width: 1px;}#sk-b8a7fc58-a1ff-4294-90e6-d2b40b0db0be div.sk-estimator {font-family: monospace;background-color: #f0f8ff;border: 1px dotted black;border-radius: 0.25em;box-sizing: border-box;margin-bottom: 0.5em;}#sk-b8a7fc58-a1ff-4294-90e6-d2b40b0db0be div.sk-estimator:hover {background-color: #d4ebff;}#sk-b8a7fc58-a1ff-4294-90e6-d2b40b0db0be div.sk-parallel-item::after {content: \"\";width: 100%;border-bottom: 1px solid gray;flex-grow: 1;}#sk-b8a7fc58-a1ff-4294-90e6-d2b40b0db0be div.sk-label:hover label.sk-toggleable__label {background-color: #d4ebff;}#sk-b8a7fc58-a1ff-4294-90e6-d2b40b0db0be div.sk-serial::before {content: \"\";position: absolute;border-left: 1px solid gray;box-sizing: border-box;top: 2em;bottom: 0;left: 50%;}#sk-b8a7fc58-a1ff-4294-90e6-d2b40b0db0be div.sk-serial {display: flex;flex-direction: column;align-items: center;background-color: white;padding-right: 0.2em;padding-left: 0.2em;}#sk-b8a7fc58-a1ff-4294-90e6-d2b40b0db0be div.sk-item {z-index: 1;}#sk-b8a7fc58-a1ff-4294-90e6-d2b40b0db0be div.sk-parallel {display: flex;align-items: stretch;justify-content: center;background-color: white;}#sk-b8a7fc58-a1ff-4294-90e6-d2b40b0db0be div.sk-parallel::before {content: \"\";position: absolute;border-left: 1px solid gray;box-sizing: border-box;top: 2em;bottom: 0;left: 50%;}#sk-b8a7fc58-a1ff-4294-90e6-d2b40b0db0be div.sk-parallel-item {display: flex;flex-direction: column;position: relative;background-color: white;}#sk-b8a7fc58-a1ff-4294-90e6-d2b40b0db0be div.sk-parallel-item:first-child::after {align-self: flex-end;width: 50%;}#sk-b8a7fc58-a1ff-4294-90e6-d2b40b0db0be div.sk-parallel-item:last-child::after {align-self: flex-start;width: 50%;}#sk-b8a7fc58-a1ff-4294-90e6-d2b40b0db0be div.sk-parallel-item:only-child::after {width: 0;}#sk-b8a7fc58-a1ff-4294-90e6-d2b40b0db0be div.sk-dashed-wrapped {border: 1px dashed gray;margin: 0 0.4em 0.5em 0.4em;box-sizing: border-box;padding-bottom: 0.4em;background-color: white;position: relative;}#sk-b8a7fc58-a1ff-4294-90e6-d2b40b0db0be div.sk-label label {font-family: monospace;font-weight: bold;background-color: white;display: inline-block;line-height: 1.2em;}#sk-b8a7fc58-a1ff-4294-90e6-d2b40b0db0be div.sk-label-container {position: relative;z-index: 2;text-align: center;}#sk-b8a7fc58-a1ff-4294-90e6-d2b40b0db0be div.sk-container {/* jupyter's `normalize.less` sets `[hidden] { display: none; }` but bootstrap.min.css set `[hidden] { display: none !important; }` so we also need the `!important` here to be able to override the default hidden behavior on the sphinx rendered scikit-learn.org. See: https://github.com/scikit-learn/scikit-learn/issues/21755 */display: inline-block !important;position: relative;}#sk-b8a7fc58-a1ff-4294-90e6-d2b40b0db0be div.sk-text-repr-fallback {display: none;}</style><div id=\"sk-b8a7fc58-a1ff-4294-90e6-d2b40b0db0be\" class=\"sk-top-container\"><div class=\"sk-text-repr-fallback\"><pre>KNeighborsRegressor(n_neighbors=7)</pre><b>Please rerun this cell to show the HTML repr or trust the notebook.</b></div><div class=\"sk-container\" hidden><div class=\"sk-item\"><div class=\"sk-estimator sk-toggleable\"><input class=\"sk-toggleable__control sk-hidden--visually\" id=\"3106f5bc-ddfa-4de4-8301-7d60a7205e4c\" type=\"checkbox\" checked><label for=\"3106f5bc-ddfa-4de4-8301-7d60a7205e4c\" class=\"sk-toggleable__label sk-toggleable__label-arrow\">KNeighborsRegressor</label><div class=\"sk-toggleable__content\"><pre>KNeighborsRegressor(n_neighbors=7)</pre></div></div></div></div></div>"
      ],
      "text/plain": [
       "KNeighborsRegressor(n_neighbors=7)"
      ]
     },
     "execution_count": 17,
     "metadata": {},
     "output_type": "execute_result"
    }
   ],
   "source": [
    "#fitting the model\n",
    "knn.fit(X_train,y_train)"
   ]
  },
  {
   "cell_type": "code",
   "execution_count": 18,
   "id": "04daea65",
   "metadata": {},
   "outputs": [
    {
     "data": {
      "text/plain": [
       "array([2.74285714, 1.35714286, 3.2       , ..., 1.87142857, 3.01428571,\n",
       "       3.8       ])"
      ]
     },
     "execution_count": 18,
     "metadata": {},
     "output_type": "execute_result"
    }
   ],
   "source": [
    "y_pred = knn.predict(X_test)\n",
    "y_pred"
   ]
  },
  {
   "cell_type": "code",
   "execution_count": 19,
   "id": "f0c308f1",
   "metadata": {},
   "outputs": [
    {
     "name": "stdout",
     "output_type": "stream",
     "text": [
      "MSE: 1.2870737620008756\n",
      "RMSE: 1.1344927333398287\n"
     ]
    }
   ],
   "source": [
    "from sklearn.metrics import mean_squared_error\n",
    "from math import sqrt\n",
    "\n",
    "# Calculate MSE\n",
    "mse = mean_squared_error(y_test, y_pred)\n",
    "print(\"MSE:\", mse)\n",
    "\n",
    "# Calculate RMSE\n",
    "rmse = sqrt(mse)\n",
    "print(\"RMSE:\", rmse)\n"
   ]
  }
 ],
 "metadata": {
  "kernelspec": {
   "display_name": "Python 3 (ipykernel)",
   "language": "python",
   "name": "python3"
  },
  "language_info": {
   "codemirror_mode": {
    "name": "ipython",
    "version": 3
   },
   "file_extension": ".py",
   "mimetype": "text/x-python",
   "name": "python",
   "nbconvert_exporter": "python",
   "pygments_lexer": "ipython3",
   "version": "3.9.13"
  }
 },
 "nbformat": 4,
 "nbformat_minor": 5
}
