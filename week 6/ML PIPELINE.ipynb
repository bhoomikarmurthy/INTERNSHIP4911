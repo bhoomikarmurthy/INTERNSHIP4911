{
 "cells": [
  {
   "cell_type": "markdown",
   "id": "1d72b64f",
   "metadata": {},
   "source": [
    "# ADVERTISING DATA"
   ]
  },
  {
   "cell_type": "markdown",
   "id": "4df97576",
   "metadata": {},
   "source": [
    "The dataset contains statistics about the sales of a product in 200 different markets, together with advertising budgets in each of these markets for different media channels: TV, radio and newspaper.\n",
    "The sales are in thousands of units and the budget is in thousands of dollars.\n",
    "To predict the sales of the product in a particular market based on the advertising budgets for different media channels (TV, radio and newspaper) in that market using K-Nearest Neighbors (KNN) regression."
   ]
  },
  {
   "cell_type": "code",
   "execution_count": 3,
   "id": "451e2815",
   "metadata": {},
   "outputs": [
    {
     "name": "stdout",
     "output_type": "stream",
     "text": [
      "Best parameters: {'knn__n_neighbors': 4}\n"
     ]
    }
   ],
   "source": [
    "#importing the necessary libraries\n",
    "import numpy as np\n",
    "import pandas as pd\n",
    "from sklearn.preprocessing import StandardScaler\n",
    "from sklearn.neighbors import KNeighborsRegressor\n",
    "from sklearn.pipeline import Pipeline\n",
    "from sklearn.model_selection import cross_val_score, train_test_split\n",
    "from sklearn.impute import SimpleImputer\n",
    "\n",
    "#reading the dataset\n",
    "df = pd.read_csv(\"Advertising.csv\")\n",
    "\n",
    "#dropping the zeroth index as it is of no use in the dataset\n",
    "df.drop(df.columns[[0]], axis=1, inplace=True)\n",
    "\n",
    "#splitting data into independent and dependant or target variables\n",
    "X = df.drop(['Sales'], axis=1)\n",
    "y = df['Sales']\n",
    "\n",
    "\n",
    "#splitting the data into train and test split\n",
    "X_train, X_test, y_train, y_test = train_test_split(X, y, test_size=0.3, random_state=42)\n",
    "\n",
    "\n",
    "#preprocessing pipeline\n",
    "preprocessor = Pipeline(steps=[\n",
    "    ('imputation_median', SimpleImputer(missing_values='NaN', strategy='median')),\n",
    "    ('scaler', StandardScaler())\n",
    "])\n",
    "\n",
    "\n",
    "#define the machine learning model pipeline\n",
    "knn = KNeighborsRegressor()\n",
    "knn_pipeline = Pipeline([\n",
    "    ('imputation_median', SimpleImputer(missing_values=np.nan, strategy='median')),\n",
    "    ('scaler', StandardScaler()),\n",
    "    ('knn', KNeighborsRegressor())\n",
    "])\n",
    "\n",
    "\n",
    "\n",
    "#defining the parameter grid \n",
    "from sklearn.model_selection import GridSearchCV\n",
    "param_grid = {\n",
    "    'knn__n_neighbors': [1,2,3,4,5,6,7,8,9,10,11,12,13,14,15,16,17,18,19,20,21]\n",
    "}\n",
    "# Define the grid search object\n",
    "grid_search = GridSearchCV(knn_pipeline, param_grid, cv=5, scoring='neg_mean_squared_error')\n",
    "\n",
    "\n",
    "#fit the model\n",
    "grid_search.fit(X_train, y_train)\n",
    "\n",
    "\n",
    "#finding best parameter\n",
    "print('Best parameters: %s' % grid_search.best_params_)"
   ]
  },
  {
   "cell_type": "code",
   "execution_count": 4,
   "id": "c6984dc5",
   "metadata": {},
   "outputs": [
    {
     "data": {
      "text/plain": [
       "Pipeline(steps=[('imputation_median', SimpleImputer(strategy='median')),\n",
       "                ('scaler', StandardScaler()), ('knn', KNeighborsRegressor())])"
      ]
     },
     "execution_count": 4,
     "metadata": {},
     "output_type": "execute_result"
    }
   ],
   "source": [
    "#fitting the model\n",
    "knn_pipeline.fit(X_train,y_train)"
   ]
  },
  {
   "cell_type": "code",
   "execution_count": 5,
   "id": "8ac359fa",
   "metadata": {},
   "outputs": [
    {
     "data": {
      "text/plain": [
       "array([17.8 , 21.62, 19.94, 11.  , 22.3 , 13.16, 22.34,  7.8 , 12.66,\n",
       "       14.86,  9.14,  7.74, 13.6 ,  7.92, 10.48, 12.2 ,  8.66, 16.26,\n",
       "       11.44, 18.56, 20.66, 11.62,  7.74, 22.48,  9.9 ,  7.9 , 21.74,\n",
       "       12.92, 10.7 ,  7.92, 11.98, 10.26, 21.7 , 11.62, 14.62, 20.24,\n",
       "        7.74, 20.2 , 11.  ,  6.76,  9.84, 12.36, 10.36,  8.66, 12.66,\n",
       "        7.44, 10.66, 14.22, 10.74, 11.94, 14.4 , 11.36, 12.12, 10.44,\n",
       "        9.06, 10.98, 11.  , 25.3 ,  7.24, 11.92])"
      ]
     },
     "execution_count": 5,
     "metadata": {},
     "output_type": "execute_result"
    }
   ],
   "source": [
    "y_pred = knn_pipeline.predict(X_test)\n",
    "y_pred"
   ]
  },
  {
   "cell_type": "code",
   "execution_count": 6,
   "id": "642917c5",
   "metadata": {},
   "outputs": [
    {
     "name": "stdout",
     "output_type": "stream",
     "text": [
      "Model accuracy: 0.911 (0.038)\n"
     ]
    }
   ],
   "source": [
    "best_estimator = grid_search.best_estimator_\n",
    "scores = cross_val_score(best_estimator, X_train, y_train, cv=5)\n",
    "print('Model accuracy: %.3f (%.3f)' % (np.mean(scores), np.std(scores)))"
   ]
  }
 ],
 "metadata": {
  "kernelspec": {
   "display_name": "Python 3 (ipykernel)",
   "language": "python",
   "name": "python3"
  },
  "language_info": {
   "codemirror_mode": {
    "name": "ipython",
    "version": 3
   },
   "file_extension": ".py",
   "mimetype": "text/x-python",
   "name": "python",
   "nbconvert_exporter": "python",
   "pygments_lexer": "ipython3",
   "version": "3.9.13"
  }
 },
 "nbformat": 4,
 "nbformat_minor": 5
}
